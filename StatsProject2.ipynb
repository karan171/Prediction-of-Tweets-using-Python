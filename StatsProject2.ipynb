{
 "cells": [
  {
   "cell_type": "markdown",
   "metadata": {
    "id": "qW9nR95VmgLZ"
   },
   "source": [
    "# FINAL PROJECT"
   ]
  },
  {
   "cell_type": "markdown",
   "metadata": {},
   "source": [
    "In this Problem, we build a machine learning model that predicts which Tweets are about real disasters and which one’s aren’t. We have a dataset of 10,000 tweets that were hand labeled.This is an NLP problem and we will be using various methods to determine the accuracy with which we can predict this."
   ]
  },
  {
   "cell_type": "markdown",
   "metadata": {
    "id": "xL2A3b8MnGz_"
   },
   "source": [
    "# Loading Packages"
   ]
  },
  {
   "cell_type": "code",
   "execution_count": 2,
   "metadata": {
    "id": "A8EV1kxI4fN6"
   },
   "outputs": [],
   "source": [
    "import pandas as pd\n",
    "import numpy as np\n",
    "import re \n",
    "import time \n",
    "import unidecode \n",
    "import nltk\n",
    "from nltk.tokenize import word_tokenize \n",
    "from nltk.stem import WordNetLemmatizer \n",
    "from autocorrect import Speller \n",
    "from bs4 import BeautifulSoup \n",
    "from nltk.corpus import stopwords \n",
    "from nltk import word_tokenize \n",
    "import string \n",
    "import joblib\n",
    "import logging\n",
    "import gensim.downloader\n",
    "import matplotlib.pyplot as plt\n",
    "import seaborn as sns\n",
    "from collections import Counter\n",
    "from nltk.util import ngrams\n",
    "from sklearn.feature_extraction.text import CountVectorizer,TfidfVectorizer\n",
    "from wordcloud import WordCloud\n",
    "from tqdm import tqdm\n",
    "from sklearn.model_selection import train_test_split\n",
    "import lightgbm as lgb\n",
    "from simpletransformers.classification import ClassificationModel, ClassificationArgs\n",
    "from sklearn.ensemble import RandomForestClassifier\n",
    "from sklearn.metrics import accuracy_score,f1_score\n",
    "from scipy.sparse import hstack\n",
    "from gensim.models import Word2Vec, word2vec\n",
    "plt.rcParams[\"figure.figsize\"] = (12, 6)"
   ]
  },
  {
   "cell_type": "markdown",
   "metadata": {
    "id": "mu4COVmEnYlm"
   },
   "source": [
    "# Loading datasets"
   ]
  },
  {
   "cell_type": "code",
   "execution_count": 3,
   "metadata": {
    "id": "ttPQWDN98Ekc"
   },
   "outputs": [],
   "source": [
    "# glove_vectors = gensim.downloader.load('glove-twitter-100')\n",
    "tokenizer = nltk.data.load('tokenizers/punkt/english.pickle')"
   ]
  },
  {
   "cell_type": "code",
   "execution_count": 4,
   "metadata": {
    "id": "6mr4_OfeDuVR"
   },
   "outputs": [],
   "source": [
    "stop=set(stopwords.words('english'))"
   ]
  },
  {
   "cell_type": "code",
   "execution_count": 5,
   "metadata": {
    "id": "VuaQbiCi-V8s"
   },
   "outputs": [],
   "source": [
    "df_train = pd.read_csv('train.csv')"
   ]
  },
  {
   "cell_type": "markdown",
   "metadata": {
    "id": "_m-ZdBO8npwY"
   },
   "source": [
    "Each sample in the data has the following information:\n",
    "\n",
    "- The text of a tweet\n",
    "- A keyword from that tweet (although this may be blank!)\n",
    "- The location the tweet was sent from (may also be blank)"
   ]
  },
  {
   "cell_type": "code",
   "execution_count": 9,
   "metadata": {
    "colab": {
     "base_uri": "https://localhost:8080/",
     "height": 206
    },
    "id": "6j_Jqy6D_V7B",
    "outputId": "f22680c1-3dbe-43ad-f70e-f37d7be07d9f"
   },
   "outputs": [
    {
     "data": {
      "text/html": [
       "\n",
       "  <div id=\"df-4576c758-e99c-417e-a49e-22fe08c3c05f\">\n",
       "    <div class=\"colab-df-container\">\n",
       "      <div>\n",
       "<style scoped>\n",
       "    .dataframe tbody tr th:only-of-type {\n",
       "        vertical-align: middle;\n",
       "    }\n",
       "\n",
       "    .dataframe tbody tr th {\n",
       "        vertical-align: top;\n",
       "    }\n",
       "\n",
       "    .dataframe thead th {\n",
       "        text-align: right;\n",
       "    }\n",
       "</style>\n",
       "<table border=\"1\" class=\"dataframe\">\n",
       "  <thead>\n",
       "    <tr style=\"text-align: right;\">\n",
       "      <th></th>\n",
       "      <th>id</th>\n",
       "      <th>keyword</th>\n",
       "      <th>location</th>\n",
       "      <th>text</th>\n",
       "      <th>target</th>\n",
       "    </tr>\n",
       "  </thead>\n",
       "  <tbody>\n",
       "    <tr>\n",
       "      <th>0</th>\n",
       "      <td>1</td>\n",
       "      <td>NaN</td>\n",
       "      <td>NaN</td>\n",
       "      <td>Our Deeds are the Reason of this #earthquake M...</td>\n",
       "      <td>1</td>\n",
       "    </tr>\n",
       "    <tr>\n",
       "      <th>1</th>\n",
       "      <td>4</td>\n",
       "      <td>NaN</td>\n",
       "      <td>NaN</td>\n",
       "      <td>Forest fire near La Ronge Sask. Canada</td>\n",
       "      <td>1</td>\n",
       "    </tr>\n",
       "    <tr>\n",
       "      <th>2</th>\n",
       "      <td>5</td>\n",
       "      <td>NaN</td>\n",
       "      <td>NaN</td>\n",
       "      <td>All residents asked to 'shelter in place' are ...</td>\n",
       "      <td>1</td>\n",
       "    </tr>\n",
       "    <tr>\n",
       "      <th>3</th>\n",
       "      <td>6</td>\n",
       "      <td>NaN</td>\n",
       "      <td>NaN</td>\n",
       "      <td>13,000 people receive #wildfires evacuation or...</td>\n",
       "      <td>1</td>\n",
       "    </tr>\n",
       "    <tr>\n",
       "      <th>4</th>\n",
       "      <td>7</td>\n",
       "      <td>NaN</td>\n",
       "      <td>NaN</td>\n",
       "      <td>Just got sent this photo from Ruby #Alaska as ...</td>\n",
       "      <td>1</td>\n",
       "    </tr>\n",
       "  </tbody>\n",
       "</table>\n",
       "</div>\n",
       "      <button class=\"colab-df-convert\" onclick=\"convertToInteractive('df-4576c758-e99c-417e-a49e-22fe08c3c05f')\"\n",
       "              title=\"Convert this dataframe to an interactive table.\"\n",
       "              style=\"display:none;\">\n",
       "        \n",
       "  <svg xmlns=\"http://www.w3.org/2000/svg\" height=\"24px\"viewBox=\"0 0 24 24\"\n",
       "       width=\"24px\">\n",
       "    <path d=\"M0 0h24v24H0V0z\" fill=\"none\"/>\n",
       "    <path d=\"M18.56 5.44l.94 2.06.94-2.06 2.06-.94-2.06-.94-.94-2.06-.94 2.06-2.06.94zm-11 1L8.5 8.5l.94-2.06 2.06-.94-2.06-.94L8.5 2.5l-.94 2.06-2.06.94zm10 10l.94 2.06.94-2.06 2.06-.94-2.06-.94-.94-2.06-.94 2.06-2.06.94z\"/><path d=\"M17.41 7.96l-1.37-1.37c-.4-.4-.92-.59-1.43-.59-.52 0-1.04.2-1.43.59L10.3 9.45l-7.72 7.72c-.78.78-.78 2.05 0 2.83L4 21.41c.39.39.9.59 1.41.59.51 0 1.02-.2 1.41-.59l7.78-7.78 2.81-2.81c.8-.78.8-2.07 0-2.86zM5.41 20L4 18.59l7.72-7.72 1.47 1.35L5.41 20z\"/>\n",
       "  </svg>\n",
       "      </button>\n",
       "      \n",
       "  <style>\n",
       "    .colab-df-container {\n",
       "      display:flex;\n",
       "      flex-wrap:wrap;\n",
       "      gap: 12px;\n",
       "    }\n",
       "\n",
       "    .colab-df-convert {\n",
       "      background-color: #E8F0FE;\n",
       "      border: none;\n",
       "      border-radius: 50%;\n",
       "      cursor: pointer;\n",
       "      display: none;\n",
       "      fill: #1967D2;\n",
       "      height: 32px;\n",
       "      padding: 0 0 0 0;\n",
       "      width: 32px;\n",
       "    }\n",
       "\n",
       "    .colab-df-convert:hover {\n",
       "      background-color: #E2EBFA;\n",
       "      box-shadow: 0px 1px 2px rgba(60, 64, 67, 0.3), 0px 1px 3px 1px rgba(60, 64, 67, 0.15);\n",
       "      fill: #174EA6;\n",
       "    }\n",
       "\n",
       "    [theme=dark] .colab-df-convert {\n",
       "      background-color: #3B4455;\n",
       "      fill: #D2E3FC;\n",
       "    }\n",
       "\n",
       "    [theme=dark] .colab-df-convert:hover {\n",
       "      background-color: #434B5C;\n",
       "      box-shadow: 0px 1px 3px 1px rgba(0, 0, 0, 0.15);\n",
       "      filter: drop-shadow(0px 1px 2px rgba(0, 0, 0, 0.3));\n",
       "      fill: #FFFFFF;\n",
       "    }\n",
       "  </style>\n",
       "\n",
       "      <script>\n",
       "        const buttonEl =\n",
       "          document.querySelector('#df-4576c758-e99c-417e-a49e-22fe08c3c05f button.colab-df-convert');\n",
       "        buttonEl.style.display =\n",
       "          google.colab.kernel.accessAllowed ? 'block' : 'none';\n",
       "\n",
       "        async function convertToInteractive(key) {\n",
       "          const element = document.querySelector('#df-4576c758-e99c-417e-a49e-22fe08c3c05f');\n",
       "          const dataTable =\n",
       "            await google.colab.kernel.invokeFunction('convertToInteractive',\n",
       "                                                     [key], {});\n",
       "          if (!dataTable) return;\n",
       "\n",
       "          const docLinkHtml = 'Like what you see? Visit the ' +\n",
       "            '<a target=\"_blank\" href=https://colab.research.google.com/notebooks/data_table.ipynb>data table notebook</a>'\n",
       "            + ' to learn more about interactive tables.';\n",
       "          element.innerHTML = '';\n",
       "          dataTable['output_type'] = 'display_data';\n",
       "          await google.colab.output.renderOutput(dataTable, element);\n",
       "          const docLink = document.createElement('div');\n",
       "          docLink.innerHTML = docLinkHtml;\n",
       "          element.appendChild(docLink);\n",
       "        }\n",
       "      </script>\n",
       "    </div>\n",
       "  </div>\n",
       "  "
      ],
      "text/plain": [
       "   id keyword location                                               text  \\\n",
       "0   1     NaN      NaN  Our Deeds are the Reason of this #earthquake M...   \n",
       "1   4     NaN      NaN             Forest fire near La Ronge Sask. Canada   \n",
       "2   5     NaN      NaN  All residents asked to 'shelter in place' are ...   \n",
       "3   6     NaN      NaN  13,000 people receive #wildfires evacuation or...   \n",
       "4   7     NaN      NaN  Just got sent this photo from Ruby #Alaska as ...   \n",
       "\n",
       "   target  \n",
       "0       1  \n",
       "1       1  \n",
       "2       1  \n",
       "3       1  \n",
       "4       1  "
      ]
     },
     "execution_count": 9,
     "metadata": {},
     "output_type": "execute_result"
    }
   ],
   "source": [
    "df_train.head()"
   ]
  },
  {
   "cell_type": "code",
   "execution_count": 11,
   "metadata": {
    "colab": {
     "base_uri": "https://localhost:8080/"
    },
    "id": "656xz8rH_76F",
    "outputId": "e4bd0dec-fa71-4468-ae43-e65904152e11"
   },
   "outputs": [
    {
     "data": {
      "text/plain": [
       "id             0\n",
       "keyword       61\n",
       "location    2533\n",
       "text           0\n",
       "target         0\n",
       "dtype: int64"
      ]
     },
     "execution_count": 11,
     "metadata": {},
     "output_type": "execute_result"
    }
   ],
   "source": [
    "df_train.isnull().sum()"
   ]
  },
  {
   "cell_type": "code",
   "execution_count": 12,
   "metadata": {
    "colab": {
     "base_uri": "https://localhost:8080/"
    },
    "id": "t709Y2HTAMTw",
    "outputId": "11dcce97-209b-42de-dc37-9fe9fc2da2bb"
   },
   "outputs": [
    {
     "name": "stdout",
     "output_type": "stream",
     "text": [
      "The shape of train data: (7613, 5)\n"
     ]
    }
   ],
   "source": [
    "print(\"The shape of train data:\",df_train.shape)"
   ]
  },
  {
   "cell_type": "markdown",
   "metadata": {
    "id": "QozWKKVhn-Vl"
   },
   "source": [
    "# DATA ANALYSIS\n",
    "\n",
    "- For this problem we will be seeing things such as distribution avg length of text.\n",
    "- The distribution of words in the data.\n",
    "- Distribution of avg length of a word in the sentence.\n",
    "- We will count stopwords in the data.\n",
    "- We will count the words except the stopwords in the data.\n",
    "- We will plot the bigrams and trigrams in the data."
   ]
  },
  {
   "cell_type": "code",
   "execution_count": 15,
   "metadata": {
    "id": "AT_xOQHUGfDL"
   },
   "outputs": [],
   "source": [
    "df_train['text'] = df_train['text'].apply(lambda x: x.lower())"
   ]
  },
  {
   "cell_type": "code",
   "execution_count": 16,
   "metadata": {
    "colab": {
     "base_uri": "https://localhost:8080/",
     "height": 408
    },
    "id": "rSKfzEhbAYHc",
    "outputId": "c9d6cd28-bc67-4fb0-cee6-e50f3f2b86f9"
   },
   "outputs": [
    {
     "data": {
      "text/plain": [
       "Text(0.5, 1.0, 'Data text length dist')"
      ]
     },
     "execution_count": 16,
     "metadata": {},
     "output_type": "execute_result"
    },
    {
     "data": {
      "image/png": "[encoded data removed]",
      "text/plain": [
       "<Figure size 864x432 with 1 Axes>"
      ]
     },
     "metadata": {
      "needs_background": "light"
     },
     "output_type": "display_data"
    }
   ],
   "source": [
    "plt.hist(df_train['text'].str.len())\n",
    "plt.title(\"Data text length dist\")"
   ]
  },
  {
   "cell_type": "code",
   "execution_count": 18,
   "metadata": {
    "colab": {
     "base_uri": "https://localhost:8080/",
     "height": 408
    },
    "id": "nckP3koVCUwQ",
    "outputId": "cc66fa04-a9dd-4332-dc13-c704746fb857"
   },
   "outputs": [
    {
     "data": {
      "text/plain": [
       "Text(0.5, 1.0, 'No of words in each sentence for data')"
      ]
     },
     "execution_count": 18,
     "metadata": {},
     "output_type": "execute_result"
    },
    {
     "data": {
      "image/png": "[encoded data removed]",
      "text/plain": [
       "<Figure size 864x432 with 1 Axes>"
      ]
     },
     "metadata": {
      "needs_background": "light"
     },
     "output_type": "display_data"
    }
   ],
   "source": [
    "#Number of words in each sentence\n",
    "plt.hist(df_train['text'].str.split().map(lambda x: len(x)))\n",
    "plt.title(\"No of words in each sentence for data\")"
   ]
  },
  {
   "cell_type": "code",
   "execution_count": 19,
   "metadata": {
    "colab": {
     "base_uri": "https://localhost:8080/",
     "height": 408
    },
    "id": "tD1S70O3Dgfn",
    "outputId": "946fcc61-bd31-4657-fdef-abb047fdbb2e"
   },
   "outputs": [
    {
     "data": {
      "text/plain": [
       "Text(0.5, 1.0, 'Avg word length in each sentence for data')"
      ]
     },
     "execution_count": 19,
     "metadata": {},
     "output_type": "execute_result"
    },
    {
     "data": {
      "image/png": "[encoded data removed]",
      "text/plain": [
       "<Figure size 864x432 with 1 Axes>"
      ]
     },
     "metadata": {
      "needs_background": "light"
     },
     "output_type": "display_data"
    }
   ],
   "source": [
    "#Avg word length\n",
    "plt.subplot(1, 2, 1)\n",
    "plt.hist(df_train['text'].str.split().\\\n",
    "   apply(lambda x : [len(i) for i in x]). \\\n",
    "   map(lambda x: np.mean(x)))\n",
    "plt.title(\"Avg word length in each sentence for data\")"
   ]
  },
  {
   "cell_type": "code",
   "execution_count": 21,
   "metadata": {
    "id": "uZPbI__RDgir"
   },
   "outputs": [],
   "source": [
    "#Helper function to plot the count of stopwords\n",
    "def plot_stopwords(text):\n",
    "    stop=set(stopwords.words('english'))\n",
    "    corpus = []\n",
    "    new= text.str.split()\n",
    "    new=new.values.tolist()\n",
    "    corpus=[word for i in new for word in i]\n",
    "    from collections import defaultdict\n",
    "    dic=defaultdict(int)\n",
    "    for word in corpus:\n",
    "        if word in stop:\n",
    "            dic[word]+=1\n",
    "            \n",
    "    top=sorted(dic.items(), key=lambda x:x[1],reverse=True)[:10] \n",
    "    x,y=zip(*top)\n",
    "    del corpus\n",
    "    plt.bar(x,y)"
   ]
  },
  {
   "cell_type": "markdown",
   "metadata": {
    "id": "KRNGkyXOo4Xm"
   },
   "source": [
    "Stopwords are words like \"the,a,are,an,to\" etc these words actually are not that useful in providing context to the machine learning models and may cause problems , but with deep learning models as we will see down below they work really well."
   ]
  },
  {
   "cell_type": "code",
   "execution_count": 24,
   "metadata": {
    "colab": {
     "base_uri": "https://localhost:8080/",
     "height": 408
    },
    "id": "hXmuFV9tF3EU",
    "outputId": "3f8f4733-e106-4cec-c409-a69e0f42e157"
   },
   "outputs": [
    {
     "data": {
      "text/plain": [
       "Text(0.5, 1.0, 'Stopwords count in data')"
      ]
     },
     "execution_count": 24,
     "metadata": {},
     "output_type": "execute_result"
    },
    {
     "data": {
      "image/png": "[encoded data removed]",
      "text/plain": [
       "<Figure size 864x432 with 1 Axes>"
      ]
     },
     "metadata": {
      "needs_background": "light"
     },
     "output_type": "display_data"
    }
   ],
   "source": [
    "plot_stopwords(df_train['text'])\n",
    "plt.title(\"Stopwords count in data\")"
   ]
  },
  {
   "cell_type": "code",
   "execution_count": 27,
   "metadata": {
    "id": "b2_sgUJAD1Fi"
   },
   "outputs": [],
   "source": [
    "#No stop words here\n",
    "def plot_top_words(text):\n",
    "    stop=set(stopwords.words('english'))\n",
    "    new= text.str.split()\n",
    "    new=new.values.tolist()\n",
    "    corpus=[word for i in new for word in i]\n",
    "    corpus = [word for word in corpus if word not in stop]\n",
    "    counter=Counter(corpus)\n",
    "    most=counter.most_common()\n",
    "    x, y=[], []\n",
    "    for word,count in most[:40]:\n",
    "        if (word not in stop):\n",
    "            x.append(word)\n",
    "            y.append(count)\n",
    "\n",
    "    sns.barplot(x=y,y=x)"
   ]
  },
  {
   "cell_type": "markdown",
   "metadata": {
    "id": "BMjN2spypSAL"
   },
   "source": [
    "As we can see that words like evacuation and orders are really prevalant in the dataset , that means they will have a really high weight while prediction. These words are usually used when the natural disaster is happening."
   ]
  },
  {
   "cell_type": "code",
   "execution_count": 30,
   "metadata": {
    "colab": {
     "base_uri": "https://localhost:8080/",
     "height": 408
    },
    "id": "sBOCrxt2HnY2",
    "outputId": "cb30a58e-d7bc-4ac7-bda2-555aaaf97607"
   },
   "outputs": [
    {
     "data": {
      "text/plain": [
       "Text(0.5, 1.0, 'Top Non Stop words in data')"
      ]
     },
     "execution_count": 30,
     "metadata": {},
     "output_type": "execute_result"
    },
    {
     "data": {
      "image/png": "[encoded data removed]",
      "text/plain": [
       "<Figure size 864x432 with 1 Axes>"
      ]
     },
     "metadata": {
      "needs_background": "light"
     },
     "output_type": "display_data"
    }
   ],
   "source": [
    "plot_top_words(df_train['text'][1:5])\n",
    "plt.title(\"Top Non Stop words in data\")"
   ]
  },
  {
   "cell_type": "markdown",
   "metadata": {
    "id": "WqJVpnJcpqQU"
   },
   "source": [
    "Lets talk about bigrams here, bigrams are basically 2  words occuring at the same time. This information helps the models a lot , how? model can understand the context by evaluating how two words occur side by side and using that it can distinguish between a person tweeting right details about a natural disaster and a person tweeting wrong details about it. It basically captures this essence."
   ]
  },
  {
   "cell_type": "code",
   "execution_count": 32,
   "metadata": {
    "id": "_6QI_Ut5D8Pn"
   },
   "outputs": [],
   "source": [
    "def plot_top_ngrams(text, n=2):\n",
    "    stop=set(stopwords.words('english'))\n",
    "    new= text.str.split()\n",
    "    new=new.values.tolist()\n",
    "    corpus=[word for i in new for word in i]\n",
    "    corpus =[word for word in corpus if word not in stop]\n",
    "    def _get_top_ngram(corpus, n=None):\n",
    "        vec = CountVectorizer(ngram_range=(n, n)).fit(corpus)\n",
    "        bag_of_words = vec.transform(corpus)\n",
    "        sum_words = bag_of_words.sum(axis=0) \n",
    "        words_freq = [(word, sum_words[0, idx]) \n",
    "                      for word, idx in vec.vocabulary_.items()]\n",
    "        words_freq =sorted(words_freq, key = lambda x: x[1], reverse=True)\n",
    "        return words_freq[:10]\n",
    "\n",
    "    top_n_bigrams=_get_top_ngram(corpus,n)[:10]\n",
    "    x,y=map(list,zip(*top_n_bigrams))\n",
    "    \n",
    "    sns.barplot(x=y,y=x)"
   ]
  },
  {
   "cell_type": "markdown",
   "metadata": {
    "id": "ovcxETAbqgpF"
   },
   "source": [
    "This graph looks weird, maybe we need to clean data since http means there are links in it?"
   ]
  },
  {
   "cell_type": "code",
   "execution_count": 34,
   "metadata": {
    "colab": {
     "base_uri": "https://localhost:8080/",
     "height": 408
    },
    "id": "yJP8kATNIf4j",
    "outputId": "108f2aea-0f1b-408e-a34f-a2ace62e6798"
   },
   "outputs": [
    {
     "data": {
      "text/plain": [
       "Text(0.5, 1.0, 'Top bigrams in data')"
      ]
     },
     "execution_count": 34,
     "metadata": {},
     "output_type": "execute_result"
    },
    {
     "data": {
      "image/png": "[encoded data removed]",
      "text/plain": [
       "<Figure size 864x432 with 1 Axes>"
      ]
     },
     "metadata": {
      "needs_background": "light"
     },
     "output_type": "display_data"
    }
   ],
   "source": [
    "plot_top_ngrams(df_train['text'])\n",
    "plt.title(\"Top bigrams in data\")"
   ]
  },
  {
   "cell_type": "markdown",
   "metadata": {
    "id": "I3QAiW4aqt1Q"
   },
   "source": [
    "Trigrams are nothing but 3 words that are occuring together, the graph below is better but still needs cleaning."
   ]
  },
  {
   "cell_type": "code",
   "execution_count": 36,
   "metadata": {
    "colab": {
     "base_uri": "https://localhost:8080/",
     "height": 408
    },
    "id": "3cONbSsyI6FI",
    "outputId": "f9630f9e-0803-4130-d7a9-892414e4c2b9"
   },
   "outputs": [
    {
     "data": {
      "text/plain": [
       "Text(0.5, 1.0, 'Top trigrams in Train')"
      ]
     },
     "execution_count": 36,
     "metadata": {},
     "output_type": "execute_result"
    },
    {
     "data": {
      "image/png": "[encoded data removed]",
      "text/plain": [
       "<Figure size 864x432 with 1 Axes>"
      ]
     },
     "metadata": {
      "needs_background": "light"
     },
     "output_type": "display_data"
    }
   ],
   "source": [
    "plot_top_ngrams(df_train['text'],3)\n",
    "plt.title(\"Top trigrams in Train\")\n"
   ]
  },
  {
   "cell_type": "markdown",
   "metadata": {
    "id": "oDwuZvF7q7ic"
   },
   "source": [
    "Here I am loading some pre trained vectors and some files.\n",
    "\n",
    "- cont_map will be used in preprocessing.\n",
    "- trainDatavecs is what i used to create word embeddings.\n",
    "- w_tokenizer is used in preprocessing.\n",
    "- lemmatizer is used in preprocessing.\n",
    "- Spell is used to call a function which checks for spell errors in the text but i don't use it, because some of the spell checks are bad."
   ]
  },
  {
   "cell_type": "code",
   "execution_count": 38,
   "metadata": {
    "id": "UOyGopfaR7rh"
   },
   "outputs": [],
   "source": [
    "cont_map = joblib.load(\"contraction_map.pkl\")\n",
    "trainDataVecs = joblib.load('glove100_stats_text.pkl')\n",
    "w_tokenizer = nltk.tokenize.WhitespaceTokenizer()\n",
    "lemmatizer = nltk.stem.WordNetLemmatizer()  \n",
    "# spell = Speller(lang='en')"
   ]
  },
  {
   "cell_type": "markdown",
   "metadata": {
    "id": "jWGHBLixI4tm"
   },
   "source": [
    "The text preprocessing this is really important for machine learning model, the preprocessing I m doing is.\n",
    "\n",
    "- Removing extra \\\\n,\\t in text, this occur in data scraping stage.\n",
    "- Using beautiful soup to parse the html tags such as http://www.google.com .\n",
    "- We then remove the http and .com stuff.\n",
    "- We then remove extra whitespaces.\n",
    "- Removing unicode characters, now these happen when the data is scraped and emoji's are not resolved in text format , if you don't encode the text while scraping and saving using (\"utf-8\") encoding we see this we need to remove these.\n",
    "- Then we change the words like cherrrrrry to cherry.\n",
    "- Then using the cont_map which is basically a dictionary which has mapping of words like can't: can not, and we use that in our text.\n",
    "- The we remove special characters like #, and numbers from the data.\n",
    "- The we use lemmatizer to , change words like swimming to swim.\n",
    "- And we remove stopwords."
   ]
  },
  {
   "cell_type": "code",
   "execution_count": 39,
   "metadata": {
    "id": "fnWDR7Oj4g6J"
   },
   "outputs": [],
   "source": [
    "def text_preprocessing(text,cont_map):\n",
    "    # Replacing all the occurrences of \\n,\\\\n,\\t,\\\\ with a space.\n",
    "    text = text.replace('\\\\n', ' ').replace('\\n', ' ').replace('\\t',' ').replace('\\\\', ' ').replace('. com', '.com')\n",
    "    #strip html tags\n",
    "    soup = BeautifulSoup(text, \"html.parser\")\n",
    "    stripped_text = soup.get_text(separator=\" \")\n",
    "    #remove links\n",
    "    stripped_text = re.sub(r'http\\S+', '', stripped_text)\n",
    "    stripped_text = re.sub(r\"\\ [A-Za-z]*\\.com\", \" \", stripped_text)\n",
    "    #remove whitespace\n",
    "    pattern = re.compile(r'\\s+') \n",
    "    no_whitespace = re.sub(pattern, ' ', stripped_text)\n",
    "    stripped_text = no_whitespace.replace('?', ' ? ').replace(')', ') ')\n",
    "    #Removing unicode characters\n",
    "    stripped_text = unidecode.unidecode(stripped_text)\n",
    "    #Changing words like cherrrrrrrry to cherry\n",
    "    pattern_alpha= re.compile(r\"([A-Za-z])\\1{1,}\", re.DOTALL)\n",
    "    stripped_text = pattern_alpha.sub(r\"\\1\\1\", stripped_text) \n",
    "    pattern_punct = re.compile(r'([.,/#!$%^&*?;:{}=_`~()+-])\\1{1,}')\n",
    "    stripped_text = pattern_punct.sub(r'\\1', stripped_text)\n",
    "    stripped_text = re.sub(' {2,}',' ', stripped_text)\n",
    "    \n",
    "    tokens = stripped_text.split(' ')\n",
    "    for word in tokens: \n",
    "         if word in cont_map: \n",
    "                tokens = [item.replace(word, cont_map[word]) for item in tokens]\n",
    "                \n",
    "    text = ' '.join(str(e) for e in tokens) \n",
    "    #removing special characters and numbers\n",
    "    text = re.sub('[^A-Za-z0-9]+', ' ', text)\n",
    "    text = re.sub(r\"[^a-zA-Z:$-,%.?!]+\", ' ', text)\n",
    "    #lemmatization swimming , swim\n",
    "    text = [lemmatizer.lemmatize(w,'v') for w in w_tokenizer.tokenize(text)]\n",
    "    #removing stopwords\n",
    "    text = ' '.join([word for word in text if word not in stop])\n",
    "    # text = spell(text)\n",
    "    return text"
   ]
  },
  {
   "cell_type": "markdown",
   "metadata": {
    "id": "LStytaqftXp8"
   },
   "source": [
    "\n",
    "# Cleaning data"
   ]
  },
  {
   "cell_type": "code",
   "execution_count": 40,
   "metadata": {
    "colab": {
     "base_uri": "https://localhost:8080/"
    },
    "id": "-cXYQTydTygt",
    "outputId": "68d7c9ae-a6ec-43b2-a2d7-bf13654dcbed"
   },
   "outputs": [
    {
     "name": "stderr",
     "output_type": "stream",
     "text": [
      "100%|██████████| 7613/7613 [00:03<00:00, 2268.27it/s]\n"
     ]
    }
   ],
   "source": [
    "cleaned_text = []\n",
    "for i in tqdm(df_train['text']):\n",
    "    cleaned_text.append(text_preprocessing(i,cont_map))\n",
    "df_train['text'] = cleaned_text"
   ]
  },
  {
   "cell_type": "markdown",
   "metadata": {
    "id": "s90d-4dWthiN"
   },
   "source": [
    "This data is now presented in the wordcloud which basically tells us the top words used in the corpus."
   ]
  },
  {
   "cell_type": "code",
   "execution_count": 42,
   "metadata": {
    "colab": {
     "base_uri": "https://localhost:8080/",
     "height": 623
    },
    "id": "CAib5ZdpYTRA",
    "outputId": "d6fa582a-9e4c-451b-8151-269c3db5f85a"
   },
   "outputs": [
    {
     "data": {
      "image/png": "[encoded data removed]",
      "text/plain": [
       "<Figure size 576x576 with 1 Axes>"
      ]
     },
     "metadata": {
      "needs_background": "light"
     },
     "output_type": "display_data"
    }
   ],
   "source": [
    "wordcloud = WordCloud(width = 800, height = 800,\n",
    "                background_color ='white').generate(str(df_train['text']))\n",
    "plt.figure(figsize = (8, 8), facecolor = None)\n",
    "plt.imshow(wordcloud)\n",
    "plt.axis(\"off\")\n",
    "plt.tight_layout(pad = 0)\n",
    "plt.title(\"DataSet Word Cloud\")\n",
    "plt.show()"
   ]
  },
  {
   "cell_type": "markdown",
   "metadata": {
    "id": "16i8x1L6uRYA"
   },
   "source": [
    "Here we check distribution of target variables seems evenly distributed so we can use accuracy as our metric."
   ]
  },
  {
   "cell_type": "code",
   "execution_count": 43,
   "metadata": {
    "colab": {
     "base_uri": "https://localhost:8080/",
     "height": 461
    },
    "id": "eciY1y1vawoH",
    "outputId": "355b0811-31d7-489f-d711-0f10c06317ce"
   },
   "outputs": [
    {
     "name": "stderr",
     "output_type": "stream",
     "text": [
      "/usr/local/lib/python3.7/dist-packages/seaborn/_decorators.py:43: FutureWarning: Pass the following variable as a keyword arg: x. From version 0.12, the only valid positional argument will be `data`, and passing other arguments without an explicit keyword will result in an error or misinterpretation.\n",
      "  FutureWarning\n"
     ]
    },
    {
     "data": {
      "text/plain": [
       "<matplotlib.axes._subplots.AxesSubplot at 0x7f0c4a90c0d0>"
      ]
     },
     "execution_count": 43,
     "metadata": {},
     "output_type": "execute_result"
    },
    {
     "data": {
      "image/png": "[encoded data removed]",
      "text/plain": [
       "<Figure size 864x432 with 1 Axes>"
      ]
     },
     "metadata": {
      "needs_background": "light"
     },
     "output_type": "display_data"
    }
   ],
   "source": [
    "sns.countplot(df_train['target'])"
   ]
  },
  {
   "cell_type": "code",
   "execution_count": 44,
   "metadata": {
    "colab": {
     "base_uri": "https://localhost:8080/"
    },
    "id": "KInK6sYfhtbr",
    "outputId": "5ddedfa1-83b6-4063-ca8e-a2397a6ec7bc"
   },
   "outputs": [
    {
     "data": {
      "text/plain": [
       "id          7613\n",
       "keyword      221\n",
       "location    3341\n",
       "text        6857\n",
       "target         2\n",
       "dtype: int64"
      ]
     },
     "execution_count": 44,
     "metadata": {},
     "output_type": "execute_result"
    }
   ],
   "source": [
    "df_train.nunique()"
   ]
  },
  {
   "cell_type": "markdown",
   "metadata": {
    "id": "uCqItN9Wua93"
   },
   "source": [
    "Splitting the data to test and train and also we are stratifying it so that test and train have the same distribution.\n"
   ]
  },
  {
   "cell_type": "code",
   "execution_count": 46,
   "metadata": {
    "id": "edRKuAruhysn"
   },
   "outputs": [],
   "source": [
    "X_train, X_test, y_train, y_test = train_test_split(df_train.drop(['target'],axis=1),df_train['target'], test_size=0.2,stratify=df_train['target'], random_state=42)"
   ]
  },
  {
   "cell_type": "markdown",
   "metadata": {
    "id": "ZwbwPGZkum5k"
   },
   "source": [
    "So for models we train a machine learning model random forest and use various methods for feature enginnering our text data. Since machine learning needs numbers to evaluate we need some way to create meaningful features out of text data, the methods we are using to train with machine learning models are\n",
    "\n",
    "- Countvectorizer\n",
    "  - Character level.\n",
    "  - Word level.\n",
    "  - Character level + Word level. \n",
    "\n",
    "- TFIDF\n",
    "- Word2Vec\n",
    "\n",
    "\n"
   ]
  },
  {
   "cell_type": "markdown",
   "metadata": {
    "id": "vEbHYqe-v0xF"
   },
   "source": [
    "## Countvectorizer\n",
    "\n",
    "- It creates a document term matrix, which is a set of dummy variables that indicates if a particular word appears in the document.\n",
    "\n",
    "-  Count vectorizer will fit and learn the word vocabulary and try to create a document term matrix in which the individual cells denote the frequency of that word in a particular document, which is also known as term frequency, and the columns are dedicated to each word in the corpus.\n",
    "\n",
    "- Below were are creating a word level count matrix, and also removing stopwords."
   ]
  },
  {
   "cell_type": "code",
   "execution_count": 47,
   "metadata": {
    "id": "DTFTYCy4idjc"
   },
   "outputs": [],
   "source": [
    "word_vectorizer = CountVectorizer(stop_words = 'english',analyzer='word')\n",
    "word_vectorizer.fit(df_train['text'])\n",
    "train_word_features = word_vectorizer.transform(X_train['text'])\n",
    "test_word_features = word_vectorizer.transform(X_test['text'])"
   ]
  },
  {
   "cell_type": "code",
   "execution_count": 48,
   "metadata": {
    "colab": {
     "base_uri": "https://localhost:8080/"
    },
    "id": "jBAqTsgqi2I2",
    "outputId": "bd00e1ee-fea8-4022-f009-ffd9d89218ba"
   },
   "outputs": [
    {
     "name": "stdout",
     "output_type": "stream",
     "text": [
      "Accuracy score on the test set for word level;: 0.7866053841103086\n"
     ]
    }
   ],
   "source": [
    "clf = RandomForestClassifier(random_state=22)\n",
    "clf.fit(train_word_features,y_train)\n",
    "print(\"Accuracy score on the test set for word level;:\",accuracy_score(y_true=y_test,y_pred=clf.predict(test_word_features)))"
   ]
  },
  {
   "cell_type": "markdown",
   "metadata": {
    "id": "NaBoH-yswaBF"
   },
   "source": [
    "- Here we are doing character level count matrix, i.e creating a,b,c,d and its occurences in the corupus for each text, i.e a row."
   ]
  },
  {
   "cell_type": "code",
   "execution_count": 49,
   "metadata": {
    "colab": {
     "base_uri": "https://localhost:8080/"
    },
    "id": "aM98JQtQiwbw",
    "outputId": "94f06212-e77f-4685-c088-8cbdb73685a8"
   },
   "outputs": [
    {
     "name": "stderr",
     "output_type": "stream",
     "text": [
      "/usr/local/lib/python3.7/dist-packages/sklearn/feature_extraction/text.py:539: UserWarning: The parameter 'stop_words' will not be used since 'analyzer' != 'word'\n",
      "  \"The parameter 'stop_words' will not be used\"\n"
     ]
    }
   ],
   "source": [
    "char_vectorizer = CountVectorizer(stop_words = 'english',analyzer='char')\n",
    "char_vectorizer.fit(df_train['text'])\n",
    "train_char_features = char_vectorizer.transform(X_train['text'])\n",
    "test_char_features = char_vectorizer.transform(X_test['text'])"
   ]
  },
  {
   "cell_type": "code",
   "execution_count": 50,
   "metadata": {
    "colab": {
     "base_uri": "https://localhost:8080/"
    },
    "id": "6P3GHhRAko8T",
    "outputId": "c033614a-44ca-4bf7-c513-7d8c81e573ab"
   },
   "outputs": [
    {
     "name": "stdout",
     "output_type": "stream",
     "text": [
      "Accuracy score on the test set for char level;: 0.6894287590282338\n"
     ]
    }
   ],
   "source": [
    "clf = RandomForestClassifier(random_state=22)\n",
    "clf.fit(train_char_features,y_train)\n",
    "print(\"Accuracy score on the test set for char level;:\",accuracy_score(y_true=y_test,y_pred=clf.predict(test_char_features)))"
   ]
  },
  {
   "cell_type": "markdown",
   "metadata": {
    "id": "k0I2ZulKwo9B"
   },
   "source": [
    "- We are combining the word + char level features and trying to train a model."
   ]
  },
  {
   "cell_type": "code",
   "execution_count": 51,
   "metadata": {
    "id": "4Nm3ZHNck7A7"
   },
   "outputs": [],
   "source": [
    "train_features = hstack([train_char_features, train_word_features])\n",
    "test_features = hstack([test_char_features, test_word_features])"
   ]
  },
  {
   "cell_type": "code",
   "execution_count": 52,
   "metadata": {
    "colab": {
     "base_uri": "https://localhost:8080/"
    },
    "id": "e-6jedoElKDS",
    "outputId": "83f84eb0-c67b-4232-f762-167d50d264c4"
   },
   "outputs": [
    {
     "name": "stdout",
     "output_type": "stream",
     "text": [
      "Accuracy score on the test set for both combined: 0.7669074195666448\n"
     ]
    }
   ],
   "source": [
    "clf = RandomForestClassifier(random_state=22)\n",
    "clf.fit(train_features,y_train)\n",
    "print(\"Accuracy score on the test set for both combined:\",accuracy_score(y_true=y_test,y_pred=clf.predict(test_features)))"
   ]
  },
  {
   "cell_type": "markdown",
   "metadata": {
    "id": "duh_90Gcwyse"
   },
   "source": [
    "## TFIDF\n",
    "\n",
    "Term frequency-inverse document frequency ( TF-IDF) gives a measure that takes the importance of a word into consideration depending on how frequently it occurs in a document and a corpus.\n",
    "\n",
    "- Term frequency (TF)\n",
    "- Inverse document frequency (IDF)\n",
    "\n",
    "### Term Frequency\n",
    "\n",
    "Term frequency denotes the frequency of a word in a document. For a specified word, it is defined as the ratio of the number of times a word appears in a document to the total number of words in the document.\n",
    "\n",
    "![tf.png](data:image/png;base64,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)\n",
    "\n",
    "\n",
    "### Inverse Document Frequency (IDF)\n",
    "\n",
    "It measures the importance of the word in the corpus. It measures how common a particular word is across all the documents in the corpus.\n",
    "\n",
    "It is the logarithmic ratio of no. of total documents to no. of a document with a particular word.\n",
    "\n",
    "![image.png](data:image/png;base64,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)\n",
    "\n",
    "\n",
    "### TFIDF FORMULA\n",
    "\n",
    "![tfidf.png](data:image/png;base64,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)\n"
   ]
  },
  {
   "cell_type": "code",
   "execution_count": 53,
   "metadata": {
    "id": "ZQUESZoYlVT-"
   },
   "outputs": [],
   "source": [
    "word_vectorizer = TfidfVectorizer(stop_words = 'english')\n",
    "word_vectorizer.fit(df_train['text'])\n",
    "train_word_features = word_vectorizer.transform(X_train['text'])\n",
    "test_word_features = word_vectorizer.transform(X_test['text'])"
   ]
  },
  {
   "cell_type": "code",
   "execution_count": 54,
   "metadata": {
    "colab": {
     "base_uri": "https://localhost:8080/"
    },
    "id": "OHh-_ooGlyu1",
    "outputId": "37df164c-899d-4c30-e8b9-53c9f1d32cbc"
   },
   "outputs": [
    {
     "name": "stdout",
     "output_type": "stream",
     "text": [
      "Accuracy score on the test set for tfidf: 0.7918581746552856\n"
     ]
    }
   ],
   "source": [
    "clf = RandomForestClassifier(random_state=22)\n",
    "clf.fit(train_word_features,y_train)\n",
    "print(\"Accuracy score on the test set for tfidf:\",accuracy_score(y_true=y_test,y_pred=clf.predict(test_word_features)))"
   ]
  },
  {
   "cell_type": "markdown",
   "metadata": {
    "id": "2S2UkZuwyjuR"
   },
   "source": [
    "# WORD2VEC \n",
    "\n",
    "Word2Vec creates vectors of the words that are distributed numerical representations of word features – these word features could comprise of words that represent the context of the individual words present in our vocabulary. Word embeddings eventually help in establishing the association of a word with another similar meaning word through the created vectors.\n",
    "\n",
    "As seen in the image below where word embeddings are plotted, similar meaning words are closer in space, indicating their semantic similarity.\n",
    "\n",
    "![image.png](data:image/png;base64,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)"
   ]
  },
  {
   "cell_type": "markdown",
   "metadata": {
    "id": "yPThh887y3Il"
   },
   "source": [
    "Since word2vec is model that converts words to embeddings of a given length, in our case we are using 100 embeddings since we don't have enough computation power. But we can use 300 embeddings. We will just use a pretrained Glove Model with 100 embedding trained on 100,000 of words.\n",
    "\n",
    "But you might ask a question , if word2vec uses vectors of length 100 and converts only words to sentences then how will we use it ?\n",
    "\n",
    "- We convert every word to a embedding of 100 in a sentence and average all of them in a sentence to give us a uniform embedding of size 100.\n",
    "- We can also use models such as Doc2vec which give much richer embeddings for a sentence but we don't have enough cpu power since these models are not supported on gpus so we don't use it.\n",
    "- Using word2vec might lose some information in a sentence.\n",
    "\n",
    "The helper functions downbelow helps us create wordembeddings which then are provided to a randomforest model."
   ]
  },
  {
   "cell_type": "code",
   "execution_count": 57,
   "metadata": {
    "id": "cLk_XfAemICh"
   },
   "outputs": [],
   "source": [
    "def review_to_wordlist(review, remove_stopwords=False):\n",
    "    \"\"\"\n",
    "    Convert a review to a list of words. Removal of stop words is optional.\n",
    "    \"\"\"\n",
    "    # remove non-letters\n",
    "    review_text = re.sub(\"[^a-zA-Z]\",\" \", review)\n",
    "    \n",
    "    # convert to lower case and split at whitespace\n",
    "    words = review_text.lower().split()\n",
    "    \n",
    "    # remove stop words (false by default)\n",
    "    if remove_stopwords:\n",
    "        stops = set(stopwords.words(\"english\"))\n",
    "        words = [w for w in words if not w in stops]\n",
    "\n",
    "    return words\n",
    "\n",
    "def review_to_sentences(review, tokenizer, remove_stopwords=False):\n",
    "    \"\"\"\n",
    "    Split review into list of sentences where each sentence is a list of words.\n",
    "    Removal of stop words is optional.\n",
    "    \"\"\"\n",
    "    # use the NLTK tokenizer to split the paragraph into sentences\n",
    "    raw_sentences = tokenizer.tokenize(review.strip())\n",
    "\n",
    "    # each sentence is furthermore split into words\n",
    "    sentences = []    \n",
    "    for raw_sentence in raw_sentences:\n",
    "        # If a sentence is empty, skip it\n",
    "        if len(raw_sentence) > 0:\n",
    "            sentences.append(review_to_wordlist(raw_sentence, remove_stopwords))\n",
    "            \n",
    "    return sentences\n"
   ]
  },
  {
   "cell_type": "code",
   "execution_count": 58,
   "metadata": {
    "id": "CFnQusLhmTv9"
   },
   "outputs": [],
   "source": [
    "def make_feature_vec(words, model, num_features):\n",
    "    \"\"\"\n",
    "    Average the word vectors for a set of words\n",
    "    \"\"\"\n",
    "    feature_vec = np.zeros((num_features,),dtype=\"float32\")  # pre-initialize (for speed)\n",
    "    nwords = 0.\n",
    "    index2word_set = set(model.index2word)  # words known to the model\n",
    "\n",
    "    for word in words:\n",
    "        if word in index2word_set: \n",
    "            nwords = nwords + 1.\n",
    "            feature_vec = np.add(feature_vec,model[word])\n",
    "    \n",
    "    feature_vec = np.divide(feature_vec, nwords)\n",
    "    return feature_vec\n",
    "\n",
    "def get_avg_feature_vecs(reviews, model, num_features):\n",
    "    \"\"\"\n",
    "    Calculate average feature vectors for all reviews\n",
    "    \"\"\"\n",
    "    counter = 0\n",
    "    review_feature_vecs = np.zeros((len(reviews),num_features), dtype='float32')  # pre-initialize (for speed)\n",
    "    \n",
    "    for review in tqdm(reviews):\n",
    "        review_feature_vecs[counter] = make_feature_vec(review, model, num_features)\n",
    "        counter = counter + 1\n",
    "    return review_feature_vecs"
   ]
  },
  {
   "cell_type": "markdown",
   "metadata": {
    "id": "n0IVtlV70OPp"
   },
   "source": [
    "Creating wordembeddings here and saving it for quick use since this takes 30 mins to finish."
   ]
  },
  {
   "cell_type": "code",
   "execution_count": 59,
   "metadata": {
    "id": "aupL-RhAmXP-"
   },
   "outputs": [],
   "source": [
    "# clean_train_reviews = []\n",
    "# for review in tqdm(df_train['text']):\n",
    "#     clean_train_reviews.append(review_to_wordlist(review, remove_stopwords=True))\n",
    "# trainDataVecs = get_avg_feature_vecs(clean_train_reviews, glove_vectors, num_features=100)\n",
    "# joblib.dump(trainDataVecs, 'glove100_stats_text.pkl')"
   ]
  },
  {
   "cell_type": "code",
   "execution_count": 60,
   "metadata": {
    "id": "16vKJ-Yhm2CA"
   },
   "outputs": [],
   "source": [
    "df_vecs = pd.DataFrame(trainDataVecs,columns = ['name_'+str(x) for x in range(len(trainDataVecs[0]))])\n",
    "df_vecs['target'] = df_train['target']"
   ]
  },
  {
   "cell_type": "code",
   "execution_count": 61,
   "metadata": {
    "id": "6DBtC1m-nv0F"
   },
   "outputs": [],
   "source": [
    "X_train, X_test, y_train, y_test = train_test_split(df_vecs.drop(['target'],axis=1),df_vecs['target'], test_size=0.2,stratify=df_vecs['target'], random_state=42)"
   ]
  },
  {
   "cell_type": "code",
   "execution_count": 62,
   "metadata": {
    "colab": {
     "base_uri": "https://localhost:8080/"
    },
    "id": "qoNuCvCDn5k0",
    "outputId": "c45e75c8-741a-41b4-e418-92d87cfe7ee4"
   },
   "outputs": [
    {
     "name": "stdout",
     "output_type": "stream",
     "text": [
      "Accuracy score on the test set for char level;: 0.8122127380170716\n"
     ]
    }
   ],
   "source": [
    "clf = RandomForestClassifier(random_state=22)\n",
    "clf.fit(X_train,y_train)\n",
    "print(\"Accuracy score on the test set for char level;:\",accuracy_score(y_true=y_test,y_pred=clf.predict(X_test)))"
   ]
  },
  {
   "cell_type": "markdown",
   "metadata": {
    "id": "q5xmt2Tm0Wqx"
   },
   "source": [
    "# Deep Learning\n",
    "\n",
    "- Here we use a package called simple transformers which helps us to leverage transformer models to classify nlp tasks.\n",
    "- The transformer model we will be using is called Roberta.\n",
    "\n",
    "## Transformer model\n",
    "\n",
    "During pretraining, Roberta uses two objectives: masked language modeling and full sentence prediction.\n",
    "\n",
    "Masked Language Modeling(MLM) basically masks 80% of the 15% of the randomly selected input tokens and uses the other tokens to attempt to predict the mask (missing word).\n",
    "\n",
    "![image.png](data:image/png;base64,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)\n",
    "\n",
    "Next Sentence Prediction(NSP)is a binary classification loss for predicting whether two segments follow each other or are from a different document to create a semantic meaning.\n",
    "\n",
    "![image.png](data:image/png;base64,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)\n",
    "\n",
    "Why not Bert you might ask?\n",
    "\n",
    "Roberta uses -:\n",
    "\n",
    "- 160GB of training data, which is more.\n",
    "- Uses dynamic masking pattern instead of static masking pattern.\n",
    "- Replacing the next sentence prediction objective with full sentences without NSP.\n",
    "- Training on Longer Sequences."
   ]
  },
  {
   "cell_type": "markdown",
   "metadata": {
    "id": "5hfK4XPb1xam"
   },
   "source": [
    "Now we train the models, there will be two models\n",
    "\n",
    "- Model 1 will be trained with cleaned data , by removing stopwords.\n",
    "- Model 2 will be trained with data in which we just remove whitespaces and numbers in the data.\n",
    "\n",
    "Why two models?\n",
    "\n",
    "This to show that pretrained transformers understand context much better with stop words than the normal machine learning models. Since these models where trained on real world data without much preprocessing so they can also understand the text better like real humans can."
   ]
  },
  {
   "cell_type": "code",
   "execution_count": 65,
   "metadata": {
    "id": "3s8u5oJAurvV"
   },
   "outputs": [],
   "source": [
    "X_train, X_test, y_train, y_test = train_test_split(df_train.drop(['target'],axis=1),df_train['target'], test_size=0.2,stratify=df_train['target'], random_state=42)"
   ]
  },
  {
   "cell_type": "code",
   "execution_count": 66,
   "metadata": {
    "id": "vNnIcV_En-LH"
   },
   "outputs": [],
   "source": [
    "logging.basicConfig(level=logging.INFO)\n",
    "transformers_logger = logging.getLogger(\"transformers\")\n",
    "transformers_logger.setLevel(logging.WARNING)\n"
   ]
  },
  {
   "cell_type": "code",
   "execution_count": 67,
   "metadata": {
    "id": "9unp9KbxqU8_"
   },
   "outputs": [],
   "source": [
    "model_args = ClassificationArgs(num_train_epochs=2,overwrite_output_dir=True)"
   ]
  },
  {
   "cell_type": "code",
   "execution_count": 68,
   "metadata": {
    "colab": {
     "base_uri": "https://localhost:8080/",
     "height": 621,
     "referenced_widgets": [
      "31268e402fc3426082338c876436a774",
      "2e733231b8e2476fbee0a39c27ffca1f",
      "9c26dec15be14667a21dc0e690ff7e8a",
      "98dda0b592e04a3fb93e2dac77dd6fa9",
      "45d6f9b3ccd1455bb972a30518704e7e",
      "716d92afa529474ca93c5a7ac1fb05bb",
      "0953cb5213584d1e9d3a4c7fdab658cc",
      "863b4a9f3997412b876135deeec31150",
      "23950b9758804ee292a894a0736648a3",
      "e3729914022f4095bcff86406d92b68f",
      "2ad7bd916c2e436db4c3d32ff8bcecb2",
      "b2e56d6001ba4ad18045d6afdfec9c34",
      "17e816a93264492e91f2c6b416604474",
      "ffddaffe2cc14f13a161c86cc46d4579",
      "61fc453526f541cab9ac1597053bed21",
      "f8b15b6f1b204d74bf2937904484bc17",
      "131c393806ed4d45a376476ec91e5c8f",
      "4a6bdbc263e646a4bffc1f538cfc2ced",
      "9fb5358f7578469ab8a26dff9323927a",
      "aef9816f666c4621ad36a6ac1259ab5c",
      "209f2fa733f8440f99afc761e522c543",
      "da2831be2b0b41b3a41d6f569aaaf52d",
      "67dd5fdb7d214ad285fb3d2ef048ac83",
      "7d9e9d749841468aaf29c6374300280f",
      "50a60b3fbee646cc89cf057dee0fa3b2",
      "0f19f62a84a341d7961904a7c9f31292",
      "db71fa609f4b41d79dedc21d26cc487f",
      "4ace6f6e297b4da1a29369c08c923a77",
      "ce7b287a58fa49cb960ac3c06d628bec",
      "43ebceeed57a4607af4b92ec7ad20a96",
      "333f9c2ecf264dfb8f7c4b7333b2405c",
      "1bacaeb42ae64840b125f796562f5642",
      "493325a418d54d1d905b09f1e9586534",
      "2bfe37c0be564929b14a98aaece339c3",
      "8bc95fd270eb480ea2ea014fb158c596",
      "8f74f441046c4a889f5f0bdeebc33ac2",
      "94f3285375cb4c06b5d4b07be47372a4",
      "576365ec8af548279ba902a97997abd1",
      "3ae2990c0b164b28b6cf0938d8581c28",
      "66b7cac7c889467e950e6813f199a111",
      "35df593bbd224a9580389a6315f993ee",
      "ca2dca8af0a548888892eb7ffb1a8659",
      "7d9d13959b8d4ad7be5f2e757bf105a0",
      "019276a684504b48a2da9c33c024156e",
      "2a4e41e61f954c6e921977f8aa9253fb",
      "65578aee84854e818f019abddb582961",
      "bc5b787f19af4c29aeabb5f4c832d79d",
      "b74e156c6d0644b788978bba5371d448",
      "17e87b91f92d447dbb184abf6b21ebc2",
      "8568afc14eaf475a959638e3efa8ab31",
      "5854f1b6668d4dedae5247b5f1eba81d",
      "499e414255c14e80bf4aa4a12b1b6e3c",
      "6ea347172e20492c9dbf0d6b924475ac",
      "fc63acd99d1940d99702e2a844de3cc4",
      "c205a0efa2d74b9ca8175663ad2504de",
      "dd2ddb98765e46e19ad257ee342ea0aa",
      "298940da29394751a5f505947036ef1b",
      "69b55d7eb9da4a99b861062ef271aed1",
      "4706d6aed8574def8d01352aa5c5f2e7",
      "571505051db94f3f8508f0796a9972a4",
      "b05b962aa09c436a92e4e5613fd63087",
      "ad1ba8a252e749efa6d9c442a8f3e588",
      "b5cdb1306cb34e24918697bbfe5ddc99",
      "15f4496598dd4de5a395aa89237da276",
      "2d1b35cbabd14cbdaf60d82b9c1e7b04",
      "e1d43fe8271a4851960bbac05865dc82",
      "d47169bd150f441788c004eefad611e5",
      "a304a83866c84d3b8aa5d6cb060e4427",
      "6e136800d7be4018b20b368de8129a43",
      "dc6126dcc5264c648e960966b79395c9",
      "78348a6e21bd4e6baa4dbd7c32747a2f",
      "04ac401bc5654baa9e33ac8ecbaa1111",
      "68f651ba37054c5a8af7db6287abe68f",
      "bfc14eb1d87b4d8f83c58e68bcedd7d9",
      "81acac138aa242aeaaf5883b5a30d621",
      "71dcd78ce3694909b002537ac87b227b",
      "10b5f8c3135247f6a41f76a1e69b1ec4",
      "510bfe94b9c7429aa43f5ec52b0ec71d",
      "7a5ed2bea87e4867853b38952e95e457",
      "7630657493e547f0a8d2cf2434a2bd0e",
      "771dab22bd7e4a63bf029a3656f2c707",
      "12bf6ca6677044e7afb99bd23d1b0b06",
      "2031e59d3d0048e190d511d3e4942e4a",
      "aa37da44f3ab476ca197bac390b09d07",
      "6fbc32a53a874eac96cf691fb3dfa2a5",
      "98c3106c91824d3a8c6a6627af3b3619",
      "7487a247974a4418b338155cff1775f6",
      "0126331ca4744e96b96ee737d4bfd5f5",
      "7860518918be4bf6be679f362427e59d",
      "866f08e9c26d40aebeae13c3ac2da926",
      "5b80da411ff6468c9d5f64bed2cd16ea",
      "d65d16d2991849d7891140d0336c1c2b",
      "371f0fc4024c4f14a92850d7682c6889",
      "79e037a58a5a4cd6b476c13918ae73fc",
      "1e31958ca0ac4c8c8796802a94154fcb",
      "ee2d8a3c4ef741c4ae98f01e6b87a577",
      "10ac58fb109247e0b2501219ccd83285",
      "25b80e4f82504402acb3c4472bbbada7",
      "009b89fe86154cfe853858ff6685817e",
      "2b48ac1797914b55a4420eb63b47f071",
      "5390857180304943ba23c51a69a7f194",
      "c715aec9fee046968e1ef54301e409bd",
      "2be407829fd84267a1f8e96631ce42e4",
      "f6ad1ad2b69c4fcbb7c53adb6cdd40e5",
      "cd0f024a10c54afd86725e5a020143ce",
      "e24781ae06474a298077932d2b2c9e70",
      "0448e726b4d0430484ce2daf19d72378",
      "9317833159e447f1af71a976bec2c4a7",
      "6a7931c536cc4beab070100d673b4701",
      "1d8777c19a0048f59dc01f1240766448",
      "03a9b0df41b54d9dae67c3a62a338b3a",
      "4f92982374cb48418a5729588dfcb47f",
      "ee7e3bfd2add4c0496d9b5287da93444",
      "d062a32548c34917a80eaa98fe6d482b",
      "651e75574d03434a83d45a88877eb4e7",
      "d8dd03f2688444c0b584ccd3f7588942",
      "318f645a32c2425a983ee796c4ec860e",
      "a2197a53d8d54510834648976f69f01f",
      "ef7d6c28051b47fd93a5c488e85caa62",
      "6ad7de5f4a354634829269487a6acedf",
      "f7a98d827c2045fba88b9ee2336565b1"
     ]
    },
    "id": "34ln8DQoqX6R",
    "outputId": "a9d49cfc-0360-46e7-e226-7cd3143760ec"
   },
   "outputs": [
    {
     "data": {
      "application/vnd.jupyter.widget-view+json": {
       "model_id": "31268e402fc3426082338c876436a774",
       "version_major": 2,
       "version_minor": 0
      },
      "text/plain": [
       "Downloading:   0%|          | 0.00/481 [00:00<?, ?B/s]"
      ]
     },
     "metadata": {},
     "output_type": "display_data"
    },
    {
     "data": {
      "application/vnd.jupyter.widget-view+json": {
       "model_id": "b2e56d6001ba4ad18045d6afdfec9c34",
       "version_major": 2,
       "version_minor": 0
      },
      "text/plain": [
       "Downloading:   0%|          | 0.00/478M [00:00<?, ?B/s]"
      ]
     },
     "metadata": {},
     "output_type": "display_data"
    },
    {
     "name": "stderr",
     "output_type": "stream",
     "text": [
      "Some weights of the model checkpoint at roberta-base were not used when initializing RobertaForSequenceClassification: ['lm_head.bias', 'lm_head.dense.weight', 'lm_head.decoder.weight', 'roberta.pooler.dense.weight', 'lm_head.layer_norm.weight', 'roberta.pooler.dense.bias', 'lm_head.layer_norm.bias', 'lm_head.dense.bias']\n",
      "- This IS expected if you are initializing RobertaForSequenceClassification from the checkpoint of a model trained on another task or with another architecture (e.g. initializing a BertForSequenceClassification model from a BertForPreTraining model).\n",
      "- This IS NOT expected if you are initializing RobertaForSequenceClassification from the checkpoint of a model that you expect to be exactly identical (initializing a BertForSequenceClassification model from a BertForSequenceClassification model).\n",
      "Some weights of RobertaForSequenceClassification were not initialized from the model checkpoint at roberta-base and are newly initialized: ['classifier.dense.weight', 'classifier.out_proj.bias', 'classifier.dense.bias', 'classifier.out_proj.weight']\n",
      "You should probably TRAIN this model on a down-stream task to be able to use it for predictions and inference.\n"
     ]
    },
    {
     "data": {
      "application/vnd.jupyter.widget-view+json": {
       "model_id": "67dd5fdb7d214ad285fb3d2ef048ac83",
       "version_major": 2,
       "version_minor": 0
      },
      "text/plain": [
       "Downloading:   0%|          | 0.00/878k [00:00<?, ?B/s]"
      ]
     },
     "metadata": {},
     "output_type": "display_data"
    },
    {
     "data": {
      "application/vnd.jupyter.widget-view+json": {
       "model_id": "2bfe37c0be564929b14a98aaece339c3",
       "version_major": 2,
       "version_minor": 0
      },
      "text/plain": [
       "Downloading:   0%|          | 0.00/446k [00:00<?, ?B/s]"
      ]
     },
     "metadata": {},
     "output_type": "display_data"
    },
    {
     "data": {
      "application/vnd.jupyter.widget-view+json": {
       "model_id": "2a4e41e61f954c6e921977f8aa9253fb",
       "version_major": 2,
       "version_minor": 0
      },
      "text/plain": [
       "Downloading:   0%|          | 0.00/1.29M [00:00<?, ?B/s]"
      ]
     },
     "metadata": {},
     "output_type": "display_data"
    },
    {
     "name": "stderr",
     "output_type": "stream",
     "text": [
      "INFO:simpletransformers.classification.classification_utils: Converting to features started. Cache is not used.\n"
     ]
    },
    {
     "data": {
      "application/vnd.jupyter.widget-view+json": {
       "model_id": "dd2ddb98765e46e19ad257ee342ea0aa",
       "version_major": 2,
       "version_minor": 0
      },
      "text/plain": [
       "  0%|          | 0/6090 [00:00<?, ?it/s]"
      ]
     },
     "metadata": {},
     "output_type": "display_data"
    },
    {
     "name": "stderr",
     "output_type": "stream",
     "text": [
      "INFO:simpletransformers.classification.classification_utils: Saving features into cached file cache_dir/cached_train_roberta_128_2_2\n",
      "/usr/local/lib/python3.7/dist-packages/transformers/optimization.py:309: FutureWarning: This implementation of AdamW is deprecated and will be removed in a future version. Use the PyTorch implementation torch.optim.AdamW instead, or set `no_deprecation_warning=True` to disable this warning\n",
      "  FutureWarning,\n"
     ]
    },
    {
     "data": {
      "application/vnd.jupyter.widget-view+json": {
       "model_id": "d47169bd150f441788c004eefad611e5",
       "version_major": 2,
       "version_minor": 0
      },
      "text/plain": [
       "Epoch:   0%|          | 0/2 [00:00<?, ?it/s]"
      ]
     },
     "metadata": {},
     "output_type": "display_data"
    },
    {
     "data": {
      "application/vnd.jupyter.widget-view+json": {
       "model_id": "510bfe94b9c7429aa43f5ec52b0ec71d",
       "version_major": 2,
       "version_minor": 0
      },
      "text/plain": [
       "Running Epoch 0 of 2:   0%|          | 0/762 [00:00<?, ?it/s]"
      ]
     },
     "metadata": {},
     "output_type": "display_data"
    },
    {
     "data": {
      "application/vnd.jupyter.widget-view+json": {
       "model_id": "7860518918be4bf6be679f362427e59d",
       "version_major": 2,
       "version_minor": 0
      },
      "text/plain": [
       "Running Epoch 1 of 2:   0%|          | 0/762 [00:00<?, ?it/s]"
      ]
     },
     "metadata": {},
     "output_type": "display_data"
    },
    {
     "name": "stderr",
     "output_type": "stream",
     "text": [
      "INFO:simpletransformers.classification.classification_model: Training of roberta model complete. Saved to outputs/.\n",
      "INFO:simpletransformers.classification.classification_utils: Converting to features started. Cache is not used.\n"
     ]
    },
    {
     "data": {
      "application/vnd.jupyter.widget-view+json": {
       "model_id": "2b48ac1797914b55a4420eb63b47f071",
       "version_major": 2,
       "version_minor": 0
      },
      "text/plain": [
       "  0%|          | 0/1523 [00:00<?, ?it/s]"
      ]
     },
     "metadata": {},
     "output_type": "display_data"
    },
    {
     "name": "stderr",
     "output_type": "stream",
     "text": [
      "INFO:simpletransformers.classification.classification_utils: Saving features into cached file cache_dir/cached_dev_roberta_128_2_2\n"
     ]
    },
    {
     "data": {
      "application/vnd.jupyter.widget-view+json": {
       "model_id": "03a9b0df41b54d9dae67c3a62a338b3a",
       "version_major": 2,
       "version_minor": 0
      },
      "text/plain": [
       "Running Evaluation:   0%|          | 0/191 [00:00<?, ?it/s]"
      ]
     },
     "metadata": {},
     "output_type": "display_data"
    },
    {
     "name": "stderr",
     "output_type": "stream",
     "text": [
      "INFO:simpletransformers.classification.classification_model:{'mcc': 0.6383842725150729, 'tp': 509, 'tn': 745, 'fp': 124, 'fn': 145, 'auroc': 0.8826782515668825, 'auprc': 0.8669336992180481, 'eval_loss': 0.4453747002554189}\n"
     ]
    }
   ],
   "source": [
    "model = ClassificationModel(\n",
    "    \"roberta\", \"roberta-base\",num_labels=2, args=model_args\n",
    ")\n",
    "\n",
    "X_train['labels'] = y_train\n",
    "X_test['labels'] = y_test\n",
    "# Train the model\n",
    "model.train_model(X_train[[\"text\",\"labels\"]])\n",
    "\n",
    "# Evaluate the model\n",
    "result, model_outputs, wrong_predictions = model.eval_model(X_test[[\"text\",\"labels\"]])"
   ]
  },
  {
   "cell_type": "code",
   "execution_count": 69,
   "metadata": {
    "id": "-7ygMfw0u-br"
   },
   "outputs": [],
   "source": [
    "from scipy.special import softmax\n",
    "probabilities = softmax(model_outputs, axis=1)"
   ]
  },
  {
   "cell_type": "code",
   "execution_count": 70,
   "metadata": {
    "id": "zKa1H9hStj6E"
   },
   "outputs": [],
   "source": [
    "def get_auc(x):\n",
    "  if x[0] > 0.5:\n",
    "    return 0\n",
    "  else:\n",
    "    return 1\n",
    "y_preds = []\n",
    "for i in probabilities:\n",
    "  y_preds.append(get_auc(i))"
   ]
  },
  {
   "cell_type": "code",
   "execution_count": 71,
   "metadata": {
    "colab": {
     "base_uri": "https://localhost:8080/"
    },
    "id": "Y--ap8_avZut",
    "outputId": "db2b62d2-c884-488f-8a09-8737d285d99f"
   },
   "outputs": [
    {
     "name": "stdout",
     "output_type": "stream",
     "text": [
      "Accuracy score on the test set for cleaned data 0.8233749179251477\n"
     ]
    }
   ],
   "source": [
    "print(\"Accuracy score on the test set for cleaned data\",accuracy_score(y_true=y_test,y_pred=y_preds))"
   ]
  },
  {
   "cell_type": "code",
   "execution_count": 72,
   "metadata": {
    "id": "Ry_fC4_e00zW"
   },
   "outputs": [],
   "source": [
    "df_train = pd.read_csv('train.csv')\n",
    "\n",
    "def preprocess(x):  \n",
    "  text = x.lower()\n",
    "  text = re.sub('[^A-Za-z0-9]+', ' ', x)\n",
    "  text = re.sub(r\"[^a-zA-Z:$-,%.?!]+\", ' ', x)\n",
    "\n",
    "  return text"
   ]
  },
  {
   "cell_type": "code",
   "execution_count": 73,
   "metadata": {
    "colab": {
     "base_uri": "https://localhost:8080/"
    },
    "id": "8X14CUwz1cFd",
    "outputId": "49b1f2f4-7952-4fff-b3e4-520793d1eec9"
   },
   "outputs": [
    {
     "name": "stderr",
     "output_type": "stream",
     "text": [
      "100%|██████████| 7613/7613 [00:00<00:00, 77135.30it/s]\n"
     ]
    }
   ],
   "source": [
    "cleaned_text = []\n",
    "for i in tqdm(df_train['text']):\n",
    "    cleaned_text.append(preprocess(i))\n",
    "df_train['text'] = cleaned_text"
   ]
  },
  {
   "cell_type": "code",
   "execution_count": 74,
   "metadata": {
    "id": "SDTZL5MI1cct"
   },
   "outputs": [],
   "source": [
    "X_train, X_test, y_train, y_test = train_test_split(df_train.drop(['target'],axis=1),df_train['target'], test_size=0.2,stratify=df_train['target'], random_state=42)"
   ]
  },
  {
   "cell_type": "code",
   "execution_count": 75,
   "metadata": {
    "id": "Xid_q0ly1ox3"
   },
   "outputs": [],
   "source": [
    "logging.basicConfig(level=logging.INFO)\n",
    "transformers_logger = logging.getLogger(\"transformers\")\n",
    "transformers_logger.setLevel(logging.WARNING)\n"
   ]
  },
  {
   "cell_type": "code",
   "execution_count": 76,
   "metadata": {
    "id": "dm-Hc3Hn1o0n"
   },
   "outputs": [],
   "source": [
    "model_args = ClassificationArgs(num_train_epochs=2,overwrite_output_dir=True)"
   ]
  },
  {
   "cell_type": "code",
   "execution_count": 77,
   "metadata": {
    "colab": {
     "base_uri": "https://localhost:8080/",
     "height": 461,
     "referenced_widgets": [
      "0a848e46c3f64ece96493a94e032a97a",
      "eab1dcc183cc4b11add4d6a80707a508",
      "7039b6c96606472ab0e4a2fff269292a",
      "f0f7c1d50b484d469dd0bc3cebfeb199",
      "c2eee2295ca840a0a19858475dadbf50",
      "55800f4f486145e9ba9a3cca69a286f3",
      "9bdfd29307dc4fbe8949e0550d231bca",
      "8ae27720b7a4426fa1aa5714225a5182",
      "8996911a303842d2baa5a1688a84e523",
      "908a892e027a4f9dbf9baeac4deffd22",
      "508a6a0664914e6fad8619c84e6822f9",
      "718137e8168d494daa8dca546ed8e0dd",
      "82a6c3350a9140548e28591482ab3805",
      "11eb9d16f51f4c5e9d46d77112635074",
      "1f60186f0b2d41aaa05c3ca621ccdb33",
      "869b8609a37c45e99a0cb0472c401f15",
      "2a2d87cee93244888fa2c0ed223a352d",
      "9d70d2de516240a8ab530b179d00788b",
      "ca32cf637a6046adbb84a4978c5b279a",
      "922e4682b4f84b28a33f7882bd11db99",
      "4883baa5c74948b4b8b52cf6b8ed91af",
      "820d43171cfd46c78321f578ff8c40b6",
      "33bf62f07c5c488faf887e78ddb024bd",
      "c045b1c3d8a04fda96b4129d4955350b",
      "5ccbe75145984ece9bef258efcd83551",
      "18516d50bd624372801a1c5d7311ad57",
      "042266724e5a4dacb229a2c4a673a5db",
      "a85ab5ece2604033997f5f154b6fc569",
      "6ce6c0d3083b47d4b0a80f9d8e683de1",
      "9df1ab2e4ae3447a953c745243cffac7",
      "47a1d71e6fa54d9b81adfa8118b55a01",
      "f365f34d2b3741cda3a120d7e781f38a",
      "7136bc912441421cb9c91c213d132edf",
      "7b6d7f9ca841494a9b758889baa57208",
      "47ed5e301c694d52b8d89e78fd96b9c7",
      "ab840a4cf326483bbf7aa822cc5f06b0",
      "154d7f45b9e547b8b22c807b29b43a53",
      "14018446e8f14741890be1f875ba57bf",
      "e361a8018ebf422687ebea53e2d3ec2a",
      "2649bdd3e96243e6a347f5b46f3952bc",
      "7cc944e8f2f549d3b440db6b5b3116bd",
      "c17e83b816274cc8b11249149400848b",
      "8b4cab717a404e74b509ec565888835f",
      "84918c96fa06444197b7d8722647ab36",
      "85e48413b30549a2a41ee3477fb64c82",
      "b55fde24276342baa88e10413e999d39",
      "30e506f513f4499e9582e0811735cf8f",
      "170d994f47e2416aafe19d8120e0ea92",
      "f7e40c08f24340fba38deb26b4ac3344",
      "ab08b582a50641e0966114cdac321483",
      "585261dbedf14ac18c194d2761bfd39e",
      "fc30b16c48964856814d99c5d9d2cc65",
      "b6254acdf1834c4c8b18fa2e16a415da",
      "b4d5a950e16146f5a6a96597a0b0c6bc",
      "f798a73ce6cf4fe6b66287c1daae3ff1",
      "54fcada7b92c4fb795b2b70eef2fcb74",
      "852bd626859c442783ecda3e91aa3d9b",
      "8c70b38d07dc42f6bd36749f525e079d",
      "19c988e673cc45a686f5b6618cfe7806",
      "121a3da0a341447dbcd405deb4f37ac7",
      "4d1e4d62ac6647f2991dfe9d222a1a62",
      "9acedb13a22d4a54918054c54713fbe6",
      "532870a685b64e7cb7976ac1ec2559c3",
      "535d685947d94416a0516749b24bb24a",
      "665662dfbed64e939144e960bd06027d",
      "2a77471cacdf4b0fb450982afbe849b7"
     ]
    },
    "id": "ljPP7YZk1tT4",
    "outputId": "36357938-f6e7-44fa-e4e0-116bd7d536df"
   },
   "outputs": [
    {
     "name": "stderr",
     "output_type": "stream",
     "text": [
      "Some weights of the model checkpoint at roberta-base were not used when initializing RobertaForSequenceClassification: ['lm_head.bias', 'lm_head.dense.weight', 'lm_head.decoder.weight', 'roberta.pooler.dense.weight', 'lm_head.layer_norm.weight', 'roberta.pooler.dense.bias', 'lm_head.layer_norm.bias', 'lm_head.dense.bias']\n",
      "- This IS expected if you are initializing RobertaForSequenceClassification from the checkpoint of a model trained on another task or with another architecture (e.g. initializing a BertForSequenceClassification model from a BertForPreTraining model).\n",
      "- This IS NOT expected if you are initializing RobertaForSequenceClassification from the checkpoint of a model that you expect to be exactly identical (initializing a BertForSequenceClassification model from a BertForSequenceClassification model).\n",
      "Some weights of RobertaForSequenceClassification were not initialized from the model checkpoint at roberta-base and are newly initialized: ['classifier.dense.weight', 'classifier.out_proj.bias', 'classifier.dense.bias', 'classifier.out_proj.weight']\n",
      "You should probably TRAIN this model on a down-stream task to be able to use it for predictions and inference.\n",
      "INFO:simpletransformers.classification.classification_utils: Converting to features started. Cache is not used.\n"
     ]
    },
    {
     "data": {
      "application/vnd.jupyter.widget-view+json": {
       "model_id": "0a848e46c3f64ece96493a94e032a97a",
       "version_major": 2,
       "version_minor": 0
      },
      "text/plain": [
       "  0%|          | 0/6090 [00:00<?, ?it/s]"
      ]
     },
     "metadata": {},
     "output_type": "display_data"
    },
    {
     "name": "stderr",
     "output_type": "stream",
     "text": [
      "INFO:simpletransformers.classification.classification_utils: Saving features into cached file cache_dir/cached_train_roberta_128_2_2\n",
      "/usr/local/lib/python3.7/dist-packages/transformers/optimization.py:309: FutureWarning: This implementation of AdamW is deprecated and will be removed in a future version. Use the PyTorch implementation torch.optim.AdamW instead, or set `no_deprecation_warning=True` to disable this warning\n",
      "  FutureWarning,\n"
     ]
    },
    {
     "data": {
      "application/vnd.jupyter.widget-view+json": {
       "model_id": "718137e8168d494daa8dca546ed8e0dd",
       "version_major": 2,
       "version_minor": 0
      },
      "text/plain": [
       "Epoch:   0%|          | 0/2 [00:00<?, ?it/s]"
      ]
     },
     "metadata": {},
     "output_type": "display_data"
    },
    {
     "data": {
      "application/vnd.jupyter.widget-view+json": {
       "model_id": "33bf62f07c5c488faf887e78ddb024bd",
       "version_major": 2,
       "version_minor": 0
      },
      "text/plain": [
       "Running Epoch 0 of 2:   0%|          | 0/762 [00:00<?, ?it/s]"
      ]
     },
     "metadata": {},
     "output_type": "display_data"
    },
    {
     "data": {
      "application/vnd.jupyter.widget-view+json": {
       "model_id": "7b6d7f9ca841494a9b758889baa57208",
       "version_major": 2,
       "version_minor": 0
      },
      "text/plain": [
       "Running Epoch 1 of 2:   0%|          | 0/762 [00:00<?, ?it/s]"
      ]
     },
     "metadata": {},
     "output_type": "display_data"
    },
    {
     "name": "stderr",
     "output_type": "stream",
     "text": [
      "INFO:simpletransformers.classification.classification_model: Training of roberta model complete. Saved to outputs/.\n",
      "INFO:simpletransformers.classification.classification_utils: Converting to features started. Cache is not used.\n"
     ]
    },
    {
     "data": {
      "application/vnd.jupyter.widget-view+json": {
       "model_id": "85e48413b30549a2a41ee3477fb64c82",
       "version_major": 2,
       "version_minor": 0
      },
      "text/plain": [
       "  0%|          | 0/1523 [00:00<?, ?it/s]"
      ]
     },
     "metadata": {},
     "output_type": "display_data"
    },
    {
     "name": "stderr",
     "output_type": "stream",
     "text": [
      "INFO:simpletransformers.classification.classification_utils: Saving features into cached file cache_dir/cached_dev_roberta_128_2_2\n"
     ]
    },
    {
     "data": {
      "application/vnd.jupyter.widget-view+json": {
       "model_id": "54fcada7b92c4fb795b2b70eef2fcb74",
       "version_major": 2,
       "version_minor": 0
      },
      "text/plain": [
       "Running Evaluation:   0%|          | 0/191 [00:00<?, ?it/s]"
      ]
     },
     "metadata": {},
     "output_type": "display_data"
    },
    {
     "name": "stderr",
     "output_type": "stream",
     "text": [
      "INFO:simpletransformers.classification.classification_model:{'mcc': 0.6758954649762684, 'tp': 497, 'tn': 785, 'fp': 84, 'fn': 157, 'auroc': 0.9005438779855224, 'auprc': 0.9046599643793716, 'eval_loss': 0.4191099154075403}\n"
     ]
    }
   ],
   "source": [
    "model = ClassificationModel(\n",
    "    \"roberta\", \"roberta-base\",num_labels=2, args=model_args\n",
    ")\n",
    "\n",
    "X_train['labels'] = y_train\n",
    "X_test['labels'] = y_test\n",
    "# Train the model\n",
    "model.train_model(X_train[[\"text\",\"labels\"]])\n",
    "\n",
    "# Evaluate the model\n",
    "result, model_outputs, wrong_predictions = model.eval_model(X_test[[\"text\",\"labels\"]])"
   ]
  },
  {
   "cell_type": "code",
   "execution_count": 78,
   "metadata": {
    "id": "k8uLd-KF13V1"
   },
   "outputs": [],
   "source": [
    "probabilities = softmax(model_outputs, axis=1)\n",
    "y_preds = []\n",
    "for i in probabilities:\n",
    "  y_preds.append(get_auc(i))\n"
   ]
  },
  {
   "cell_type": "code",
   "execution_count": 79,
   "metadata": {
    "colab": {
     "base_uri": "https://localhost:8080/"
    },
    "id": "r_xJdsAu1_PC",
    "outputId": "ffe8a594-a823-4eeb-fc1b-aa7b4e6ec9e6"
   },
   "outputs": [
    {
     "name": "stdout",
     "output_type": "stream",
     "text": [
      "Accuracy score on the test set with uncleaned data 0.8417596848325674\n"
     ]
    }
   ],
   "source": [
    "print(\"Accuracy score on the test set with uncleaned data\",accuracy_score(y_true=y_test,y_pred=y_preds))"
   ]
  },
  {
   "cell_type": "markdown",
   "metadata": {
    "id": "lmW65akP3aYj"
   },
   "source": [
    "# Accuracy Chart\n",
    "\n",
    " - CountVectorizer Word Model          : 78.66%\n",
    " - CountVectorizer Char Model          : 68.94%\n",
    " - CountVectorizer Word+Char Model     : 76.69%\n",
    " - Tfidf Model                         : 79.18%\n",
    " - Word2vec Model                      : 81.22%\n",
    " - Transformer Model with Cleaned data : 82.33%\n",
    " - Transformer Model with no cleaning  : 84.17%"
   ]
  },
  {
   "cell_type": "markdown",
   "metadata": {
    "id": "whNND8KC3ach"
   },
   "source": [
    "# Improvements\n",
    "\n",
    "- The countvectorizer, word2vec and tfidf models can be improved by adding more features such as location , avg len of sentence, avg word length in a sentence, avg char length of sentence, keyword, length of a sentence.\n",
    "- Using better models such as Xgboost and use of cross validation , and model ensembling.\n",
    "\n",
    "- The deep learning model on the other hand would be improved by providing more data, retraining the pretrained model but that won't be a good idea considering these models were also trained on twitter data.\n",
    "\n",
    "- We could also ensemble different transformer models such as XLMBert, bert, distill bert and then use cross validation to increase the accuracy."
   ]
  },
  {
   "cell_type": "markdown",
   "metadata": {
    "id": "TLAdflBD3aks"
   },
   "source": [
    "# Conclusion\n",
    "\n",
    "- NLP is an amazing field with companies training such huge models such as bert with terabytes of data we don't need to make out own transformer models when we can directly use these pretrained ones to achieve state of the art accuracy.\n",
    "- Methods such as countvectorizer, tfidf and word2vec are still really good methods of feature engineering for text data. They provide really good information about text in the data and really helpful for us to train models with high accuracy.\n",
    "- If we have a tabular data with text some text information we can leverage tfidf, Countvectorizer and word2vec for feature engineering."
   ]
  }
 ],
 "metadata": {
  "accelerator": "GPU",
  "colab": {
   "collapsed_sections": [],
   "name": "StatsProject2.ipynb",
   "provenance": []
  },
  "kernelspec": {
   "display_name": "Python 3 (ipykernel)",
   "language": "python",
   "name": "python3"
  },
  "language_info": {
   "codemirror_mode": {
    "name": "ipython",
    "version": 3
   },
   "file_extension": ".py",
   "mimetype": "text/x-python",
   "name": "python",
   "nbconvert_exporter": "python",
   "pygments_lexer": "ipython3",
   "version": "3.8.12"
  },
  "widgets": {
   "application/vnd.jupyter.widget-state+json": {
    "009b89fe86154cfe853858ff6685817e": {
     "model_module": "@jupyter-widgets/controls",
     "model_module_version": "1.5.0",
     "model_name": "DescriptionStyleModel",
     "state": {
      "_model_module": "@jupyter-widgets/controls",
      "_model_module_version": "1.5.0",
      "_model_name": "DescriptionStyleModel",
      "_view_count": null,
      "_view_module": "@jupyter-widgets/base",
      "_view_module_version": "1.2.0",
      "_view_name": "StyleView",
      "description_width": ""
     }
    },
    "0126331ca4744e96b96ee737d4bfd5f5": {
     "model_module": "@jupyter-widgets/controls",
     "model_module_version": "1.5.0",
     "model_name": "DescriptionStyleModel",
     "state": {
      "_model_module": "@jupyter-widgets/controls",
      "_model_module_version": "1.5.0",
      "_model_name": "DescriptionStyleModel",
      "_view_count": null,
      "_view_module": "@jupyter-widgets/base",
      "_view_module_version": "1.2.0",
      "_view_name": "StyleView",
      "description_width": ""
     }
    },
    "019276a684504b48a2da9c33c024156e": {
     "model_module": "@jupyter-widgets/controls",
     "model_module_version": "1.5.0",
     "model_name": "DescriptionStyleModel",
     "state": {
      "_model_module": "@jupyter-widgets/controls",
      "_model_module_version": "1.5.0",
      "_model_name": "DescriptionStyleModel",
      "_view_count": null,
      "_view_module": "@jupyter-widgets/base",
      "_view_module_version": "1.2.0",
      "_view_name": "StyleView",
      "description_width": ""
     }
    },
    "03a9b0df41b54d9dae67c3a62a338b3a": {
     "model_module": "@jupyter-widgets/controls",
     "model_module_version": "1.5.0",
     "model_name": "HBoxModel",
     "state": {
      "_dom_classes": [],
      "_model_module": "@jupyter-widgets/controls",
      "_model_module_version": "1.5.0",
      "_model_name": "HBoxModel",
      "_view_count": null,
      "_view_module": "@jupyter-widgets/controls",
      "_view_module_version": "1.5.0",
      "_view_name": "HBoxView",
      "box_style": "",
      "children": [
       "IPY_MODEL_4f92982374cb48418a5729588dfcb47f",
       "IPY_MODEL_ee7e3bfd2add4c0496d9b5287da93444",
       "IPY_MODEL_d062a32548c34917a80eaa98fe6d482b"
      ],
      "layout": "IPY_MODEL_651e75574d03434a83d45a88877eb4e7"
     }
    },
    "042266724e5a4dacb229a2c4a673a5db": {
     "model_module": "@jupyter-widgets/base",
     "model_module_version": "1.2.0",
     "model_name": "LayoutModel",
     "state": {
      "_model_module": "@jupyter-widgets/base",
      "_model_module_version": "1.2.0",
      "_model_name": "LayoutModel",
      "_view_count": null,
      "_view_module": "@jupyter-widgets/base",
      "_view_module_version": "1.2.0",
      "_view_name": "LayoutView",
      "align_content": null,
      "align_items": null,
      "align_self": null,
      "border": null,
      "bottom": null,
      "display": null,
      "flex": null,
      "flex_flow": null,
      "grid_area": null,
      "grid_auto_columns": null,
      "grid_auto_flow": null,
      "grid_auto_rows": null,
      "grid_column": null,
      "grid_gap": null,
      "grid_row": null,
      "grid_template_areas": null,
      "grid_template_columns": null,
      "grid_template_rows": null,
      "height": null,
      "justify_content": null,
      "justify_items": null,
      "left": null,
      "margin": null,
      "max_height": null,
      "max_width": null,
      "min_height": null,
      "min_width": null,
      "object_fit": null,
      "object_position": null,
      "order": null,
      "overflow": null,
      "overflow_x": null,
      "overflow_y": null,
      "padding": null,
      "right": null,
      "top": null,
      "visibility": null,
      "width": null
     }
    },
    "0448e726b4d0430484ce2daf19d72378": {
     "model_module": "@jupyter-widgets/base",
     "model_module_version": "1.2.0",
     "model_name": "LayoutModel",
     "state": {
      "_model_module": "@jupyter-widgets/base",
      "_model_module_version": "1.2.0",
      "_model_name": "LayoutModel",
      "_view_count": null,
      "_view_module": "@jupyter-widgets/base",
      "_view_module_version": "1.2.0",
      "_view_name": "LayoutView",
      "align_content": null,
      "align_items": null,
      "align_self": null,
      "border": null,
      "bottom": null,
      "display": null,
      "flex": null,
      "flex_flow": null,
      "grid_area": null,
      "grid_auto_columns": null,
      "grid_auto_flow": null,
      "grid_auto_rows": null,
      "grid_column": null,
      "grid_gap": null,
      "grid_row": null,
      "grid_template_areas": null,
      "grid_template_columns": null,
      "grid_template_rows": null,
      "height": null,
      "justify_content": null,
      "justify_items": null,
      "left": null,
      "margin": null,
      "max_height": null,
      "max_width": null,
      "min_height": null,
      "min_width": null,
      "object_fit": null,
      "object_position": null,
      "order": null,
      "overflow": null,
      "overflow_x": null,
      "overflow_y": null,
      "padding": null,
      "right": null,
      "top": null,
      "visibility": null,
      "width": null
     }
    },
    "04ac401bc5654baa9e33ac8ecbaa1111": {
     "model_module": "@jupyter-widgets/base",
     "model_module_version": "1.2.0",
     "model_name": "LayoutModel",
     "state": {
      "_model_module": "@jupyter-widgets/base",
      "_model_module_version": "1.2.0",
      "_model_name": "LayoutModel",
      "_view_count": null,
      "_view_module": "@jupyter-widgets/base",
      "_view_module_version": "1.2.0",
      "_view_name": "LayoutView",
      "align_content": null,
      "align_items": null,
      "align_self": null,
      "border": null,
      "bottom": null,
      "display": null,
      "flex": null,
      "flex_flow": null,
      "grid_area": null,
      "grid_auto_columns": null,
      "grid_auto_flow": null,
      "grid_auto_rows": null,
      "grid_column": null,
      "grid_gap": null,
      "grid_row": null,
      "grid_template_areas": null,
      "grid_template_columns": null,
      "grid_template_rows": null,
      "height": null,
      "justify_content": null,
      "justify_items": null,
      "left": null,
      "margin": null,
      "max_height": null,
      "max_width": null,
      "min_height": null,
      "min_width": null,
      "object_fit": null,
      "object_position": null,
      "order": null,
      "overflow": null,
      "overflow_x": null,
      "overflow_y": null,
      "padding": null,
      "right": null,
      "top": null,
      "visibility": null,
      "width": null
     }
    },
    "0953cb5213584d1e9d3a4c7fdab658cc": {
     "model_module": "@jupyter-widgets/controls",
     "model_module_version": "1.5.0",
     "model_name": "DescriptionStyleModel",
     "state": {
      "_model_module": "@jupyter-widgets/controls",
      "_model_module_version": "1.5.0",
      "_model_name": "DescriptionStyleModel",
      "_view_count": null,
      "_view_module": "@jupyter-widgets/base",
      "_view_module_version": "1.2.0",
      "_view_name": "StyleView",
      "description_width": ""
     }
    },
    "0a848e46c3f64ece96493a94e032a97a": {
     "model_module": "@jupyter-widgets/controls",
     "model_module_version": "1.5.0",
     "model_name": "HBoxModel",
     "state": {
      "_dom_classes": [],
      "_model_module": "@jupyter-widgets/controls",
      "_model_module_version": "1.5.0",
      "_model_name": "HBoxModel",
      "_view_count": null,
      "_view_module": "@jupyter-widgets/controls",
      "_view_module_version": "1.5.0",
      "_view_name": "HBoxView",
      "box_style": "",
      "children": [
       "IPY_MODEL_eab1dcc183cc4b11add4d6a80707a508",
       "IPY_MODEL_7039b6c96606472ab0e4a2fff269292a",
       "IPY_MODEL_f0f7c1d50b484d469dd0bc3cebfeb199"
      ],
      "layout": "IPY_MODEL_c2eee2295ca840a0a19858475dadbf50"
     }
    },
    "0f19f62a84a341d7961904a7c9f31292": {
     "model_module": "@jupyter-widgets/controls",
     "model_module_version": "1.5.0",
     "model_name": "HTMLModel",
     "state": {
      "_dom_classes": [],
      "_model_module": "@jupyter-widgets/controls",
      "_model_module_version": "1.5.0",
      "_model_name": "HTMLModel",
      "_view_count": null,
      "_view_module": "@jupyter-widgets/controls",
      "_view_module_version": "1.5.0",
      "_view_name": "HTMLView",
      "description": "",
      "description_tooltip": null,
      "layout": "IPY_MODEL_1bacaeb42ae64840b125f796562f5642",
      "placeholder": "​",
      "style": "IPY_MODEL_493325a418d54d1d905b09f1e9586534",
      "value": " 878k/878k [00:00&lt;00:00, 2.13MB/s]"
     }
    },
    "10ac58fb109247e0b2501219ccd83285": {
     "model_module": "@jupyter-widgets/controls",
     "model_module_version": "1.5.0",
     "model_name": "ProgressStyleModel",
     "state": {
      "_model_module": "@jupyter-widgets/controls",
      "_model_module_version": "1.5.0",
      "_model_name": "ProgressStyleModel",
      "_view_count": null,
      "_view_module": "@jupyter-widgets/base",
      "_view_module_version": "1.2.0",
      "_view_name": "StyleView",
      "bar_color": null,
      "description_width": ""
     }
    },
    "10b5f8c3135247f6a41f76a1e69b1ec4": {
     "model_module": "@jupyter-widgets/controls",
     "model_module_version": "1.5.0",
     "model_name": "DescriptionStyleModel",
     "state": {
      "_model_module": "@jupyter-widgets/controls",
      "_model_module_version": "1.5.0",
      "_model_name": "DescriptionStyleModel",
      "_view_count": null,
      "_view_module": "@jupyter-widgets/base",
      "_view_module_version": "1.2.0",
      "_view_name": "StyleView",
      "description_width": ""
     }
    },
    "11eb9d16f51f4c5e9d46d77112635074": {
     "model_module": "@jupyter-widgets/controls",
     "model_module_version": "1.5.0",
     "model_name": "FloatProgressModel",
     "state": {
      "_dom_classes": [],
      "_model_module": "@jupyter-widgets/controls",
      "_model_module_version": "1.5.0",
      "_model_name": "FloatProgressModel",
      "_view_count": null,
      "_view_module": "@jupyter-widgets/controls",
      "_view_module_version": "1.5.0",
      "_view_name": "ProgressView",
      "bar_style": "success",
      "description": "",
      "description_tooltip": null,
      "layout": "IPY_MODEL_ca32cf637a6046adbb84a4978c5b279a",
      "max": 2,
      "min": 0,
      "orientation": "horizontal",
      "style": "IPY_MODEL_922e4682b4f84b28a33f7882bd11db99",
      "value": 2
     }
    },
    "121a3da0a341447dbcd405deb4f37ac7": {
     "model_module": "@jupyter-widgets/base",
     "model_module_version": "1.2.0",
     "model_name": "LayoutModel",
     "state": {
      "_model_module": "@jupyter-widgets/base",
      "_model_module_version": "1.2.0",
      "_model_name": "LayoutModel",
      "_view_count": null,
      "_view_module": "@jupyter-widgets/base",
      "_view_module_version": "1.2.0",
      "_view_name": "LayoutView",
      "align_content": null,
      "align_items": null,
      "align_self": null,
      "border": null,
      "bottom": null,
      "display": null,
      "flex": null,
      "flex_flow": null,
      "grid_area": null,
      "grid_auto_columns": null,
      "grid_auto_flow": null,
      "grid_auto_rows": null,
      "grid_column": null,
      "grid_gap": null,
      "grid_row": null,
      "grid_template_areas": null,
      "grid_template_columns": null,
      "grid_template_rows": null,
      "height": null,
      "justify_content": null,
      "justify_items": null,
      "left": null,
      "margin": null,
      "max_height": null,
      "max_width": null,
      "min_height": null,
      "min_width": null,
      "object_fit": null,
      "object_position": null,
      "order": null,
      "overflow": null,
      "overflow_x": null,
      "overflow_y": null,
      "padding": null,
      "right": null,
      "top": null,
      "visibility": null,
      "width": null
     }
    },
    "12bf6ca6677044e7afb99bd23d1b0b06": {
     "model_module": "@jupyter-widgets/base",
     "model_module_version": "1.2.0",
     "model_name": "LayoutModel",
     "state": {
      "_model_module": "@jupyter-widgets/base",
      "_model_module_version": "1.2.0",
      "_model_name": "LayoutModel",
      "_view_count": null,
      "_view_module": "@jupyter-widgets/base",
      "_view_module_version": "1.2.0",
      "_view_name": "LayoutView",
      "align_content": null,
      "align_items": null,
      "align_self": null,
      "border": null,
      "bottom": null,
      "display": null,
      "flex": null,
      "flex_flow": null,
      "grid_area": null,
      "grid_auto_columns": null,
      "grid_auto_flow": null,
      "grid_auto_rows": null,
      "grid_column": null,
      "grid_gap": null,
      "grid_row": null,
      "grid_template_areas": null,
      "grid_template_columns": null,
      "grid_template_rows": null,
      "height": null,
      "justify_content": null,
      "justify_items": null,
      "left": null,
      "margin": null,
      "max_height": null,
      "max_width": null,
      "min_height": null,
      "min_width": null,
      "object_fit": null,
      "object_position": null,
      "order": null,
      "overflow": null,
      "overflow_x": null,
      "overflow_y": null,
      "padding": null,
      "right": null,
      "top": null,
      "visibility": null,
      "width": null
     }
    },
    "131c393806ed4d45a376476ec91e5c8f": {
     "model_module": "@jupyter-widgets/base",
     "model_module_version": "1.2.0",
     "model_name": "LayoutModel",
     "state": {
      "_model_module": "@jupyter-widgets/base",
      "_model_module_version": "1.2.0",
      "_model_name": "LayoutModel",
      "_view_count": null,
      "_view_module": "@jupyter-widgets/base",
      "_view_module_version": "1.2.0",
      "_view_name": "LayoutView",
      "align_content": null,
      "align_items": null,
      "align_self": null,
      "border": null,
      "bottom": null,
      "display": null,
      "flex": null,
      "flex_flow": null,
      "grid_area": null,
      "grid_auto_columns": null,
      "grid_auto_flow": null,
      "grid_auto_rows": null,
      "grid_column": null,
      "grid_gap": null,
      "grid_row": null,
      "grid_template_areas": null,
      "grid_template_columns": null,
      "grid_template_rows": null,
      "height": null,
      "justify_content": null,
      "justify_items": null,
      "left": null,
      "margin": null,
      "max_height": null,
      "max_width": null,
      "min_height": null,
      "min_width": null,
      "object_fit": null,
      "object_position": null,
      "order": null,
      "overflow": null,
      "overflow_x": null,
      "overflow_y": null,
      "padding": null,
      "right": null,
      "top": null,
      "visibility": null,
      "width": null
     }
    },
    "14018446e8f14741890be1f875ba57bf": {
     "model_module": "@jupyter-widgets/base",
     "model_module_version": "1.2.0",
     "model_name": "LayoutModel",
     "state": {
      "_model_module": "@jupyter-widgets/base",
      "_model_module_version": "1.2.0",
      "_model_name": "LayoutModel",
      "_view_count": null,
      "_view_module": "@jupyter-widgets/base",
      "_view_module_version": "1.2.0",
      "_view_name": "LayoutView",
      "align_content": null,
      "align_items": null,
      "align_self": null,
      "border": null,
      "bottom": null,
      "display": null,
      "flex": null,
      "flex_flow": null,
      "grid_area": null,
      "grid_auto_columns": null,
      "grid_auto_flow": null,
      "grid_auto_rows": null,
      "grid_column": null,
      "grid_gap": null,
      "grid_row": null,
      "grid_template_areas": null,
      "grid_template_columns": null,
      "grid_template_rows": null,
      "height": null,
      "justify_content": null,
      "justify_items": null,
      "left": null,
      "margin": null,
      "max_height": null,
      "max_width": null,
      "min_height": null,
      "min_width": null,
      "object_fit": null,
      "object_position": null,
      "order": null,
      "overflow": null,
      "overflow_x": null,
      "overflow_y": null,
      "padding": null,
      "right": null,
      "top": null,
      "visibility": null,
      "width": null
     }
    },
    "154d7f45b9e547b8b22c807b29b43a53": {
     "model_module": "@jupyter-widgets/controls",
     "model_module_version": "1.5.0",
     "model_name": "HTMLModel",
     "state": {
      "_dom_classes": [],
      "_model_module": "@jupyter-widgets/controls",
      "_model_module_version": "1.5.0",
      "_model_name": "HTMLModel",
      "_view_count": null,
      "_view_module": "@jupyter-widgets/controls",
      "_view_module_version": "1.5.0",
      "_view_name": "HTMLView",
      "description": "",
      "description_tooltip": null,
      "layout": "IPY_MODEL_8b4cab717a404e74b509ec565888835f",
      "placeholder": "​",
      "style": "IPY_MODEL_84918c96fa06444197b7d8722647ab36",
      "value": " 762/762 [01:31&lt;00:00,  8.85it/s]"
     }
    },
    "15f4496598dd4de5a395aa89237da276": {
     "model_module": "@jupyter-widgets/controls",
     "model_module_version": "1.5.0",
     "model_name": "ProgressStyleModel",
     "state": {
      "_model_module": "@jupyter-widgets/controls",
      "_model_module_version": "1.5.0",
      "_model_name": "ProgressStyleModel",
      "_view_count": null,
      "_view_module": "@jupyter-widgets/base",
      "_view_module_version": "1.2.0",
      "_view_name": "StyleView",
      "bar_color": null,
      "description_width": ""
     }
    },
    "170d994f47e2416aafe19d8120e0ea92": {
     "model_module": "@jupyter-widgets/controls",
     "model_module_version": "1.5.0",
     "model_name": "HTMLModel",
     "state": {
      "_dom_classes": [],
      "_model_module": "@jupyter-widgets/controls",
      "_model_module_version": "1.5.0",
      "_model_name": "HTMLModel",
      "_view_count": null,
      "_view_module": "@jupyter-widgets/controls",
      "_view_module_version": "1.5.0",
      "_view_name": "HTMLView",
      "description": "",
      "description_tooltip": null,
      "layout": "IPY_MODEL_b4d5a950e16146f5a6a96597a0b0c6bc",
      "placeholder": "​",
      "style": "IPY_MODEL_f798a73ce6cf4fe6b66287c1daae3ff1",
      "value": " 4/1523 [00:00&lt;04:42,  5.37it/s]"
     }
    },
    "17e816a93264492e91f2c6b416604474": {
     "model_module": "@jupyter-widgets/controls",
     "model_module_version": "1.5.0",
     "model_name": "HTMLModel",
     "state": {
      "_dom_classes": [],
      "_model_module": "@jupyter-widgets/controls",
      "_model_module_version": "1.5.0",
      "_model_name": "HTMLModel",
      "_view_count": null,
      "_view_module": "@jupyter-widgets/controls",
      "_view_module_version": "1.5.0",
      "_view_name": "HTMLView",
      "description": "",
      "description_tooltip": null,
      "layout": "IPY_MODEL_131c393806ed4d45a376476ec91e5c8f",
      "placeholder": "​",
      "style": "IPY_MODEL_4a6bdbc263e646a4bffc1f538cfc2ced",
      "value": "Downloading: 100%"
     }
    },
    "17e87b91f92d447dbb184abf6b21ebc2": {
     "model_module": "@jupyter-widgets/base",
     "model_module_version": "1.2.0",
     "model_name": "LayoutModel",
     "state": {
      "_model_module": "@jupyter-widgets/base",
      "_model_module_version": "1.2.0",
      "_model_name": "LayoutModel",
      "_view_count": null,
      "_view_module": "@jupyter-widgets/base",
      "_view_module_version": "1.2.0",
      "_view_name": "LayoutView",
      "align_content": null,
      "align_items": null,
      "align_self": null,
      "border": null,
      "bottom": null,
      "display": null,
      "flex": null,
      "flex_flow": null,
      "grid_area": null,
      "grid_auto_columns": null,
      "grid_auto_flow": null,
      "grid_auto_rows": null,
      "grid_column": null,
      "grid_gap": null,
      "grid_row": null,
      "grid_template_areas": null,
      "grid_template_columns": null,
      "grid_template_rows": null,
      "height": null,
      "justify_content": null,
      "justify_items": null,
      "left": null,
      "margin": null,
      "max_height": null,
      "max_width": null,
      "min_height": null,
      "min_width": null,
      "object_fit": null,
      "object_position": null,
      "order": null,
      "overflow": null,
      "overflow_x": null,
      "overflow_y": null,
      "padding": null,
      "right": null,
      "top": null,
      "visibility": null,
      "width": null
     }
    },
    "18516d50bd624372801a1c5d7311ad57": {
     "model_module": "@jupyter-widgets/controls",
     "model_module_version": "1.5.0",
     "model_name": "HTMLModel",
     "state": {
      "_dom_classes": [],
      "_model_module": "@jupyter-widgets/controls",
      "_model_module_version": "1.5.0",
      "_model_name": "HTMLModel",
      "_view_count": null,
      "_view_module": "@jupyter-widgets/controls",
      "_view_module_version": "1.5.0",
      "_view_name": "HTMLView",
      "description": "",
      "description_tooltip": null,
      "layout": "IPY_MODEL_f365f34d2b3741cda3a120d7e781f38a",
      "placeholder": "​",
      "style": "IPY_MODEL_7136bc912441421cb9c91c213d132edf",
      "value": " 762/762 [01:33&lt;00:00,  8.78it/s]"
     }
    },
    "19c988e673cc45a686f5b6618cfe7806": {
     "model_module": "@jupyter-widgets/controls",
     "model_module_version": "1.5.0",
     "model_name": "HTMLModel",
     "state": {
      "_dom_classes": [],
      "_model_module": "@jupyter-widgets/controls",
      "_model_module_version": "1.5.0",
      "_model_name": "HTMLModel",
      "_view_count": null,
      "_view_module": "@jupyter-widgets/controls",
      "_view_module_version": "1.5.0",
      "_view_name": "HTMLView",
      "description": "",
      "description_tooltip": null,
      "layout": "IPY_MODEL_665662dfbed64e939144e960bd06027d",
      "placeholder": "​",
      "style": "IPY_MODEL_2a77471cacdf4b0fb450982afbe849b7",
      "value": " 191/191 [00:04&lt;00:00, 40.57it/s]"
     }
    },
    "1bacaeb42ae64840b125f796562f5642": {
     "model_module": "@jupyter-widgets/base",
     "model_module_version": "1.2.0",
     "model_name": "LayoutModel",
     "state": {
      "_model_module": "@jupyter-widgets/base",
      "_model_module_version": "1.2.0",
      "_model_name": "LayoutModel",
      "_view_count": null,
      "_view_module": "@jupyter-widgets/base",
      "_view_module_version": "1.2.0",
      "_view_name": "LayoutView",
      "align_content": null,
      "align_items": null,
      "align_self": null,
      "border": null,
      "bottom": null,
      "display": null,
      "flex": null,
      "flex_flow": null,
      "grid_area": null,
      "grid_auto_columns": null,
      "grid_auto_flow": null,
      "grid_auto_rows": null,
      "grid_column": null,
      "grid_gap": null,
      "grid_row": null,
      "grid_template_areas": null,
      "grid_template_columns": null,
      "grid_template_rows": null,
      "height": null,
      "justify_content": null,
      "justify_items": null,
      "left": null,
      "margin": null,
      "max_height": null,
      "max_width": null,
      "min_height": null,
      "min_width": null,
      "object_fit": null,
      "object_position": null,
      "order": null,
      "overflow": null,
      "overflow_x": null,
      "overflow_y": null,
      "padding": null,
      "right": null,
      "top": null,
      "visibility": null,
      "width": null
     }
    },
    "1d8777c19a0048f59dc01f1240766448": {
     "model_module": "@jupyter-widgets/controls",
     "model_module_version": "1.5.0",
     "model_name": "DescriptionStyleModel",
     "state": {
      "_model_module": "@jupyter-widgets/controls",
      "_model_module_version": "1.5.0",
      "_model_name": "DescriptionStyleModel",
      "_view_count": null,
      "_view_module": "@jupyter-widgets/base",
      "_view_module_version": "1.2.0",
      "_view_name": "StyleView",
      "description_width": ""
     }
    },
    "1e31958ca0ac4c8c8796802a94154fcb": {
     "model_module": "@jupyter-widgets/controls",
     "model_module_version": "1.5.0",
     "model_name": "DescriptionStyleModel",
     "state": {
      "_model_module": "@jupyter-widgets/controls",
      "_model_module_version": "1.5.0",
      "_model_name": "DescriptionStyleModel",
      "_view_count": null,
      "_view_module": "@jupyter-widgets/base",
      "_view_module_version": "1.2.0",
      "_view_name": "StyleView",
      "description_width": ""
     }
    },
    "1f60186f0b2d41aaa05c3ca621ccdb33": {
     "model_module": "@jupyter-widgets/controls",
     "model_module_version": "1.5.0",
     "model_name": "HTMLModel",
     "state": {
      "_dom_classes": [],
      "_model_module": "@jupyter-widgets/controls",
      "_model_module_version": "1.5.0",
      "_model_name": "HTMLModel",
      "_view_count": null,
      "_view_module": "@jupyter-widgets/controls",
      "_view_module_version": "1.5.0",
      "_view_name": "HTMLView",
      "description": "",
      "description_tooltip": null,
      "layout": "IPY_MODEL_4883baa5c74948b4b8b52cf6b8ed91af",
      "placeholder": "​",
      "style": "IPY_MODEL_820d43171cfd46c78321f578ff8c40b6",
      "value": " 2/2 [03:16&lt;00:00, 98.11s/it]"
     }
    },
    "2031e59d3d0048e190d511d3e4942e4a": {
     "model_module": "@jupyter-widgets/base",
     "model_module_version": "1.2.0",
     "model_name": "LayoutModel",
     "state": {
      "_model_module": "@jupyter-widgets/base",
      "_model_module_version": "1.2.0",
      "_model_name": "LayoutModel",
      "_view_count": null,
      "_view_module": "@jupyter-widgets/base",
      "_view_module_version": "1.2.0",
      "_view_name": "LayoutView",
      "align_content": null,
      "align_items": null,
      "align_self": null,
      "border": null,
      "bottom": null,
      "display": null,
      "flex": null,
      "flex_flow": null,
      "grid_area": null,
      "grid_auto_columns": null,
      "grid_auto_flow": null,
      "grid_auto_rows": null,
      "grid_column": null,
      "grid_gap": null,
      "grid_row": null,
      "grid_template_areas": null,
      "grid_template_columns": null,
      "grid_template_rows": null,
      "height": null,
      "justify_content": null,
      "justify_items": null,
      "left": null,
      "margin": null,
      "max_height": null,
      "max_width": null,
      "min_height": null,
      "min_width": null,
      "object_fit": null,
      "object_position": null,
      "order": null,
      "overflow": null,
      "overflow_x": null,
      "overflow_y": null,
      "padding": null,
      "right": null,
      "top": null,
      "visibility": null,
      "width": null
     }
    },
    "209f2fa733f8440f99afc761e522c543": {
     "model_module": "@jupyter-widgets/base",
     "model_module_version": "1.2.0",
     "model_name": "LayoutModel",
     "state": {
      "_model_module": "@jupyter-widgets/base",
      "_model_module_version": "1.2.0",
      "_model_name": "LayoutModel",
      "_view_count": null,
      "_view_module": "@jupyter-widgets/base",
      "_view_module_version": "1.2.0",
      "_view_name": "LayoutView",
      "align_content": null,
      "align_items": null,
      "align_self": null,
      "border": null,
      "bottom": null,
      "display": null,
      "flex": null,
      "flex_flow": null,
      "grid_area": null,
      "grid_auto_columns": null,
      "grid_auto_flow": null,
      "grid_auto_rows": null,
      "grid_column": null,
      "grid_gap": null,
      "grid_row": null,
      "grid_template_areas": null,
      "grid_template_columns": null,
      "grid_template_rows": null,
      "height": null,
      "justify_content": null,
      "justify_items": null,
      "left": null,
      "margin": null,
      "max_height": null,
      "max_width": null,
      "min_height": null,
      "min_width": null,
      "object_fit": null,
      "object_position": null,
      "order": null,
      "overflow": null,
      "overflow_x": null,
      "overflow_y": null,
      "padding": null,
      "right": null,
      "top": null,
      "visibility": null,
      "width": null
     }
    },
    "23950b9758804ee292a894a0736648a3": {
     "model_module": "@jupyter-widgets/controls",
     "model_module_version": "1.5.0",
     "model_name": "ProgressStyleModel",
     "state": {
      "_model_module": "@jupyter-widgets/controls",
      "_model_module_version": "1.5.0",
      "_model_name": "ProgressStyleModel",
      "_view_count": null,
      "_view_module": "@jupyter-widgets/base",
      "_view_module_version": "1.2.0",
      "_view_name": "StyleView",
      "bar_color": null,
      "description_width": ""
     }
    },
    "25b80e4f82504402acb3c4472bbbada7": {
     "model_module": "@jupyter-widgets/base",
     "model_module_version": "1.2.0",
     "model_name": "LayoutModel",
     "state": {
      "_model_module": "@jupyter-widgets/base",
      "_model_module_version": "1.2.0",
      "_model_name": "LayoutModel",
      "_view_count": null,
      "_view_module": "@jupyter-widgets/base",
      "_view_module_version": "1.2.0",
      "_view_name": "LayoutView",
      "align_content": null,
      "align_items": null,
      "align_self": null,
      "border": null,
      "bottom": null,
      "display": null,
      "flex": null,
      "flex_flow": null,
      "grid_area": null,
      "grid_auto_columns": null,
      "grid_auto_flow": null,
      "grid_auto_rows": null,
      "grid_column": null,
      "grid_gap": null,
      "grid_row": null,
      "grid_template_areas": null,
      "grid_template_columns": null,
      "grid_template_rows": null,
      "height": null,
      "justify_content": null,
      "justify_items": null,
      "left": null,
      "margin": null,
      "max_height": null,
      "max_width": null,
      "min_height": null,
      "min_width": null,
      "object_fit": null,
      "object_position": null,
      "order": null,
      "overflow": null,
      "overflow_x": null,
      "overflow_y": null,
      "padding": null,
      "right": null,
      "top": null,
      "visibility": null,
      "width": null
     }
    },
    "2649bdd3e96243e6a347f5b46f3952bc": {
     "model_module": "@jupyter-widgets/controls",
     "model_module_version": "1.5.0",
     "model_name": "DescriptionStyleModel",
     "state": {
      "_model_module": "@jupyter-widgets/controls",
      "_model_module_version": "1.5.0",
      "_model_name": "DescriptionStyleModel",
      "_view_count": null,
      "_view_module": "@jupyter-widgets/base",
      "_view_module_version": "1.2.0",
      "_view_name": "StyleView",
      "description_width": ""
     }
    },
    "298940da29394751a5f505947036ef1b": {
     "model_module": "@jupyter-widgets/controls",
     "model_module_version": "1.5.0",
     "model_name": "HTMLModel",
     "state": {
      "_dom_classes": [],
      "_model_module": "@jupyter-widgets/controls",
      "_model_module_version": "1.5.0",
      "_model_name": "HTMLModel",
      "_view_count": null,
      "_view_module": "@jupyter-widgets/controls",
      "_view_module_version": "1.5.0",
      "_view_name": "HTMLView",
      "description": "",
      "description_tooltip": null,
      "layout": "IPY_MODEL_b05b962aa09c436a92e4e5613fd63087",
      "placeholder": "​",
      "style": "IPY_MODEL_ad1ba8a252e749efa6d9c442a8f3e588",
      "value": "  0%"
     }
    },
    "2a2d87cee93244888fa2c0ed223a352d": {
     "model_module": "@jupyter-widgets/base",
     "model_module_version": "1.2.0",
     "model_name": "LayoutModel",
     "state": {
      "_model_module": "@jupyter-widgets/base",
      "_model_module_version": "1.2.0",
      "_model_name": "LayoutModel",
      "_view_count": null,
      "_view_module": "@jupyter-widgets/base",
      "_view_module_version": "1.2.0",
      "_view_name": "LayoutView",
      "align_content": null,
      "align_items": null,
      "align_self": null,
      "border": null,
      "bottom": null,
      "display": null,
      "flex": null,
      "flex_flow": null,
      "grid_area": null,
      "grid_auto_columns": null,
      "grid_auto_flow": null,
      "grid_auto_rows": null,
      "grid_column": null,
      "grid_gap": null,
      "grid_row": null,
      "grid_template_areas": null,
      "grid_template_columns": null,
      "grid_template_rows": null,
      "height": null,
      "justify_content": null,
      "justify_items": null,
      "left": null,
      "margin": null,
      "max_height": null,
      "max_width": null,
      "min_height": null,
      "min_width": null,
      "object_fit": null,
      "object_position": null,
      "order": null,
      "overflow": null,
      "overflow_x": null,
      "overflow_y": null,
      "padding": null,
      "right": null,
      "top": null,
      "visibility": null,
      "width": null
     }
    },
    "2a4e41e61f954c6e921977f8aa9253fb": {
     "model_module": "@jupyter-widgets/controls",
     "model_module_version": "1.5.0",
     "model_name": "HBoxModel",
     "state": {
      "_dom_classes": [],
      "_model_module": "@jupyter-widgets/controls",
      "_model_module_version": "1.5.0",
      "_model_name": "HBoxModel",
      "_view_count": null,
      "_view_module": "@jupyter-widgets/controls",
      "_view_module_version": "1.5.0",
      "_view_name": "HBoxView",
      "box_style": "",
      "children": [
       "IPY_MODEL_65578aee84854e818f019abddb582961",
       "IPY_MODEL_bc5b787f19af4c29aeabb5f4c832d79d",
       "IPY_MODEL_b74e156c6d0644b788978bba5371d448"
      ],
      "layout": "IPY_MODEL_17e87b91f92d447dbb184abf6b21ebc2"
     }
    },
    "2a77471cacdf4b0fb450982afbe849b7": {
     "model_module": "@jupyter-widgets/controls",
     "model_module_version": "1.5.0",
     "model_name": "DescriptionStyleModel",
     "state": {
      "_model_module": "@jupyter-widgets/controls",
      "_model_module_version": "1.5.0",
      "_model_name": "DescriptionStyleModel",
      "_view_count": null,
      "_view_module": "@jupyter-widgets/base",
      "_view_module_version": "1.2.0",
      "_view_name": "StyleView",
      "description_width": ""
     }
    },
    "2ad7bd916c2e436db4c3d32ff8bcecb2": {
     "model_module": "@jupyter-widgets/controls",
     "model_module_version": "1.5.0",
     "model_name": "DescriptionStyleModel",
     "state": {
      "_model_module": "@jupyter-widgets/controls",
      "_model_module_version": "1.5.0",
      "_model_name": "DescriptionStyleModel",
      "_view_count": null,
      "_view_module": "@jupyter-widgets/base",
      "_view_module_version": "1.2.0",
      "_view_name": "StyleView",
      "description_width": ""
     }
    },
    "2b48ac1797914b55a4420eb63b47f071": {
     "model_module": "@jupyter-widgets/controls",
     "model_module_version": "1.5.0",
     "model_name": "HBoxModel",
     "state": {
      "_dom_classes": [],
      "_model_module": "@jupyter-widgets/controls",
      "_model_module_version": "1.5.0",
      "_model_name": "HBoxModel",
      "_view_count": null,
      "_view_module": "@jupyter-widgets/controls",
      "_view_module_version": "1.5.0",
      "_view_name": "HBoxView",
      "box_style": "",
      "children": [
       "IPY_MODEL_5390857180304943ba23c51a69a7f194",
       "IPY_MODEL_c715aec9fee046968e1ef54301e409bd",
       "IPY_MODEL_2be407829fd84267a1f8e96631ce42e4"
      ],
      "layout": "IPY_MODEL_f6ad1ad2b69c4fcbb7c53adb6cdd40e5"
     }
    },
    "2be407829fd84267a1f8e96631ce42e4": {
     "model_module": "@jupyter-widgets/controls",
     "model_module_version": "1.5.0",
     "model_name": "HTMLModel",
     "state": {
      "_dom_classes": [],
      "_model_module": "@jupyter-widgets/controls",
      "_model_module_version": "1.5.0",
      "_model_name": "HTMLModel",
      "_view_count": null,
      "_view_module": "@jupyter-widgets/controls",
      "_view_module_version": "1.5.0",
      "_view_name": "HTMLView",
      "description": "",
      "description_tooltip": null,
      "layout": "IPY_MODEL_6a7931c536cc4beab070100d673b4701",
      "placeholder": "​",
      "style": "IPY_MODEL_1d8777c19a0048f59dc01f1240766448",
      "value": " 4/1523 [00:00&lt;04:30,  5.61it/s]"
     }
    },
    "2bfe37c0be564929b14a98aaece339c3": {
     "model_module": "@jupyter-widgets/controls",
     "model_module_version": "1.5.0",
     "model_name": "HBoxModel",
     "state": {
      "_dom_classes": [],
      "_model_module": "@jupyter-widgets/controls",
      "_model_module_version": "1.5.0",
      "_model_name": "HBoxModel",
      "_view_count": null,
      "_view_module": "@jupyter-widgets/controls",
      "_view_module_version": "1.5.0",
      "_view_name": "HBoxView",
      "box_style": "",
      "children": [
       "IPY_MODEL_8bc95fd270eb480ea2ea014fb158c596",
       "IPY_MODEL_8f74f441046c4a889f5f0bdeebc33ac2",
       "IPY_MODEL_94f3285375cb4c06b5d4b07be47372a4"
      ],
      "layout": "IPY_MODEL_576365ec8af548279ba902a97997abd1"
     }
    },
    "2d1b35cbabd14cbdaf60d82b9c1e7b04": {
     "model_module": "@jupyter-widgets/base",
     "model_module_version": "1.2.0",
     "model_name": "LayoutModel",
     "state": {
      "_model_module": "@jupyter-widgets/base",
      "_model_module_version": "1.2.0",
      "_model_name": "LayoutModel",
      "_view_count": null,
      "_view_module": "@jupyter-widgets/base",
      "_view_module_version": "1.2.0",
      "_view_name": "LayoutView",
      "align_content": null,
      "align_items": null,
      "align_self": null,
      "border": null,
      "bottom": null,
      "display": null,
      "flex": null,
      "flex_flow": null,
      "grid_area": null,
      "grid_auto_columns": null,
      "grid_auto_flow": null,
      "grid_auto_rows": null,
      "grid_column": null,
      "grid_gap": null,
      "grid_row": null,
      "grid_template_areas": null,
      "grid_template_columns": null,
      "grid_template_rows": null,
      "height": null,
      "justify_content": null,
      "justify_items": null,
      "left": null,
      "margin": null,
      "max_height": null,
      "max_width": null,
      "min_height": null,
      "min_width": null,
      "object_fit": null,
      "object_position": null,
      "order": null,
      "overflow": null,
      "overflow_x": null,
      "overflow_y": null,
      "padding": null,
      "right": null,
      "top": null,
      "visibility": null,
      "width": null
     }
    },
    "2e733231b8e2476fbee0a39c27ffca1f": {
     "model_module": "@jupyter-widgets/controls",
     "model_module_version": "1.5.0",
     "model_name": "HTMLModel",
     "state": {
      "_dom_classes": [],
      "_model_module": "@jupyter-widgets/controls",
      "_model_module_version": "1.5.0",
      "_model_name": "HTMLModel",
      "_view_count": null,
      "_view_module": "@jupyter-widgets/controls",
      "_view_module_version": "1.5.0",
      "_view_name": "HTMLView",
      "description": "",
      "description_tooltip": null,
      "layout": "IPY_MODEL_716d92afa529474ca93c5a7ac1fb05bb",
      "placeholder": "​",
      "style": "IPY_MODEL_0953cb5213584d1e9d3a4c7fdab658cc",
      "value": "Downloading: 100%"
     }
    },
    "30e506f513f4499e9582e0811735cf8f": {
     "model_module": "@jupyter-widgets/controls",
     "model_module_version": "1.5.0",
     "model_name": "FloatProgressModel",
     "state": {
      "_dom_classes": [],
      "_model_module": "@jupyter-widgets/controls",
      "_model_module_version": "1.5.0",
      "_model_name": "FloatProgressModel",
      "_view_count": null,
      "_view_module": "@jupyter-widgets/controls",
      "_view_module_version": "1.5.0",
      "_view_name": "ProgressView",
      "bar_style": "danger",
      "description": "",
      "description_tooltip": null,
      "layout": "IPY_MODEL_fc30b16c48964856814d99c5d9d2cc65",
      "max": 1523,
      "min": 0,
      "orientation": "horizontal",
      "style": "IPY_MODEL_b6254acdf1834c4c8b18fa2e16a415da",
      "value": 4
     }
    },
    "31268e402fc3426082338c876436a774": {
     "model_module": "@jupyter-widgets/controls",
     "model_module_version": "1.5.0",
     "model_name": "HBoxModel",
     "state": {
      "_dom_classes": [],
      "_model_module": "@jupyter-widgets/controls",
      "_model_module_version": "1.5.0",
      "_model_name": "HBoxModel",
      "_view_count": null,
      "_view_module": "@jupyter-widgets/controls",
      "_view_module_version": "1.5.0",
      "_view_name": "HBoxView",
      "box_style": "",
      "children": [
       "IPY_MODEL_2e733231b8e2476fbee0a39c27ffca1f",
       "IPY_MODEL_9c26dec15be14667a21dc0e690ff7e8a",
       "IPY_MODEL_98dda0b592e04a3fb93e2dac77dd6fa9"
      ],
      "layout": "IPY_MODEL_45d6f9b3ccd1455bb972a30518704e7e"
     }
    },
    "318f645a32c2425a983ee796c4ec860e": {
     "model_module": "@jupyter-widgets/controls",
     "model_module_version": "1.5.0",
     "model_name": "DescriptionStyleModel",
     "state": {
      "_model_module": "@jupyter-widgets/controls",
      "_model_module_version": "1.5.0",
      "_model_name": "DescriptionStyleModel",
      "_view_count": null,
      "_view_module": "@jupyter-widgets/base",
      "_view_module_version": "1.2.0",
      "_view_name": "StyleView",
      "description_width": ""
     }
    },
    "333f9c2ecf264dfb8f7c4b7333b2405c": {
     "model_module": "@jupyter-widgets/controls",
     "model_module_version": "1.5.0",
     "model_name": "ProgressStyleModel",
     "state": {
      "_model_module": "@jupyter-widgets/controls",
      "_model_module_version": "1.5.0",
      "_model_name": "ProgressStyleModel",
      "_view_count": null,
      "_view_module": "@jupyter-widgets/base",
      "_view_module_version": "1.2.0",
      "_view_name": "StyleView",
      "bar_color": null,
      "description_width": ""
     }
    },
    "33bf62f07c5c488faf887e78ddb024bd": {
     "model_module": "@jupyter-widgets/controls",
     "model_module_version": "1.5.0",
     "model_name": "HBoxModel",
     "state": {
      "_dom_classes": [],
      "_model_module": "@jupyter-widgets/controls",
      "_model_module_version": "1.5.0",
      "_model_name": "HBoxModel",
      "_view_count": null,
      "_view_module": "@jupyter-widgets/controls",
      "_view_module_version": "1.5.0",
      "_view_name": "HBoxView",
      "box_style": "",
      "children": [
       "IPY_MODEL_c045b1c3d8a04fda96b4129d4955350b",
       "IPY_MODEL_5ccbe75145984ece9bef258efcd83551",
       "IPY_MODEL_18516d50bd624372801a1c5d7311ad57"
      ],
      "layout": "IPY_MODEL_042266724e5a4dacb229a2c4a673a5db"
     }
    },
    "35df593bbd224a9580389a6315f993ee": {
     "model_module": "@jupyter-widgets/base",
     "model_module_version": "1.2.0",
     "model_name": "LayoutModel",
     "state": {
      "_model_module": "@jupyter-widgets/base",
      "_model_module_version": "1.2.0",
      "_model_name": "LayoutModel",
      "_view_count": null,
      "_view_module": "@jupyter-widgets/base",
      "_view_module_version": "1.2.0",
      "_view_name": "LayoutView",
      "align_content": null,
      "align_items": null,
      "align_self": null,
      "border": null,
      "bottom": null,
      "display": null,
      "flex": null,
      "flex_flow": null,
      "grid_area": null,
      "grid_auto_columns": null,
      "grid_auto_flow": null,
      "grid_auto_rows": null,
      "grid_column": null,
      "grid_gap": null,
      "grid_row": null,
      "grid_template_areas": null,
      "grid_template_columns": null,
      "grid_template_rows": null,
      "height": null,
      "justify_content": null,
      "justify_items": null,
      "left": null,
      "margin": null,
      "max_height": null,
      "max_width": null,
      "min_height": null,
      "min_width": null,
      "object_fit": null,
      "object_position": null,
      "order": null,
      "overflow": null,
      "overflow_x": null,
      "overflow_y": null,
      "padding": null,
      "right": null,
      "top": null,
      "visibility": null,
      "width": null
     }
    },
    "371f0fc4024c4f14a92850d7682c6889": {
     "model_module": "@jupyter-widgets/base",
     "model_module_version": "1.2.0",
     "model_name": "LayoutModel",
     "state": {
      "_model_module": "@jupyter-widgets/base",
      "_model_module_version": "1.2.0",
      "_model_name": "LayoutModel",
      "_view_count": null,
      "_view_module": "@jupyter-widgets/base",
      "_view_module_version": "1.2.0",
      "_view_name": "LayoutView",
      "align_content": null,
      "align_items": null,
      "align_self": null,
      "border": null,
      "bottom": null,
      "display": null,
      "flex": null,
      "flex_flow": null,
      "grid_area": null,
      "grid_auto_columns": null,
      "grid_auto_flow": null,
      "grid_auto_rows": null,
      "grid_column": null,
      "grid_gap": null,
      "grid_row": null,
      "grid_template_areas": null,
      "grid_template_columns": null,
      "grid_template_rows": null,
      "height": null,
      "justify_content": null,
      "justify_items": null,
      "left": null,
      "margin": null,
      "max_height": null,
      "max_width": null,
      "min_height": null,
      "min_width": null,
      "object_fit": null,
      "object_position": null,
      "order": null,
      "overflow": null,
      "overflow_x": null,
      "overflow_y": null,
      "padding": null,
      "right": null,
      "top": null,
      "visibility": null,
      "width": null
     }
    },
    "3ae2990c0b164b28b6cf0938d8581c28": {
     "model_module": "@jupyter-widgets/base",
     "model_module_version": "1.2.0",
     "model_name": "LayoutModel",
     "state": {
      "_model_module": "@jupyter-widgets/base",
      "_model_module_version": "1.2.0",
      "_model_name": "LayoutModel",
      "_view_count": null,
      "_view_module": "@jupyter-widgets/base",
      "_view_module_version": "1.2.0",
      "_view_name": "LayoutView",
      "align_content": null,
      "align_items": null,
      "align_self": null,
      "border": null,
      "bottom": null,
      "display": null,
      "flex": null,
      "flex_flow": null,
      "grid_area": null,
      "grid_auto_columns": null,
      "grid_auto_flow": null,
      "grid_auto_rows": null,
      "grid_column": null,
      "grid_gap": null,
      "grid_row": null,
      "grid_template_areas": null,
      "grid_template_columns": null,
      "grid_template_rows": null,
      "height": null,
      "justify_content": null,
      "justify_items": null,
      "left": null,
      "margin": null,
      "max_height": null,
      "max_width": null,
      "min_height": null,
      "min_width": null,
      "object_fit": null,
      "object_position": null,
      "order": null,
      "overflow": null,
      "overflow_x": null,
      "overflow_y": null,
      "padding": null,
      "right": null,
      "top": null,
      "visibility": null,
      "width": null
     }
    },
    "43ebceeed57a4607af4b92ec7ad20a96": {
     "model_module": "@jupyter-widgets/base",
     "model_module_version": "1.2.0",
     "model_name": "LayoutModel",
     "state": {
      "_model_module": "@jupyter-widgets/base",
      "_model_module_version": "1.2.0",
      "_model_name": "LayoutModel",
      "_view_count": null,
      "_view_module": "@jupyter-widgets/base",
      "_view_module_version": "1.2.0",
      "_view_name": "LayoutView",
      "align_content": null,
      "align_items": null,
      "align_self": null,
      "border": null,
      "bottom": null,
      "display": null,
      "flex": null,
      "flex_flow": null,
      "grid_area": null,
      "grid_auto_columns": null,
      "grid_auto_flow": null,
      "grid_auto_rows": null,
      "grid_column": null,
      "grid_gap": null,
      "grid_row": null,
      "grid_template_areas": null,
      "grid_template_columns": null,
      "grid_template_rows": null,
      "height": null,
      "justify_content": null,
      "justify_items": null,
      "left": null,
      "margin": null,
      "max_height": null,
      "max_width": null,
      "min_height": null,
      "min_width": null,
      "object_fit": null,
      "object_position": null,
      "order": null,
      "overflow": null,
      "overflow_x": null,
      "overflow_y": null,
      "padding": null,
      "right": null,
      "top": null,
      "visibility": null,
      "width": null
     }
    },
    "45d6f9b3ccd1455bb972a30518704e7e": {
     "model_module": "@jupyter-widgets/base",
     "model_module_version": "1.2.0",
     "model_name": "LayoutModel",
     "state": {
      "_model_module": "@jupyter-widgets/base",
      "_model_module_version": "1.2.0",
      "_model_name": "LayoutModel",
      "_view_count": null,
      "_view_module": "@jupyter-widgets/base",
      "_view_module_version": "1.2.0",
      "_view_name": "LayoutView",
      "align_content": null,
      "align_items": null,
      "align_self": null,
      "border": null,
      "bottom": null,
      "display": null,
      "flex": null,
      "flex_flow": null,
      "grid_area": null,
      "grid_auto_columns": null,
      "grid_auto_flow": null,
      "grid_auto_rows": null,
      "grid_column": null,
      "grid_gap": null,
      "grid_row": null,
      "grid_template_areas": null,
      "grid_template_columns": null,
      "grid_template_rows": null,
      "height": null,
      "justify_content": null,
      "justify_items": null,
      "left": null,
      "margin": null,
      "max_height": null,
      "max_width": null,
      "min_height": null,
      "min_width": null,
      "object_fit": null,
      "object_position": null,
      "order": null,
      "overflow": null,
      "overflow_x": null,
      "overflow_y": null,
      "padding": null,
      "right": null,
      "top": null,
      "visibility": null,
      "width": null
     }
    },
    "4706d6aed8574def8d01352aa5c5f2e7": {
     "model_module": "@jupyter-widgets/controls",
     "model_module_version": "1.5.0",
     "model_name": "HTMLModel",
     "state": {
      "_dom_classes": [],
      "_model_module": "@jupyter-widgets/controls",
      "_model_module_version": "1.5.0",
      "_model_name": "HTMLModel",
      "_view_count": null,
      "_view_module": "@jupyter-widgets/controls",
      "_view_module_version": "1.5.0",
      "_view_name": "HTMLView",
      "description": "",
      "description_tooltip": null,
      "layout": "IPY_MODEL_2d1b35cbabd14cbdaf60d82b9c1e7b04",
      "placeholder": "​",
      "style": "IPY_MODEL_e1d43fe8271a4851960bbac05865dc82",
      "value": " 13/6090 [00:02&lt;14:32,  6.96it/s]"
     }
    },
    "47a1d71e6fa54d9b81adfa8118b55a01": {
     "model_module": "@jupyter-widgets/controls",
     "model_module_version": "1.5.0",
     "model_name": "ProgressStyleModel",
     "state": {
      "_model_module": "@jupyter-widgets/controls",
      "_model_module_version": "1.5.0",
      "_model_name": "ProgressStyleModel",
      "_view_count": null,
      "_view_module": "@jupyter-widgets/base",
      "_view_module_version": "1.2.0",
      "_view_name": "StyleView",
      "bar_color": null,
      "description_width": ""
     }
    },
    "47ed5e301c694d52b8d89e78fd96b9c7": {
     "model_module": "@jupyter-widgets/controls",
     "model_module_version": "1.5.0",
     "model_name": "HTMLModel",
     "state": {
      "_dom_classes": [],
      "_model_module": "@jupyter-widgets/controls",
      "_model_module_version": "1.5.0",
      "_model_name": "HTMLModel",
      "_view_count": null,
      "_view_module": "@jupyter-widgets/controls",
      "_view_module_version": "1.5.0",
      "_view_name": "HTMLView",
      "description": "",
      "description_tooltip": null,
      "layout": "IPY_MODEL_e361a8018ebf422687ebea53e2d3ec2a",
      "placeholder": "​",
      "style": "IPY_MODEL_2649bdd3e96243e6a347f5b46f3952bc",
      "value": "Epochs 1/2. Running Loss:    1.6903: 100%"
     }
    },
    "4883baa5c74948b4b8b52cf6b8ed91af": {
     "model_module": "@jupyter-widgets/base",
     "model_module_version": "1.2.0",
     "model_name": "LayoutModel",
     "state": {
      "_model_module": "@jupyter-widgets/base",
      "_model_module_version": "1.2.0",
      "_model_name": "LayoutModel",
      "_view_count": null,
      "_view_module": "@jupyter-widgets/base",
      "_view_module_version": "1.2.0",
      "_view_name": "LayoutView",
      "align_content": null,
      "align_items": null,
      "align_self": null,
      "border": null,
      "bottom": null,
      "display": null,
      "flex": null,
      "flex_flow": null,
      "grid_area": null,
      "grid_auto_columns": null,
      "grid_auto_flow": null,
      "grid_auto_rows": null,
      "grid_column": null,
      "grid_gap": null,
      "grid_row": null,
      "grid_template_areas": null,
      "grid_template_columns": null,
      "grid_template_rows": null,
      "height": null,
      "justify_content": null,
      "justify_items": null,
      "left": null,
      "margin": null,
      "max_height": null,
      "max_width": null,
      "min_height": null,
      "min_width": null,
      "object_fit": null,
      "object_position": null,
      "order": null,
      "overflow": null,
      "overflow_x": null,
      "overflow_y": null,
      "padding": null,
      "right": null,
      "top": null,
      "visibility": null,
      "width": null
     }
    },
    "493325a418d54d1d905b09f1e9586534": {
     "model_module": "@jupyter-widgets/controls",
     "model_module_version": "1.5.0",
     "model_name": "DescriptionStyleModel",
     "state": {
      "_model_module": "@jupyter-widgets/controls",
      "_model_module_version": "1.5.0",
      "_model_name": "DescriptionStyleModel",
      "_view_count": null,
      "_view_module": "@jupyter-widgets/base",
      "_view_module_version": "1.2.0",
      "_view_name": "StyleView",
      "description_width": ""
     }
    },
    "499e414255c14e80bf4aa4a12b1b6e3c": {
     "model_module": "@jupyter-widgets/base",
     "model_module_version": "1.2.0",
     "model_name": "LayoutModel",
     "state": {
      "_model_module": "@jupyter-widgets/base",
      "_model_module_version": "1.2.0",
      "_model_name": "LayoutModel",
      "_view_count": null,
      "_view_module": "@jupyter-widgets/base",
      "_view_module_version": "1.2.0",
      "_view_name": "LayoutView",
      "align_content": null,
      "align_items": null,
      "align_self": null,
      "border": null,
      "bottom": null,
      "display": null,
      "flex": null,
      "flex_flow": null,
      "grid_area": null,
      "grid_auto_columns": null,
      "grid_auto_flow": null,
      "grid_auto_rows": null,
      "grid_column": null,
      "grid_gap": null,
      "grid_row": null,
      "grid_template_areas": null,
      "grid_template_columns": null,
      "grid_template_rows": null,
      "height": null,
      "justify_content": null,
      "justify_items": null,
      "left": null,
      "margin": null,
      "max_height": null,
      "max_width": null,
      "min_height": null,
      "min_width": null,
      "object_fit": null,
      "object_position": null,
      "order": null,
      "overflow": null,
      "overflow_x": null,
      "overflow_y": null,
      "padding": null,
      "right": null,
      "top": null,
      "visibility": null,
      "width": null
     }
    },
    "4a6bdbc263e646a4bffc1f538cfc2ced": {
     "model_module": "@jupyter-widgets/controls",
     "model_module_version": "1.5.0",
     "model_name": "DescriptionStyleModel",
     "state": {
      "_model_module": "@jupyter-widgets/controls",
      "_model_module_version": "1.5.0",
      "_model_name": "DescriptionStyleModel",
      "_view_count": null,
      "_view_module": "@jupyter-widgets/base",
      "_view_module_version": "1.2.0",
      "_view_name": "StyleView",
      "description_width": ""
     }
    },
    "4ace6f6e297b4da1a29369c08c923a77": {
     "model_module": "@jupyter-widgets/base",
     "model_module_version": "1.2.0",
     "model_name": "LayoutModel",
     "state": {
      "_model_module": "@jupyter-widgets/base",
      "_model_module_version": "1.2.0",
      "_model_name": "LayoutModel",
      "_view_count": null,
      "_view_module": "@jupyter-widgets/base",
      "_view_module_version": "1.2.0",
      "_view_name": "LayoutView",
      "align_content": null,
      "align_items": null,
      "align_self": null,
      "border": null,
      "bottom": null,
      "display": null,
      "flex": null,
      "flex_flow": null,
      "grid_area": null,
      "grid_auto_columns": null,
      "grid_auto_flow": null,
      "grid_auto_rows": null,
      "grid_column": null,
      "grid_gap": null,
      "grid_row": null,
      "grid_template_areas": null,
      "grid_template_columns": null,
      "grid_template_rows": null,
      "height": null,
      "justify_content": null,
      "justify_items": null,
      "left": null,
      "margin": null,
      "max_height": null,
      "max_width": null,
      "min_height": null,
      "min_width": null,
      "object_fit": null,
      "object_position": null,
      "order": null,
      "overflow": null,
      "overflow_x": null,
      "overflow_y": null,
      "padding": null,
      "right": null,
      "top": null,
      "visibility": null,
      "width": null
     }
    },
    "4d1e4d62ac6647f2991dfe9d222a1a62": {
     "model_module": "@jupyter-widgets/base",
     "model_module_version": "1.2.0",
     "model_name": "LayoutModel",
     "state": {
      "_model_module": "@jupyter-widgets/base",
      "_model_module_version": "1.2.0",
      "_model_name": "LayoutModel",
      "_view_count": null,
      "_view_module": "@jupyter-widgets/base",
      "_view_module_version": "1.2.0",
      "_view_name": "LayoutView",
      "align_content": null,
      "align_items": null,
      "align_self": null,
      "border": null,
      "bottom": null,
      "display": null,
      "flex": null,
      "flex_flow": null,
      "grid_area": null,
      "grid_auto_columns": null,
      "grid_auto_flow": null,
      "grid_auto_rows": null,
      "grid_column": null,
      "grid_gap": null,
      "grid_row": null,
      "grid_template_areas": null,
      "grid_template_columns": null,
      "grid_template_rows": null,
      "height": null,
      "justify_content": null,
      "justify_items": null,
      "left": null,
      "margin": null,
      "max_height": null,
      "max_width": null,
      "min_height": null,
      "min_width": null,
      "object_fit": null,
      "object_position": null,
      "order": null,
      "overflow": null,
      "overflow_x": null,
      "overflow_y": null,
      "padding": null,
      "right": null,
      "top": null,
      "visibility": null,
      "width": null
     }
    },
    "4f92982374cb48418a5729588dfcb47f": {
     "model_module": "@jupyter-widgets/controls",
     "model_module_version": "1.5.0",
     "model_name": "HTMLModel",
     "state": {
      "_dom_classes": [],
      "_model_module": "@jupyter-widgets/controls",
      "_model_module_version": "1.5.0",
      "_model_name": "HTMLModel",
      "_view_count": null,
      "_view_module": "@jupyter-widgets/controls",
      "_view_module_version": "1.5.0",
      "_view_name": "HTMLView",
      "description": "",
      "description_tooltip": null,
      "layout": "IPY_MODEL_d8dd03f2688444c0b584ccd3f7588942",
      "placeholder": "​",
      "style": "IPY_MODEL_318f645a32c2425a983ee796c4ec860e",
      "value": "Running Evaluation: 100%"
     }
    },
    "508a6a0664914e6fad8619c84e6822f9": {
     "model_module": "@jupyter-widgets/controls",
     "model_module_version": "1.5.0",
     "model_name": "DescriptionStyleModel",
     "state": {
      "_model_module": "@jupyter-widgets/controls",
      "_model_module_version": "1.5.0",
      "_model_name": "DescriptionStyleModel",
      "_view_count": null,
      "_view_module": "@jupyter-widgets/base",
      "_view_module_version": "1.2.0",
      "_view_name": "StyleView",
      "description_width": ""
     }
    },
    "50a60b3fbee646cc89cf057dee0fa3b2": {
     "model_module": "@jupyter-widgets/controls",
     "model_module_version": "1.5.0",
     "model_name": "FloatProgressModel",
     "state": {
      "_dom_classes": [],
      "_model_module": "@jupyter-widgets/controls",
      "_model_module_version": "1.5.0",
      "_model_name": "FloatProgressModel",
      "_view_count": null,
      "_view_module": "@jupyter-widgets/controls",
      "_view_module_version": "1.5.0",
      "_view_name": "ProgressView",
      "bar_style": "success",
      "description": "",
      "description_tooltip": null,
      "layout": "IPY_MODEL_43ebceeed57a4607af4b92ec7ad20a96",
      "max": 898823,
      "min": 0,
      "orientation": "horizontal",
      "style": "IPY_MODEL_333f9c2ecf264dfb8f7c4b7333b2405c",
      "value": 898823
     }
    },
    "510bfe94b9c7429aa43f5ec52b0ec71d": {
     "model_module": "@jupyter-widgets/controls",
     "model_module_version": "1.5.0",
     "model_name": "HBoxModel",
     "state": {
      "_dom_classes": [],
      "_model_module": "@jupyter-widgets/controls",
      "_model_module_version": "1.5.0",
      "_model_name": "HBoxModel",
      "_view_count": null,
      "_view_module": "@jupyter-widgets/controls",
      "_view_module_version": "1.5.0",
      "_view_name": "HBoxView",
      "box_style": "",
      "children": [
       "IPY_MODEL_7a5ed2bea87e4867853b38952e95e457",
       "IPY_MODEL_7630657493e547f0a8d2cf2434a2bd0e",
       "IPY_MODEL_771dab22bd7e4a63bf029a3656f2c707"
      ],
      "layout": "IPY_MODEL_12bf6ca6677044e7afb99bd23d1b0b06"
     }
    },
    "532870a685b64e7cb7976ac1ec2559c3": {
     "model_module": "@jupyter-widgets/base",
     "model_module_version": "1.2.0",
     "model_name": "LayoutModel",
     "state": {
      "_model_module": "@jupyter-widgets/base",
      "_model_module_version": "1.2.0",
      "_model_name": "LayoutModel",
      "_view_count": null,
      "_view_module": "@jupyter-widgets/base",
      "_view_module_version": "1.2.0",
      "_view_name": "LayoutView",
      "align_content": null,
      "align_items": null,
      "align_self": null,
      "border": null,
      "bottom": null,
      "display": null,
      "flex": null,
      "flex_flow": null,
      "grid_area": null,
      "grid_auto_columns": null,
      "grid_auto_flow": null,
      "grid_auto_rows": null,
      "grid_column": null,
      "grid_gap": null,
      "grid_row": null,
      "grid_template_areas": null,
      "grid_template_columns": null,
      "grid_template_rows": null,
      "height": null,
      "justify_content": null,
      "justify_items": null,
      "left": null,
      "margin": null,
      "max_height": null,
      "max_width": null,
      "min_height": null,
      "min_width": null,
      "object_fit": null,
      "object_position": null,
      "order": null,
      "overflow": null,
      "overflow_x": null,
      "overflow_y": null,
      "padding": null,
      "right": null,
      "top": null,
      "visibility": null,
      "width": null
     }
    },
    "535d685947d94416a0516749b24bb24a": {
     "model_module": "@jupyter-widgets/controls",
     "model_module_version": "1.5.0",
     "model_name": "ProgressStyleModel",
     "state": {
      "_model_module": "@jupyter-widgets/controls",
      "_model_module_version": "1.5.0",
      "_model_name": "ProgressStyleModel",
      "_view_count": null,
      "_view_module": "@jupyter-widgets/base",
      "_view_module_version": "1.2.0",
      "_view_name": "StyleView",
      "bar_color": null,
      "description_width": ""
     }
    },
    "5390857180304943ba23c51a69a7f194": {
     "model_module": "@jupyter-widgets/controls",
     "model_module_version": "1.5.0",
     "model_name": "HTMLModel",
     "state": {
      "_dom_classes": [],
      "_model_module": "@jupyter-widgets/controls",
      "_model_module_version": "1.5.0",
      "_model_name": "HTMLModel",
      "_view_count": null,
      "_view_module": "@jupyter-widgets/controls",
      "_view_module_version": "1.5.0",
      "_view_name": "HTMLView",
      "description": "",
      "description_tooltip": null,
      "layout": "IPY_MODEL_cd0f024a10c54afd86725e5a020143ce",
      "placeholder": "​",
      "style": "IPY_MODEL_e24781ae06474a298077932d2b2c9e70",
      "value": "  0%"
     }
    },
    "54fcada7b92c4fb795b2b70eef2fcb74": {
     "model_module": "@jupyter-widgets/controls",
     "model_module_version": "1.5.0",
     "model_name": "HBoxModel",
     "state": {
      "_dom_classes": [],
      "_model_module": "@jupyter-widgets/controls",
      "_model_module_version": "1.5.0",
      "_model_name": "HBoxModel",
      "_view_count": null,
      "_view_module": "@jupyter-widgets/controls",
      "_view_module_version": "1.5.0",
      "_view_name": "HBoxView",
      "box_style": "",
      "children": [
       "IPY_MODEL_852bd626859c442783ecda3e91aa3d9b",
       "IPY_MODEL_8c70b38d07dc42f6bd36749f525e079d",
       "IPY_MODEL_19c988e673cc45a686f5b6618cfe7806"
      ],
      "layout": "IPY_MODEL_121a3da0a341447dbcd405deb4f37ac7"
     }
    },
    "55800f4f486145e9ba9a3cca69a286f3": {
     "model_module": "@jupyter-widgets/base",
     "model_module_version": "1.2.0",
     "model_name": "LayoutModel",
     "state": {
      "_model_module": "@jupyter-widgets/base",
      "_model_module_version": "1.2.0",
      "_model_name": "LayoutModel",
      "_view_count": null,
      "_view_module": "@jupyter-widgets/base",
      "_view_module_version": "1.2.0",
      "_view_name": "LayoutView",
      "align_content": null,
      "align_items": null,
      "align_self": null,
      "border": null,
      "bottom": null,
      "display": null,
      "flex": null,
      "flex_flow": null,
      "grid_area": null,
      "grid_auto_columns": null,
      "grid_auto_flow": null,
      "grid_auto_rows": null,
      "grid_column": null,
      "grid_gap": null,
      "grid_row": null,
      "grid_template_areas": null,
      "grid_template_columns": null,
      "grid_template_rows": null,
      "height": null,
      "justify_content": null,
      "justify_items": null,
      "left": null,
      "margin": null,
      "max_height": null,
      "max_width": null,
      "min_height": null,
      "min_width": null,
      "object_fit": null,
      "object_position": null,
      "order": null,
      "overflow": null,
      "overflow_x": null,
      "overflow_y": null,
      "padding": null,
      "right": null,
      "top": null,
      "visibility": null,
      "width": null
     }
    },
    "571505051db94f3f8508f0796a9972a4": {
     "model_module": "@jupyter-widgets/base",
     "model_module_version": "1.2.0",
     "model_name": "LayoutModel",
     "state": {
      "_model_module": "@jupyter-widgets/base",
      "_model_module_version": "1.2.0",
      "_model_name": "LayoutModel",
      "_view_count": null,
      "_view_module": "@jupyter-widgets/base",
      "_view_module_version": "1.2.0",
      "_view_name": "LayoutView",
      "align_content": null,
      "align_items": null,
      "align_self": null,
      "border": null,
      "bottom": null,
      "display": null,
      "flex": null,
      "flex_flow": null,
      "grid_area": null,
      "grid_auto_columns": null,
      "grid_auto_flow": null,
      "grid_auto_rows": null,
      "grid_column": null,
      "grid_gap": null,
      "grid_row": null,
      "grid_template_areas": null,
      "grid_template_columns": null,
      "grid_template_rows": null,
      "height": null,
      "justify_content": null,
      "justify_items": null,
      "left": null,
      "margin": null,
      "max_height": null,
      "max_width": null,
      "min_height": null,
      "min_width": null,
      "object_fit": null,
      "object_position": null,
      "order": null,
      "overflow": null,
      "overflow_x": null,
      "overflow_y": null,
      "padding": null,
      "right": null,
      "top": null,
      "visibility": null,
      "width": null
     }
    },
    "576365ec8af548279ba902a97997abd1": {
     "model_module": "@jupyter-widgets/base",
     "model_module_version": "1.2.0",
     "model_name": "LayoutModel",
     "state": {
      "_model_module": "@jupyter-widgets/base",
      "_model_module_version": "1.2.0",
      "_model_name": "LayoutModel",
      "_view_count": null,
      "_view_module": "@jupyter-widgets/base",
      "_view_module_version": "1.2.0",
      "_view_name": "LayoutView",
      "align_content": null,
      "align_items": null,
      "align_self": null,
      "border": null,
      "bottom": null,
      "display": null,
      "flex": null,
      "flex_flow": null,
      "grid_area": null,
      "grid_auto_columns": null,
      "grid_auto_flow": null,
      "grid_auto_rows": null,
      "grid_column": null,
      "grid_gap": null,
      "grid_row": null,
      "grid_template_areas": null,
      "grid_template_columns": null,
      "grid_template_rows": null,
      "height": null,
      "justify_content": null,
      "justify_items": null,
      "left": null,
      "margin": null,
      "max_height": null,
      "max_width": null,
      "min_height": null,
      "min_width": null,
      "object_fit": null,
      "object_position": null,
      "order": null,
      "overflow": null,
      "overflow_x": null,
      "overflow_y": null,
      "padding": null,
      "right": null,
      "top": null,
      "visibility": null,
      "width": null
     }
    },
    "585261dbedf14ac18c194d2761bfd39e": {
     "model_module": "@jupyter-widgets/controls",
     "model_module_version": "1.5.0",
     "model_name": "DescriptionStyleModel",
     "state": {
      "_model_module": "@jupyter-widgets/controls",
      "_model_module_version": "1.5.0",
      "_model_name": "DescriptionStyleModel",
      "_view_count": null,
      "_view_module": "@jupyter-widgets/base",
      "_view_module_version": "1.2.0",
      "_view_name": "StyleView",
      "description_width": ""
     }
    },
    "5854f1b6668d4dedae5247b5f1eba81d": {
     "model_module": "@jupyter-widgets/controls",
     "model_module_version": "1.5.0",
     "model_name": "DescriptionStyleModel",
     "state": {
      "_model_module": "@jupyter-widgets/controls",
      "_model_module_version": "1.5.0",
      "_model_name": "DescriptionStyleModel",
      "_view_count": null,
      "_view_module": "@jupyter-widgets/base",
      "_view_module_version": "1.2.0",
      "_view_name": "StyleView",
      "description_width": ""
     }
    },
    "5b80da411ff6468c9d5f64bed2cd16ea": {
     "model_module": "@jupyter-widgets/controls",
     "model_module_version": "1.5.0",
     "model_name": "FloatProgressModel",
     "state": {
      "_dom_classes": [],
      "_model_module": "@jupyter-widgets/controls",
      "_model_module_version": "1.5.0",
      "_model_name": "FloatProgressModel",
      "_view_count": null,
      "_view_module": "@jupyter-widgets/controls",
      "_view_module_version": "1.5.0",
      "_view_name": "ProgressView",
      "bar_style": "success",
      "description": "",
      "description_tooltip": null,
      "layout": "IPY_MODEL_ee2d8a3c4ef741c4ae98f01e6b87a577",
      "max": 762,
      "min": 0,
      "orientation": "horizontal",
      "style": "IPY_MODEL_10ac58fb109247e0b2501219ccd83285",
      "value": 762
     }
    },
    "5ccbe75145984ece9bef258efcd83551": {
     "model_module": "@jupyter-widgets/controls",
     "model_module_version": "1.5.0",
     "model_name": "FloatProgressModel",
     "state": {
      "_dom_classes": [],
      "_model_module": "@jupyter-widgets/controls",
      "_model_module_version": "1.5.0",
      "_model_name": "FloatProgressModel",
      "_view_count": null,
      "_view_module": "@jupyter-widgets/controls",
      "_view_module_version": "1.5.0",
      "_view_name": "ProgressView",
      "bar_style": "success",
      "description": "",
      "description_tooltip": null,
      "layout": "IPY_MODEL_9df1ab2e4ae3447a953c745243cffac7",
      "max": 762,
      "min": 0,
      "orientation": "horizontal",
      "style": "IPY_MODEL_47a1d71e6fa54d9b81adfa8118b55a01",
      "value": 762
     }
    },
    "61fc453526f541cab9ac1597053bed21": {
     "model_module": "@jupyter-widgets/controls",
     "model_module_version": "1.5.0",
     "model_name": "HTMLModel",
     "state": {
      "_dom_classes": [],
      "_model_module": "@jupyter-widgets/controls",
      "_model_module_version": "1.5.0",
      "_model_name": "HTMLModel",
      "_view_count": null,
      "_view_module": "@jupyter-widgets/controls",
      "_view_module_version": "1.5.0",
      "_view_name": "HTMLView",
      "description": "",
      "description_tooltip": null,
      "layout": "IPY_MODEL_209f2fa733f8440f99afc761e522c543",
      "placeholder": "​",
      "style": "IPY_MODEL_da2831be2b0b41b3a41d6f569aaaf52d",
      "value": " 478M/478M [00:09&lt;00:00, 36.2MB/s]"
     }
    },
    "651e75574d03434a83d45a88877eb4e7": {
     "model_module": "@jupyter-widgets/base",
     "model_module_version": "1.2.0",
     "model_name": "LayoutModel",
     "state": {
      "_model_module": "@jupyter-widgets/base",
      "_model_module_version": "1.2.0",
      "_model_name": "LayoutModel",
      "_view_count": null,
      "_view_module": "@jupyter-widgets/base",
      "_view_module_version": "1.2.0",
      "_view_name": "LayoutView",
      "align_content": null,
      "align_items": null,
      "align_self": null,
      "border": null,
      "bottom": null,
      "display": null,
      "flex": null,
      "flex_flow": null,
      "grid_area": null,
      "grid_auto_columns": null,
      "grid_auto_flow": null,
      "grid_auto_rows": null,
      "grid_column": null,
      "grid_gap": null,
      "grid_row": null,
      "grid_template_areas": null,
      "grid_template_columns": null,
      "grid_template_rows": null,
      "height": null,
      "justify_content": null,
      "justify_items": null,
      "left": null,
      "margin": null,
      "max_height": null,
      "max_width": null,
      "min_height": null,
      "min_width": null,
      "object_fit": null,
      "object_position": null,
      "order": null,
      "overflow": null,
      "overflow_x": null,
      "overflow_y": null,
      "padding": null,
      "right": null,
      "top": null,
      "visibility": null,
      "width": null
     }
    },
    "65578aee84854e818f019abddb582961": {
     "model_module": "@jupyter-widgets/controls",
     "model_module_version": "1.5.0",
     "model_name": "HTMLModel",
     "state": {
      "_dom_classes": [],
      "_model_module": "@jupyter-widgets/controls",
      "_model_module_version": "1.5.0",
      "_model_name": "HTMLModel",
      "_view_count": null,
      "_view_module": "@jupyter-widgets/controls",
      "_view_module_version": "1.5.0",
      "_view_name": "HTMLView",
      "description": "",
      "description_tooltip": null,
      "layout": "IPY_MODEL_8568afc14eaf475a959638e3efa8ab31",
      "placeholder": "​",
      "style": "IPY_MODEL_5854f1b6668d4dedae5247b5f1eba81d",
      "value": "Downloading: 100%"
     }
    },
    "665662dfbed64e939144e960bd06027d": {
     "model_module": "@jupyter-widgets/base",
     "model_module_version": "1.2.0",
     "model_name": "LayoutModel",
     "state": {
      "_model_module": "@jupyter-widgets/base",
      "_model_module_version": "1.2.0",
      "_model_name": "LayoutModel",
      "_view_count": null,
      "_view_module": "@jupyter-widgets/base",
      "_view_module_version": "1.2.0",
      "_view_name": "LayoutView",
      "align_content": null,
      "align_items": null,
      "align_self": null,
      "border": null,
      "bottom": null,
      "display": null,
      "flex": null,
      "flex_flow": null,
      "grid_area": null,
      "grid_auto_columns": null,
      "grid_auto_flow": null,
      "grid_auto_rows": null,
      "grid_column": null,
      "grid_gap": null,
      "grid_row": null,
      "grid_template_areas": null,
      "grid_template_columns": null,
      "grid_template_rows": null,
      "height": null,
      "justify_content": null,
      "justify_items": null,
      "left": null,
      "margin": null,
      "max_height": null,
      "max_width": null,
      "min_height": null,
      "min_width": null,
      "object_fit": null,
      "object_position": null,
      "order": null,
      "overflow": null,
      "overflow_x": null,
      "overflow_y": null,
      "padding": null,
      "right": null,
      "top": null,
      "visibility": null,
      "width": null
     }
    },
    "66b7cac7c889467e950e6813f199a111": {
     "model_module": "@jupyter-widgets/controls",
     "model_module_version": "1.5.0",
     "model_name": "DescriptionStyleModel",
     "state": {
      "_model_module": "@jupyter-widgets/controls",
      "_model_module_version": "1.5.0",
      "_model_name": "DescriptionStyleModel",
      "_view_count": null,
      "_view_module": "@jupyter-widgets/base",
      "_view_module_version": "1.2.0",
      "_view_name": "StyleView",
      "description_width": ""
     }
    },
    "67dd5fdb7d214ad285fb3d2ef048ac83": {
     "model_module": "@jupyter-widgets/controls",
     "model_module_version": "1.5.0",
     "model_name": "HBoxModel",
     "state": {
      "_dom_classes": [],
      "_model_module": "@jupyter-widgets/controls",
      "_model_module_version": "1.5.0",
      "_model_name": "HBoxModel",
      "_view_count": null,
      "_view_module": "@jupyter-widgets/controls",
      "_view_module_version": "1.5.0",
      "_view_name": "HBoxView",
      "box_style": "",
      "children": [
       "IPY_MODEL_7d9e9d749841468aaf29c6374300280f",
       "IPY_MODEL_50a60b3fbee646cc89cf057dee0fa3b2",
       "IPY_MODEL_0f19f62a84a341d7961904a7c9f31292"
      ],
      "layout": "IPY_MODEL_db71fa609f4b41d79dedc21d26cc487f"
     }
    },
    "68f651ba37054c5a8af7db6287abe68f": {
     "model_module": "@jupyter-widgets/controls",
     "model_module_version": "1.5.0",
     "model_name": "DescriptionStyleModel",
     "state": {
      "_model_module": "@jupyter-widgets/controls",
      "_model_module_version": "1.5.0",
      "_model_name": "DescriptionStyleModel",
      "_view_count": null,
      "_view_module": "@jupyter-widgets/base",
      "_view_module_version": "1.2.0",
      "_view_name": "StyleView",
      "description_width": ""
     }
    },
    "69b55d7eb9da4a99b861062ef271aed1": {
     "model_module": "@jupyter-widgets/controls",
     "model_module_version": "1.5.0",
     "model_name": "FloatProgressModel",
     "state": {
      "_dom_classes": [],
      "_model_module": "@jupyter-widgets/controls",
      "_model_module_version": "1.5.0",
      "_model_name": "FloatProgressModel",
      "_view_count": null,
      "_view_module": "@jupyter-widgets/controls",
      "_view_module_version": "1.5.0",
      "_view_name": "ProgressView",
      "bar_style": "danger",
      "description": "",
      "description_tooltip": null,
      "layout": "IPY_MODEL_b5cdb1306cb34e24918697bbfe5ddc99",
      "max": 6090,
      "min": 0,
      "orientation": "horizontal",
      "style": "IPY_MODEL_15f4496598dd4de5a395aa89237da276",
      "value": 13
     }
    },
    "6a7931c536cc4beab070100d673b4701": {
     "model_module": "@jupyter-widgets/base",
     "model_module_version": "1.2.0",
     "model_name": "LayoutModel",
     "state": {
      "_model_module": "@jupyter-widgets/base",
      "_model_module_version": "1.2.0",
      "_model_name": "LayoutModel",
      "_view_count": null,
      "_view_module": "@jupyter-widgets/base",
      "_view_module_version": "1.2.0",
      "_view_name": "LayoutView",
      "align_content": null,
      "align_items": null,
      "align_self": null,
      "border": null,
      "bottom": null,
      "display": null,
      "flex": null,
      "flex_flow": null,
      "grid_area": null,
      "grid_auto_columns": null,
      "grid_auto_flow": null,
      "grid_auto_rows": null,
      "grid_column": null,
      "grid_gap": null,
      "grid_row": null,
      "grid_template_areas": null,
      "grid_template_columns": null,
      "grid_template_rows": null,
      "height": null,
      "justify_content": null,
      "justify_items": null,
      "left": null,
      "margin": null,
      "max_height": null,
      "max_width": null,
      "min_height": null,
      "min_width": null,
      "object_fit": null,
      "object_position": null,
      "order": null,
      "overflow": null,
      "overflow_x": null,
      "overflow_y": null,
      "padding": null,
      "right": null,
      "top": null,
      "visibility": null,
      "width": null
     }
    },
    "6ad7de5f4a354634829269487a6acedf": {
     "model_module": "@jupyter-widgets/base",
     "model_module_version": "1.2.0",
     "model_name": "LayoutModel",
     "state": {
      "_model_module": "@jupyter-widgets/base",
      "_model_module_version": "1.2.0",
      "_model_name": "LayoutModel",
      "_view_count": null,
      "_view_module": "@jupyter-widgets/base",
      "_view_module_version": "1.2.0",
      "_view_name": "LayoutView",
      "align_content": null,
      "align_items": null,
      "align_self": null,
      "border": null,
      "bottom": null,
      "display": null,
      "flex": null,
      "flex_flow": null,
      "grid_area": null,
      "grid_auto_columns": null,
      "grid_auto_flow": null,
      "grid_auto_rows": null,
      "grid_column": null,
      "grid_gap": null,
      "grid_row": null,
      "grid_template_areas": null,
      "grid_template_columns": null,
      "grid_template_rows": null,
      "height": null,
      "justify_content": null,
      "justify_items": null,
      "left": null,
      "margin": null,
      "max_height": null,
      "max_width": null,
      "min_height": null,
      "min_width": null,
      "object_fit": null,
      "object_position": null,
      "order": null,
      "overflow": null,
      "overflow_x": null,
      "overflow_y": null,
      "padding": null,
      "right": null,
      "top": null,
      "visibility": null,
      "width": null
     }
    },
    "6ce6c0d3083b47d4b0a80f9d8e683de1": {
     "model_module": "@jupyter-widgets/controls",
     "model_module_version": "1.5.0",
     "model_name": "DescriptionStyleModel",
     "state": {
      "_model_module": "@jupyter-widgets/controls",
      "_model_module_version": "1.5.0",
      "_model_name": "DescriptionStyleModel",
      "_view_count": null,
      "_view_module": "@jupyter-widgets/base",
      "_view_module_version": "1.2.0",
      "_view_name": "StyleView",
      "description_width": ""
     }
    },
    "6e136800d7be4018b20b368de8129a43": {
     "model_module": "@jupyter-widgets/controls",
     "model_module_version": "1.5.0",
     "model_name": "FloatProgressModel",
     "state": {
      "_dom_classes": [],
      "_model_module": "@jupyter-widgets/controls",
      "_model_module_version": "1.5.0",
      "_model_name": "FloatProgressModel",
      "_view_count": null,
      "_view_module": "@jupyter-widgets/controls",
      "_view_module_version": "1.5.0",
      "_view_name": "ProgressView",
      "bar_style": "success",
      "description": "",
      "description_tooltip": null,
      "layout": "IPY_MODEL_bfc14eb1d87b4d8f83c58e68bcedd7d9",
      "max": 2,
      "min": 0,
      "orientation": "horizontal",
      "style": "IPY_MODEL_81acac138aa242aeaaf5883b5a30d621",
      "value": 2
     }
    },
    "6ea347172e20492c9dbf0d6b924475ac": {
     "model_module": "@jupyter-widgets/controls",
     "model_module_version": "1.5.0",
     "model_name": "ProgressStyleModel",
     "state": {
      "_model_module": "@jupyter-widgets/controls",
      "_model_module_version": "1.5.0",
      "_model_name": "ProgressStyleModel",
      "_view_count": null,
      "_view_module": "@jupyter-widgets/base",
      "_view_module_version": "1.2.0",
      "_view_name": "StyleView",
      "bar_color": null,
      "description_width": ""
     }
    },
    "6fbc32a53a874eac96cf691fb3dfa2a5": {
     "model_module": "@jupyter-widgets/base",
     "model_module_version": "1.2.0",
     "model_name": "LayoutModel",
     "state": {
      "_model_module": "@jupyter-widgets/base",
      "_model_module_version": "1.2.0",
      "_model_name": "LayoutModel",
      "_view_count": null,
      "_view_module": "@jupyter-widgets/base",
      "_view_module_version": "1.2.0",
      "_view_name": "LayoutView",
      "align_content": null,
      "align_items": null,
      "align_self": null,
      "border": null,
      "bottom": null,
      "display": null,
      "flex": null,
      "flex_flow": null,
      "grid_area": null,
      "grid_auto_columns": null,
      "grid_auto_flow": null,
      "grid_auto_rows": null,
      "grid_column": null,
      "grid_gap": null,
      "grid_row": null,
      "grid_template_areas": null,
      "grid_template_columns": null,
      "grid_template_rows": null,
      "height": null,
      "justify_content": null,
      "justify_items": null,
      "left": null,
      "margin": null,
      "max_height": null,
      "max_width": null,
      "min_height": null,
      "min_width": null,
      "object_fit": null,
      "object_position": null,
      "order": null,
      "overflow": null,
      "overflow_x": null,
      "overflow_y": null,
      "padding": null,
      "right": null,
      "top": null,
      "visibility": null,
      "width": null
     }
    },
    "7039b6c96606472ab0e4a2fff269292a": {
     "model_module": "@jupyter-widgets/controls",
     "model_module_version": "1.5.0",
     "model_name": "FloatProgressModel",
     "state": {
      "_dom_classes": [],
      "_model_module": "@jupyter-widgets/controls",
      "_model_module_version": "1.5.0",
      "_model_name": "FloatProgressModel",
      "_view_count": null,
      "_view_module": "@jupyter-widgets/controls",
      "_view_module_version": "1.5.0",
      "_view_name": "ProgressView",
      "bar_style": "danger",
      "description": "",
      "description_tooltip": null,
      "layout": "IPY_MODEL_8ae27720b7a4426fa1aa5714225a5182",
      "max": 6090,
      "min": 0,
      "orientation": "horizontal",
      "style": "IPY_MODEL_8996911a303842d2baa5a1688a84e523",
      "value": 13
     }
    },
    "7136bc912441421cb9c91c213d132edf": {
     "model_module": "@jupyter-widgets/controls",
     "model_module_version": "1.5.0",
     "model_name": "DescriptionStyleModel",
     "state": {
      "_model_module": "@jupyter-widgets/controls",
      "_model_module_version": "1.5.0",
      "_model_name": "DescriptionStyleModel",
      "_view_count": null,
      "_view_module": "@jupyter-widgets/base",
      "_view_module_version": "1.2.0",
      "_view_name": "StyleView",
      "description_width": ""
     }
    },
    "716d92afa529474ca93c5a7ac1fb05bb": {
     "model_module": "@jupyter-widgets/base",
     "model_module_version": "1.2.0",
     "model_name": "LayoutModel",
     "state": {
      "_model_module": "@jupyter-widgets/base",
      "_model_module_version": "1.2.0",
      "_model_name": "LayoutModel",
      "_view_count": null,
      "_view_module": "@jupyter-widgets/base",
      "_view_module_version": "1.2.0",
      "_view_name": "LayoutView",
      "align_content": null,
      "align_items": null,
      "align_self": null,
      "border": null,
      "bottom": null,
      "display": null,
      "flex": null,
      "flex_flow": null,
      "grid_area": null,
      "grid_auto_columns": null,
      "grid_auto_flow": null,
      "grid_auto_rows": null,
      "grid_column": null,
      "grid_gap": null,
      "grid_row": null,
      "grid_template_areas": null,
      "grid_template_columns": null,
      "grid_template_rows": null,
      "height": null,
      "justify_content": null,
      "justify_items": null,
      "left": null,
      "margin": null,
      "max_height": null,
      "max_width": null,
      "min_height": null,
      "min_width": null,
      "object_fit": null,
      "object_position": null,
      "order": null,
      "overflow": null,
      "overflow_x": null,
      "overflow_y": null,
      "padding": null,
      "right": null,
      "top": null,
      "visibility": null,
      "width": null
     }
    },
    "718137e8168d494daa8dca546ed8e0dd": {
     "model_module": "@jupyter-widgets/controls",
     "model_module_version": "1.5.0",
     "model_name": "HBoxModel",
     "state": {
      "_dom_classes": [],
      "_model_module": "@jupyter-widgets/controls",
      "_model_module_version": "1.5.0",
      "_model_name": "HBoxModel",
      "_view_count": null,
      "_view_module": "@jupyter-widgets/controls",
      "_view_module_version": "1.5.0",
      "_view_name": "HBoxView",
      "box_style": "",
      "children": [
       "IPY_MODEL_82a6c3350a9140548e28591482ab3805",
       "IPY_MODEL_11eb9d16f51f4c5e9d46d77112635074",
       "IPY_MODEL_1f60186f0b2d41aaa05c3ca621ccdb33"
      ],
      "layout": "IPY_MODEL_869b8609a37c45e99a0cb0472c401f15"
     }
    },
    "71dcd78ce3694909b002537ac87b227b": {
     "model_module": "@jupyter-widgets/base",
     "model_module_version": "1.2.0",
     "model_name": "LayoutModel",
     "state": {
      "_model_module": "@jupyter-widgets/base",
      "_model_module_version": "1.2.0",
      "_model_name": "LayoutModel",
      "_view_count": null,
      "_view_module": "@jupyter-widgets/base",
      "_view_module_version": "1.2.0",
      "_view_name": "LayoutView",
      "align_content": null,
      "align_items": null,
      "align_self": null,
      "border": null,
      "bottom": null,
      "display": null,
      "flex": null,
      "flex_flow": null,
      "grid_area": null,
      "grid_auto_columns": null,
      "grid_auto_flow": null,
      "grid_auto_rows": null,
      "grid_column": null,
      "grid_gap": null,
      "grid_row": null,
      "grid_template_areas": null,
      "grid_template_columns": null,
      "grid_template_rows": null,
      "height": null,
      "justify_content": null,
      "justify_items": null,
      "left": null,
      "margin": null,
      "max_height": null,
      "max_width": null,
      "min_height": null,
      "min_width": null,
      "object_fit": null,
      "object_position": null,
      "order": null,
      "overflow": null,
      "overflow_x": null,
      "overflow_y": null,
      "padding": null,
      "right": null,
      "top": null,
      "visibility": null,
      "width": null
     }
    },
    "7487a247974a4418b338155cff1775f6": {
     "model_module": "@jupyter-widgets/base",
     "model_module_version": "1.2.0",
     "model_name": "LayoutModel",
     "state": {
      "_model_module": "@jupyter-widgets/base",
      "_model_module_version": "1.2.0",
      "_model_name": "LayoutModel",
      "_view_count": null,
      "_view_module": "@jupyter-widgets/base",
      "_view_module_version": "1.2.0",
      "_view_name": "LayoutView",
      "align_content": null,
      "align_items": null,
      "align_self": null,
      "border": null,
      "bottom": null,
      "display": null,
      "flex": null,
      "flex_flow": null,
      "grid_area": null,
      "grid_auto_columns": null,
      "grid_auto_flow": null,
      "grid_auto_rows": null,
      "grid_column": null,
      "grid_gap": null,
      "grid_row": null,
      "grid_template_areas": null,
      "grid_template_columns": null,
      "grid_template_rows": null,
      "height": null,
      "justify_content": null,
      "justify_items": null,
      "left": null,
      "margin": null,
      "max_height": null,
      "max_width": null,
      "min_height": null,
      "min_width": null,
      "object_fit": null,
      "object_position": null,
      "order": null,
      "overflow": null,
      "overflow_x": null,
      "overflow_y": null,
      "padding": null,
      "right": null,
      "top": null,
      "visibility": null,
      "width": null
     }
    },
    "7630657493e547f0a8d2cf2434a2bd0e": {
     "model_module": "@jupyter-widgets/controls",
     "model_module_version": "1.5.0",
     "model_name": "FloatProgressModel",
     "state": {
      "_dom_classes": [],
      "_model_module": "@jupyter-widgets/controls",
      "_model_module_version": "1.5.0",
      "_model_name": "FloatProgressModel",
      "_view_count": null,
      "_view_module": "@jupyter-widgets/controls",
      "_view_module_version": "1.5.0",
      "_view_name": "ProgressView",
      "bar_style": "success",
      "description": "",
      "description_tooltip": null,
      "layout": "IPY_MODEL_6fbc32a53a874eac96cf691fb3dfa2a5",
      "max": 762,
      "min": 0,
      "orientation": "horizontal",
      "style": "IPY_MODEL_98c3106c91824d3a8c6a6627af3b3619",
      "value": 762
     }
    },
    "771dab22bd7e4a63bf029a3656f2c707": {
     "model_module": "@jupyter-widgets/controls",
     "model_module_version": "1.5.0",
     "model_name": "HTMLModel",
     "state": {
      "_dom_classes": [],
      "_model_module": "@jupyter-widgets/controls",
      "_model_module_version": "1.5.0",
      "_model_name": "HTMLModel",
      "_view_count": null,
      "_view_module": "@jupyter-widgets/controls",
      "_view_module_version": "1.5.0",
      "_view_name": "HTMLView",
      "description": "",
      "description_tooltip": null,
      "layout": "IPY_MODEL_7487a247974a4418b338155cff1775f6",
      "placeholder": "​",
      "style": "IPY_MODEL_0126331ca4744e96b96ee737d4bfd5f5",
      "value": " 762/762 [01:29&lt;00:00,  8.79it/s]"
     }
    },
    "78348a6e21bd4e6baa4dbd7c32747a2f": {
     "model_module": "@jupyter-widgets/base",
     "model_module_version": "1.2.0",
     "model_name": "LayoutModel",
     "state": {
      "_model_module": "@jupyter-widgets/base",
      "_model_module_version": "1.2.0",
      "_model_name": "LayoutModel",
      "_view_count": null,
      "_view_module": "@jupyter-widgets/base",
      "_view_module_version": "1.2.0",
      "_view_name": "LayoutView",
      "align_content": null,
      "align_items": null,
      "align_self": null,
      "border": null,
      "bottom": null,
      "display": null,
      "flex": null,
      "flex_flow": null,
      "grid_area": null,
      "grid_auto_columns": null,
      "grid_auto_flow": null,
      "grid_auto_rows": null,
      "grid_column": null,
      "grid_gap": null,
      "grid_row": null,
      "grid_template_areas": null,
      "grid_template_columns": null,
      "grid_template_rows": null,
      "height": null,
      "justify_content": null,
      "justify_items": null,
      "left": null,
      "margin": null,
      "max_height": null,
      "max_width": null,
      "min_height": null,
      "min_width": null,
      "object_fit": null,
      "object_position": null,
      "order": null,
      "overflow": null,
      "overflow_x": null,
      "overflow_y": null,
      "padding": null,
      "right": null,
      "top": null,
      "visibility": null,
      "width": null
     }
    },
    "7860518918be4bf6be679f362427e59d": {
     "model_module": "@jupyter-widgets/controls",
     "model_module_version": "1.5.0",
     "model_name": "HBoxModel",
     "state": {
      "_dom_classes": [],
      "_model_module": "@jupyter-widgets/controls",
      "_model_module_version": "1.5.0",
      "_model_name": "HBoxModel",
      "_view_count": null,
      "_view_module": "@jupyter-widgets/controls",
      "_view_module_version": "1.5.0",
      "_view_name": "HBoxView",
      "box_style": "",
      "children": [
       "IPY_MODEL_866f08e9c26d40aebeae13c3ac2da926",
       "IPY_MODEL_5b80da411ff6468c9d5f64bed2cd16ea",
       "IPY_MODEL_d65d16d2991849d7891140d0336c1c2b"
      ],
      "layout": "IPY_MODEL_371f0fc4024c4f14a92850d7682c6889"
     }
    },
    "79e037a58a5a4cd6b476c13918ae73fc": {
     "model_module": "@jupyter-widgets/base",
     "model_module_version": "1.2.0",
     "model_name": "LayoutModel",
     "state": {
      "_model_module": "@jupyter-widgets/base",
      "_model_module_version": "1.2.0",
      "_model_name": "LayoutModel",
      "_view_count": null,
      "_view_module": "@jupyter-widgets/base",
      "_view_module_version": "1.2.0",
      "_view_name": "LayoutView",
      "align_content": null,
      "align_items": null,
      "align_self": null,
      "border": null,
      "bottom": null,
      "display": null,
      "flex": null,
      "flex_flow": null,
      "grid_area": null,
      "grid_auto_columns": null,
      "grid_auto_flow": null,
      "grid_auto_rows": null,
      "grid_column": null,
      "grid_gap": null,
      "grid_row": null,
      "grid_template_areas": null,
      "grid_template_columns": null,
      "grid_template_rows": null,
      "height": null,
      "justify_content": null,
      "justify_items": null,
      "left": null,
      "margin": null,
      "max_height": null,
      "max_width": null,
      "min_height": null,
      "min_width": null,
      "object_fit": null,
      "object_position": null,
      "order": null,
      "overflow": null,
      "overflow_x": null,
      "overflow_y": null,
      "padding": null,
      "right": null,
      "top": null,
      "visibility": null,
      "width": null
     }
    },
    "7a5ed2bea87e4867853b38952e95e457": {
     "model_module": "@jupyter-widgets/controls",
     "model_module_version": "1.5.0",
     "model_name": "HTMLModel",
     "state": {
      "_dom_classes": [],
      "_model_module": "@jupyter-widgets/controls",
      "_model_module_version": "1.5.0",
      "_model_name": "HTMLModel",
      "_view_count": null,
      "_view_module": "@jupyter-widgets/controls",
      "_view_module_version": "1.5.0",
      "_view_name": "HTMLView",
      "description": "",
      "description_tooltip": null,
      "layout": "IPY_MODEL_2031e59d3d0048e190d511d3e4942e4a",
      "placeholder": "​",
      "style": "IPY_MODEL_aa37da44f3ab476ca197bac390b09d07",
      "value": "Epochs 0/2. Running Loss:    0.1477: 100%"
     }
    },
    "7b6d7f9ca841494a9b758889baa57208": {
     "model_module": "@jupyter-widgets/controls",
     "model_module_version": "1.5.0",
     "model_name": "HBoxModel",
     "state": {
      "_dom_classes": [],
      "_model_module": "@jupyter-widgets/controls",
      "_model_module_version": "1.5.0",
      "_model_name": "HBoxModel",
      "_view_count": null,
      "_view_module": "@jupyter-widgets/controls",
      "_view_module_version": "1.5.0",
      "_view_name": "HBoxView",
      "box_style": "",
      "children": [
       "IPY_MODEL_47ed5e301c694d52b8d89e78fd96b9c7",
       "IPY_MODEL_ab840a4cf326483bbf7aa822cc5f06b0",
       "IPY_MODEL_154d7f45b9e547b8b22c807b29b43a53"
      ],
      "layout": "IPY_MODEL_14018446e8f14741890be1f875ba57bf"
     }
    },
    "7cc944e8f2f549d3b440db6b5b3116bd": {
     "model_module": "@jupyter-widgets/base",
     "model_module_version": "1.2.0",
     "model_name": "LayoutModel",
     "state": {
      "_model_module": "@jupyter-widgets/base",
      "_model_module_version": "1.2.0",
      "_model_name": "LayoutModel",
      "_view_count": null,
      "_view_module": "@jupyter-widgets/base",
      "_view_module_version": "1.2.0",
      "_view_name": "LayoutView",
      "align_content": null,
      "align_items": null,
      "align_self": null,
      "border": null,
      "bottom": null,
      "display": null,
      "flex": null,
      "flex_flow": null,
      "grid_area": null,
      "grid_auto_columns": null,
      "grid_auto_flow": null,
      "grid_auto_rows": null,
      "grid_column": null,
      "grid_gap": null,
      "grid_row": null,
      "grid_template_areas": null,
      "grid_template_columns": null,
      "grid_template_rows": null,
      "height": null,
      "justify_content": null,
      "justify_items": null,
      "left": null,
      "margin": null,
      "max_height": null,
      "max_width": null,
      "min_height": null,
      "min_width": null,
      "object_fit": null,
      "object_position": null,
      "order": null,
      "overflow": null,
      "overflow_x": null,
      "overflow_y": null,
      "padding": null,
      "right": null,
      "top": null,
      "visibility": null,
      "width": null
     }
    },
    "7d9d13959b8d4ad7be5f2e757bf105a0": {
     "model_module": "@jupyter-widgets/base",
     "model_module_version": "1.2.0",
     "model_name": "LayoutModel",
     "state": {
      "_model_module": "@jupyter-widgets/base",
      "_model_module_version": "1.2.0",
      "_model_name": "LayoutModel",
      "_view_count": null,
      "_view_module": "@jupyter-widgets/base",
      "_view_module_version": "1.2.0",
      "_view_name": "LayoutView",
      "align_content": null,
      "align_items": null,
      "align_self": null,
      "border": null,
      "bottom": null,
      "display": null,
      "flex": null,
      "flex_flow": null,
      "grid_area": null,
      "grid_auto_columns": null,
      "grid_auto_flow": null,
      "grid_auto_rows": null,
      "grid_column": null,
      "grid_gap": null,
      "grid_row": null,
      "grid_template_areas": null,
      "grid_template_columns": null,
      "grid_template_rows": null,
      "height": null,
      "justify_content": null,
      "justify_items": null,
      "left": null,
      "margin": null,
      "max_height": null,
      "max_width": null,
      "min_height": null,
      "min_width": null,
      "object_fit": null,
      "object_position": null,
      "order": null,
      "overflow": null,
      "overflow_x": null,
      "overflow_y": null,
      "padding": null,
      "right": null,
      "top": null,
      "visibility": null,
      "width": null
     }
    },
    "7d9e9d749841468aaf29c6374300280f": {
     "model_module": "@jupyter-widgets/controls",
     "model_module_version": "1.5.0",
     "model_name": "HTMLModel",
     "state": {
      "_dom_classes": [],
      "_model_module": "@jupyter-widgets/controls",
      "_model_module_version": "1.5.0",
      "_model_name": "HTMLModel",
      "_view_count": null,
      "_view_module": "@jupyter-widgets/controls",
      "_view_module_version": "1.5.0",
      "_view_name": "HTMLView",
      "description": "",
      "description_tooltip": null,
      "layout": "IPY_MODEL_4ace6f6e297b4da1a29369c08c923a77",
      "placeholder": "​",
      "style": "IPY_MODEL_ce7b287a58fa49cb960ac3c06d628bec",
      "value": "Downloading: 100%"
     }
    },
    "81acac138aa242aeaaf5883b5a30d621": {
     "model_module": "@jupyter-widgets/controls",
     "model_module_version": "1.5.0",
     "model_name": "ProgressStyleModel",
     "state": {
      "_model_module": "@jupyter-widgets/controls",
      "_model_module_version": "1.5.0",
      "_model_name": "ProgressStyleModel",
      "_view_count": null,
      "_view_module": "@jupyter-widgets/base",
      "_view_module_version": "1.2.0",
      "_view_name": "StyleView",
      "bar_color": null,
      "description_width": ""
     }
    },
    "820d43171cfd46c78321f578ff8c40b6": {
     "model_module": "@jupyter-widgets/controls",
     "model_module_version": "1.5.0",
     "model_name": "DescriptionStyleModel",
     "state": {
      "_model_module": "@jupyter-widgets/controls",
      "_model_module_version": "1.5.0",
      "_model_name": "DescriptionStyleModel",
      "_view_count": null,
      "_view_module": "@jupyter-widgets/base",
      "_view_module_version": "1.2.0",
      "_view_name": "StyleView",
      "description_width": ""
     }
    },
    "82a6c3350a9140548e28591482ab3805": {
     "model_module": "@jupyter-widgets/controls",
     "model_module_version": "1.5.0",
     "model_name": "HTMLModel",
     "state": {
      "_dom_classes": [],
      "_model_module": "@jupyter-widgets/controls",
      "_model_module_version": "1.5.0",
      "_model_name": "HTMLModel",
      "_view_count": null,
      "_view_module": "@jupyter-widgets/controls",
      "_view_module_version": "1.5.0",
      "_view_name": "HTMLView",
      "description": "",
      "description_tooltip": null,
      "layout": "IPY_MODEL_2a2d87cee93244888fa2c0ed223a352d",
      "placeholder": "​",
      "style": "IPY_MODEL_9d70d2de516240a8ab530b179d00788b",
      "value": "Epoch 2 of 2: 100%"
     }
    },
    "84918c96fa06444197b7d8722647ab36": {
     "model_module": "@jupyter-widgets/controls",
     "model_module_version": "1.5.0",
     "model_name": "DescriptionStyleModel",
     "state": {
      "_model_module": "@jupyter-widgets/controls",
      "_model_module_version": "1.5.0",
      "_model_name": "DescriptionStyleModel",
      "_view_count": null,
      "_view_module": "@jupyter-widgets/base",
      "_view_module_version": "1.2.0",
      "_view_name": "StyleView",
      "description_width": ""
     }
    },
    "852bd626859c442783ecda3e91aa3d9b": {
     "model_module": "@jupyter-widgets/controls",
     "model_module_version": "1.5.0",
     "model_name": "HTMLModel",
     "state": {
      "_dom_classes": [],
      "_model_module": "@jupyter-widgets/controls",
      "_model_module_version": "1.5.0",
      "_model_name": "HTMLModel",
      "_view_count": null,
      "_view_module": "@jupyter-widgets/controls",
      "_view_module_version": "1.5.0",
      "_view_name": "HTMLView",
      "description": "",
      "description_tooltip": null,
      "layout": "IPY_MODEL_4d1e4d62ac6647f2991dfe9d222a1a62",
      "placeholder": "​",
      "style": "IPY_MODEL_9acedb13a22d4a54918054c54713fbe6",
      "value": "Running Evaluation: 100%"
     }
    },
    "8568afc14eaf475a959638e3efa8ab31": {
     "model_module": "@jupyter-widgets/base",
     "model_module_version": "1.2.0",
     "model_name": "LayoutModel",
     "state": {
      "_model_module": "@jupyter-widgets/base",
      "_model_module_version": "1.2.0",
      "_model_name": "LayoutModel",
      "_view_count": null,
      "_view_module": "@jupyter-widgets/base",
      "_view_module_version": "1.2.0",
      "_view_name": "LayoutView",
      "align_content": null,
      "align_items": null,
      "align_self": null,
      "border": null,
      "bottom": null,
      "display": null,
      "flex": null,
      "flex_flow": null,
      "grid_area": null,
      "grid_auto_columns": null,
      "grid_auto_flow": null,
      "grid_auto_rows": null,
      "grid_column": null,
      "grid_gap": null,
      "grid_row": null,
      "grid_template_areas": null,
      "grid_template_columns": null,
      "grid_template_rows": null,
      "height": null,
      "justify_content": null,
      "justify_items": null,
      "left": null,
      "margin": null,
      "max_height": null,
      "max_width": null,
      "min_height": null,
      "min_width": null,
      "object_fit": null,
      "object_position": null,
      "order": null,
      "overflow": null,
      "overflow_x": null,
      "overflow_y": null,
      "padding": null,
      "right": null,
      "top": null,
      "visibility": null,
      "width": null
     }
    },
    "85e48413b30549a2a41ee3477fb64c82": {
     "model_module": "@jupyter-widgets/controls",
     "model_module_version": "1.5.0",
     "model_name": "HBoxModel",
     "state": {
      "_dom_classes": [],
      "_model_module": "@jupyter-widgets/controls",
      "_model_module_version": "1.5.0",
      "_model_name": "HBoxModel",
      "_view_count": null,
      "_view_module": "@jupyter-widgets/controls",
      "_view_module_version": "1.5.0",
      "_view_name": "HBoxView",
      "box_style": "",
      "children": [
       "IPY_MODEL_b55fde24276342baa88e10413e999d39",
       "IPY_MODEL_30e506f513f4499e9582e0811735cf8f",
       "IPY_MODEL_170d994f47e2416aafe19d8120e0ea92"
      ],
      "layout": "IPY_MODEL_f7e40c08f24340fba38deb26b4ac3344"
     }
    },
    "863b4a9f3997412b876135deeec31150": {
     "model_module": "@jupyter-widgets/base",
     "model_module_version": "1.2.0",
     "model_name": "LayoutModel",
     "state": {
      "_model_module": "@jupyter-widgets/base",
      "_model_module_version": "1.2.0",
      "_model_name": "LayoutModel",
      "_view_count": null,
      "_view_module": "@jupyter-widgets/base",
      "_view_module_version": "1.2.0",
      "_view_name": "LayoutView",
      "align_content": null,
      "align_items": null,
      "align_self": null,
      "border": null,
      "bottom": null,
      "display": null,
      "flex": null,
      "flex_flow": null,
      "grid_area": null,
      "grid_auto_columns": null,
      "grid_auto_flow": null,
      "grid_auto_rows": null,
      "grid_column": null,
      "grid_gap": null,
      "grid_row": null,
      "grid_template_areas": null,
      "grid_template_columns": null,
      "grid_template_rows": null,
      "height": null,
      "justify_content": null,
      "justify_items": null,
      "left": null,
      "margin": null,
      "max_height": null,
      "max_width": null,
      "min_height": null,
      "min_width": null,
      "object_fit": null,
      "object_position": null,
      "order": null,
      "overflow": null,
      "overflow_x": null,
      "overflow_y": null,
      "padding": null,
      "right": null,
      "top": null,
      "visibility": null,
      "width": null
     }
    },
    "866f08e9c26d40aebeae13c3ac2da926": {
     "model_module": "@jupyter-widgets/controls",
     "model_module_version": "1.5.0",
     "model_name": "HTMLModel",
     "state": {
      "_dom_classes": [],
      "_model_module": "@jupyter-widgets/controls",
      "_model_module_version": "1.5.0",
      "_model_name": "HTMLModel",
      "_view_count": null,
      "_view_module": "@jupyter-widgets/controls",
      "_view_module_version": "1.5.0",
      "_view_name": "HTMLView",
      "description": "",
      "description_tooltip": null,
      "layout": "IPY_MODEL_79e037a58a5a4cd6b476c13918ae73fc",
      "placeholder": "​",
      "style": "IPY_MODEL_1e31958ca0ac4c8c8796802a94154fcb",
      "value": "Epochs 1/2. Running Loss:    0.1170: 100%"
     }
    },
    "869b8609a37c45e99a0cb0472c401f15": {
     "model_module": "@jupyter-widgets/base",
     "model_module_version": "1.2.0",
     "model_name": "LayoutModel",
     "state": {
      "_model_module": "@jupyter-widgets/base",
      "_model_module_version": "1.2.0",
      "_model_name": "LayoutModel",
      "_view_count": null,
      "_view_module": "@jupyter-widgets/base",
      "_view_module_version": "1.2.0",
      "_view_name": "LayoutView",
      "align_content": null,
      "align_items": null,
      "align_self": null,
      "border": null,
      "bottom": null,
      "display": null,
      "flex": null,
      "flex_flow": null,
      "grid_area": null,
      "grid_auto_columns": null,
      "grid_auto_flow": null,
      "grid_auto_rows": null,
      "grid_column": null,
      "grid_gap": null,
      "grid_row": null,
      "grid_template_areas": null,
      "grid_template_columns": null,
      "grid_template_rows": null,
      "height": null,
      "justify_content": null,
      "justify_items": null,
      "left": null,
      "margin": null,
      "max_height": null,
      "max_width": null,
      "min_height": null,
      "min_width": null,
      "object_fit": null,
      "object_position": null,
      "order": null,
      "overflow": null,
      "overflow_x": null,
      "overflow_y": null,
      "padding": null,
      "right": null,
      "top": null,
      "visibility": null,
      "width": null
     }
    },
    "8996911a303842d2baa5a1688a84e523": {
     "model_module": "@jupyter-widgets/controls",
     "model_module_version": "1.5.0",
     "model_name": "ProgressStyleModel",
     "state": {
      "_model_module": "@jupyter-widgets/controls",
      "_model_module_version": "1.5.0",
      "_model_name": "ProgressStyleModel",
      "_view_count": null,
      "_view_module": "@jupyter-widgets/base",
      "_view_module_version": "1.2.0",
      "_view_name": "StyleView",
      "bar_color": null,
      "description_width": ""
     }
    },
    "8ae27720b7a4426fa1aa5714225a5182": {
     "model_module": "@jupyter-widgets/base",
     "model_module_version": "1.2.0",
     "model_name": "LayoutModel",
     "state": {
      "_model_module": "@jupyter-widgets/base",
      "_model_module_version": "1.2.0",
      "_model_name": "LayoutModel",
      "_view_count": null,
      "_view_module": "@jupyter-widgets/base",
      "_view_module_version": "1.2.0",
      "_view_name": "LayoutView",
      "align_content": null,
      "align_items": null,
      "align_self": null,
      "border": null,
      "bottom": null,
      "display": null,
      "flex": null,
      "flex_flow": null,
      "grid_area": null,
      "grid_auto_columns": null,
      "grid_auto_flow": null,
      "grid_auto_rows": null,
      "grid_column": null,
      "grid_gap": null,
      "grid_row": null,
      "grid_template_areas": null,
      "grid_template_columns": null,
      "grid_template_rows": null,
      "height": null,
      "justify_content": null,
      "justify_items": null,
      "left": null,
      "margin": null,
      "max_height": null,
      "max_width": null,
      "min_height": null,
      "min_width": null,
      "object_fit": null,
      "object_position": null,
      "order": null,
      "overflow": null,
      "overflow_x": null,
      "overflow_y": null,
      "padding": null,
      "right": null,
      "top": null,
      "visibility": null,
      "width": null
     }
    },
    "8b4cab717a404e74b509ec565888835f": {
     "model_module": "@jupyter-widgets/base",
     "model_module_version": "1.2.0",
     "model_name": "LayoutModel",
     "state": {
      "_model_module": "@jupyter-widgets/base",
      "_model_module_version": "1.2.0",
      "_model_name": "LayoutModel",
      "_view_count": null,
      "_view_module": "@jupyter-widgets/base",
      "_view_module_version": "1.2.0",
      "_view_name": "LayoutView",
      "align_content": null,
      "align_items": null,
      "align_self": null,
      "border": null,
      "bottom": null,
      "display": null,
      "flex": null,
      "flex_flow": null,
      "grid_area": null,
      "grid_auto_columns": null,
      "grid_auto_flow": null,
      "grid_auto_rows": null,
      "grid_column": null,
      "grid_gap": null,
      "grid_row": null,
      "grid_template_areas": null,
      "grid_template_columns": null,
      "grid_template_rows": null,
      "height": null,
      "justify_content": null,
      "justify_items": null,
      "left": null,
      "margin": null,
      "max_height": null,
      "max_width": null,
      "min_height": null,
      "min_width": null,
      "object_fit": null,
      "object_position": null,
      "order": null,
      "overflow": null,
      "overflow_x": null,
      "overflow_y": null,
      "padding": null,
      "right": null,
      "top": null,
      "visibility": null,
      "width": null
     }
    },
    "8bc95fd270eb480ea2ea014fb158c596": {
     "model_module": "@jupyter-widgets/controls",
     "model_module_version": "1.5.0",
     "model_name": "HTMLModel",
     "state": {
      "_dom_classes": [],
      "_model_module": "@jupyter-widgets/controls",
      "_model_module_version": "1.5.0",
      "_model_name": "HTMLModel",
      "_view_count": null,
      "_view_module": "@jupyter-widgets/controls",
      "_view_module_version": "1.5.0",
      "_view_name": "HTMLView",
      "description": "",
      "description_tooltip": null,
      "layout": "IPY_MODEL_3ae2990c0b164b28b6cf0938d8581c28",
      "placeholder": "​",
      "style": "IPY_MODEL_66b7cac7c889467e950e6813f199a111",
      "value": "Downloading: 100%"
     }
    },
    "8c70b38d07dc42f6bd36749f525e079d": {
     "model_module": "@jupyter-widgets/controls",
     "model_module_version": "1.5.0",
     "model_name": "FloatProgressModel",
     "state": {
      "_dom_classes": [],
      "_model_module": "@jupyter-widgets/controls",
      "_model_module_version": "1.5.0",
      "_model_name": "FloatProgressModel",
      "_view_count": null,
      "_view_module": "@jupyter-widgets/controls",
      "_view_module_version": "1.5.0",
      "_view_name": "ProgressView",
      "bar_style": "success",
      "description": "",
      "description_tooltip": null,
      "layout": "IPY_MODEL_532870a685b64e7cb7976ac1ec2559c3",
      "max": 191,
      "min": 0,
      "orientation": "horizontal",
      "style": "IPY_MODEL_535d685947d94416a0516749b24bb24a",
      "value": 191
     }
    },
    "8f74f441046c4a889f5f0bdeebc33ac2": {
     "model_module": "@jupyter-widgets/controls",
     "model_module_version": "1.5.0",
     "model_name": "FloatProgressModel",
     "state": {
      "_dom_classes": [],
      "_model_module": "@jupyter-widgets/controls",
      "_model_module_version": "1.5.0",
      "_model_name": "FloatProgressModel",
      "_view_count": null,
      "_view_module": "@jupyter-widgets/controls",
      "_view_module_version": "1.5.0",
      "_view_name": "ProgressView",
      "bar_style": "success",
      "description": "",
      "description_tooltip": null,
      "layout": "IPY_MODEL_35df593bbd224a9580389a6315f993ee",
      "max": 456318,
      "min": 0,
      "orientation": "horizontal",
      "style": "IPY_MODEL_ca2dca8af0a548888892eb7ffb1a8659",
      "value": 456318
     }
    },
    "908a892e027a4f9dbf9baeac4deffd22": {
     "model_module": "@jupyter-widgets/base",
     "model_module_version": "1.2.0",
     "model_name": "LayoutModel",
     "state": {
      "_model_module": "@jupyter-widgets/base",
      "_model_module_version": "1.2.0",
      "_model_name": "LayoutModel",
      "_view_count": null,
      "_view_module": "@jupyter-widgets/base",
      "_view_module_version": "1.2.0",
      "_view_name": "LayoutView",
      "align_content": null,
      "align_items": null,
      "align_self": null,
      "border": null,
      "bottom": null,
      "display": null,
      "flex": null,
      "flex_flow": null,
      "grid_area": null,
      "grid_auto_columns": null,
      "grid_auto_flow": null,
      "grid_auto_rows": null,
      "grid_column": null,
      "grid_gap": null,
      "grid_row": null,
      "grid_template_areas": null,
      "grid_template_columns": null,
      "grid_template_rows": null,
      "height": null,
      "justify_content": null,
      "justify_items": null,
      "left": null,
      "margin": null,
      "max_height": null,
      "max_width": null,
      "min_height": null,
      "min_width": null,
      "object_fit": null,
      "object_position": null,
      "order": null,
      "overflow": null,
      "overflow_x": null,
      "overflow_y": null,
      "padding": null,
      "right": null,
      "top": null,
      "visibility": null,
      "width": null
     }
    },
    "922e4682b4f84b28a33f7882bd11db99": {
     "model_module": "@jupyter-widgets/controls",
     "model_module_version": "1.5.0",
     "model_name": "ProgressStyleModel",
     "state": {
      "_model_module": "@jupyter-widgets/controls",
      "_model_module_version": "1.5.0",
      "_model_name": "ProgressStyleModel",
      "_view_count": null,
      "_view_module": "@jupyter-widgets/base",
      "_view_module_version": "1.2.0",
      "_view_name": "StyleView",
      "bar_color": null,
      "description_width": ""
     }
    },
    "9317833159e447f1af71a976bec2c4a7": {
     "model_module": "@jupyter-widgets/controls",
     "model_module_version": "1.5.0",
     "model_name": "ProgressStyleModel",
     "state": {
      "_model_module": "@jupyter-widgets/controls",
      "_model_module_version": "1.5.0",
      "_model_name": "ProgressStyleModel",
      "_view_count": null,
      "_view_module": "@jupyter-widgets/base",
      "_view_module_version": "1.2.0",
      "_view_name": "StyleView",
      "bar_color": null,
      "description_width": ""
     }
    },
    "94f3285375cb4c06b5d4b07be47372a4": {
     "model_module": "@jupyter-widgets/controls",
     "model_module_version": "1.5.0",
     "model_name": "HTMLModel",
     "state": {
      "_dom_classes": [],
      "_model_module": "@jupyter-widgets/controls",
      "_model_module_version": "1.5.0",
      "_model_name": "HTMLModel",
      "_view_count": null,
      "_view_module": "@jupyter-widgets/controls",
      "_view_module_version": "1.5.0",
      "_view_name": "HTMLView",
      "description": "",
      "description_tooltip": null,
      "layout": "IPY_MODEL_7d9d13959b8d4ad7be5f2e757bf105a0",
      "placeholder": "​",
      "style": "IPY_MODEL_019276a684504b48a2da9c33c024156e",
      "value": " 446k/446k [00:00&lt;00:00, 687kB/s]"
     }
    },
    "98c3106c91824d3a8c6a6627af3b3619": {
     "model_module": "@jupyter-widgets/controls",
     "model_module_version": "1.5.0",
     "model_name": "ProgressStyleModel",
     "state": {
      "_model_module": "@jupyter-widgets/controls",
      "_model_module_version": "1.5.0",
      "_model_name": "ProgressStyleModel",
      "_view_count": null,
      "_view_module": "@jupyter-widgets/base",
      "_view_module_version": "1.2.0",
      "_view_name": "StyleView",
      "bar_color": null,
      "description_width": ""
     }
    },
    "98dda0b592e04a3fb93e2dac77dd6fa9": {
     "model_module": "@jupyter-widgets/controls",
     "model_module_version": "1.5.0",
     "model_name": "HTMLModel",
     "state": {
      "_dom_classes": [],
      "_model_module": "@jupyter-widgets/controls",
      "_model_module_version": "1.5.0",
      "_model_name": "HTMLModel",
      "_view_count": null,
      "_view_module": "@jupyter-widgets/controls",
      "_view_module_version": "1.5.0",
      "_view_name": "HTMLView",
      "description": "",
      "description_tooltip": null,
      "layout": "IPY_MODEL_e3729914022f4095bcff86406d92b68f",
      "placeholder": "​",
      "style": "IPY_MODEL_2ad7bd916c2e436db4c3d32ff8bcecb2",
      "value": " 481/481 [00:00&lt;00:00, 14.1kB/s]"
     }
    },
    "9acedb13a22d4a54918054c54713fbe6": {
     "model_module": "@jupyter-widgets/controls",
     "model_module_version": "1.5.0",
     "model_name": "DescriptionStyleModel",
     "state": {
      "_model_module": "@jupyter-widgets/controls",
      "_model_module_version": "1.5.0",
      "_model_name": "DescriptionStyleModel",
      "_view_count": null,
      "_view_module": "@jupyter-widgets/base",
      "_view_module_version": "1.2.0",
      "_view_name": "StyleView",
      "description_width": ""
     }
    },
    "9bdfd29307dc4fbe8949e0550d231bca": {
     "model_module": "@jupyter-widgets/controls",
     "model_module_version": "1.5.0",
     "model_name": "DescriptionStyleModel",
     "state": {
      "_model_module": "@jupyter-widgets/controls",
      "_model_module_version": "1.5.0",
      "_model_name": "DescriptionStyleModel",
      "_view_count": null,
      "_view_module": "@jupyter-widgets/base",
      "_view_module_version": "1.2.0",
      "_view_name": "StyleView",
      "description_width": ""
     }
    },
    "9c26dec15be14667a21dc0e690ff7e8a": {
     "model_module": "@jupyter-widgets/controls",
     "model_module_version": "1.5.0",
     "model_name": "FloatProgressModel",
     "state": {
      "_dom_classes": [],
      "_model_module": "@jupyter-widgets/controls",
      "_model_module_version": "1.5.0",
      "_model_name": "FloatProgressModel",
      "_view_count": null,
      "_view_module": "@jupyter-widgets/controls",
      "_view_module_version": "1.5.0",
      "_view_name": "ProgressView",
      "bar_style": "success",
      "description": "",
      "description_tooltip": null,
      "layout": "IPY_MODEL_863b4a9f3997412b876135deeec31150",
      "max": 481,
      "min": 0,
      "orientation": "horizontal",
      "style": "IPY_MODEL_23950b9758804ee292a894a0736648a3",
      "value": 481
     }
    },
    "9d70d2de516240a8ab530b179d00788b": {
     "model_module": "@jupyter-widgets/controls",
     "model_module_version": "1.5.0",
     "model_name": "DescriptionStyleModel",
     "state": {
      "_model_module": "@jupyter-widgets/controls",
      "_model_module_version": "1.5.0",
      "_model_name": "DescriptionStyleModel",
      "_view_count": null,
      "_view_module": "@jupyter-widgets/base",
      "_view_module_version": "1.2.0",
      "_view_name": "StyleView",
      "description_width": ""
     }
    },
    "9df1ab2e4ae3447a953c745243cffac7": {
     "model_module": "@jupyter-widgets/base",
     "model_module_version": "1.2.0",
     "model_name": "LayoutModel",
     "state": {
      "_model_module": "@jupyter-widgets/base",
      "_model_module_version": "1.2.0",
      "_model_name": "LayoutModel",
      "_view_count": null,
      "_view_module": "@jupyter-widgets/base",
      "_view_module_version": "1.2.0",
      "_view_name": "LayoutView",
      "align_content": null,
      "align_items": null,
      "align_self": null,
      "border": null,
      "bottom": null,
      "display": null,
      "flex": null,
      "flex_flow": null,
      "grid_area": null,
      "grid_auto_columns": null,
      "grid_auto_flow": null,
      "grid_auto_rows": null,
      "grid_column": null,
      "grid_gap": null,
      "grid_row": null,
      "grid_template_areas": null,
      "grid_template_columns": null,
      "grid_template_rows": null,
      "height": null,
      "justify_content": null,
      "justify_items": null,
      "left": null,
      "margin": null,
      "max_height": null,
      "max_width": null,
      "min_height": null,
      "min_width": null,
      "object_fit": null,
      "object_position": null,
      "order": null,
      "overflow": null,
      "overflow_x": null,
      "overflow_y": null,
      "padding": null,
      "right": null,
      "top": null,
      "visibility": null,
      "width": null
     }
    },
    "9fb5358f7578469ab8a26dff9323927a": {
     "model_module": "@jupyter-widgets/base",
     "model_module_version": "1.2.0",
     "model_name": "LayoutModel",
     "state": {
      "_model_module": "@jupyter-widgets/base",
      "_model_module_version": "1.2.0",
      "_model_name": "LayoutModel",
      "_view_count": null,
      "_view_module": "@jupyter-widgets/base",
      "_view_module_version": "1.2.0",
      "_view_name": "LayoutView",
      "align_content": null,
      "align_items": null,
      "align_self": null,
      "border": null,
      "bottom": null,
      "display": null,
      "flex": null,
      "flex_flow": null,
      "grid_area": null,
      "grid_auto_columns": null,
      "grid_auto_flow": null,
      "grid_auto_rows": null,
      "grid_column": null,
      "grid_gap": null,
      "grid_row": null,
      "grid_template_areas": null,
      "grid_template_columns": null,
      "grid_template_rows": null,
      "height": null,
      "justify_content": null,
      "justify_items": null,
      "left": null,
      "margin": null,
      "max_height": null,
      "max_width": null,
      "min_height": null,
      "min_width": null,
      "object_fit": null,
      "object_position": null,
      "order": null,
      "overflow": null,
      "overflow_x": null,
      "overflow_y": null,
      "padding": null,
      "right": null,
      "top": null,
      "visibility": null,
      "width": null
     }
    },
    "a2197a53d8d54510834648976f69f01f": {
     "model_module": "@jupyter-widgets/base",
     "model_module_version": "1.2.0",
     "model_name": "LayoutModel",
     "state": {
      "_model_module": "@jupyter-widgets/base",
      "_model_module_version": "1.2.0",
      "_model_name": "LayoutModel",
      "_view_count": null,
      "_view_module": "@jupyter-widgets/base",
      "_view_module_version": "1.2.0",
      "_view_name": "LayoutView",
      "align_content": null,
      "align_items": null,
      "align_self": null,
      "border": null,
      "bottom": null,
      "display": null,
      "flex": null,
      "flex_flow": null,
      "grid_area": null,
      "grid_auto_columns": null,
      "grid_auto_flow": null,
      "grid_auto_rows": null,
      "grid_column": null,
      "grid_gap": null,
      "grid_row": null,
      "grid_template_areas": null,
      "grid_template_columns": null,
      "grid_template_rows": null,
      "height": null,
      "justify_content": null,
      "justify_items": null,
      "left": null,
      "margin": null,
      "max_height": null,
      "max_width": null,
      "min_height": null,
      "min_width": null,
      "object_fit": null,
      "object_position": null,
      "order": null,
      "overflow": null,
      "overflow_x": null,
      "overflow_y": null,
      "padding": null,
      "right": null,
      "top": null,
      "visibility": null,
      "width": null
     }
    },
    "a304a83866c84d3b8aa5d6cb060e4427": {
     "model_module": "@jupyter-widgets/controls",
     "model_module_version": "1.5.0",
     "model_name": "HTMLModel",
     "state": {
      "_dom_classes": [],
      "_model_module": "@jupyter-widgets/controls",
      "_model_module_version": "1.5.0",
      "_model_name": "HTMLModel",
      "_view_count": null,
      "_view_module": "@jupyter-widgets/controls",
      "_view_module_version": "1.5.0",
      "_view_name": "HTMLView",
      "description": "",
      "description_tooltip": null,
      "layout": "IPY_MODEL_04ac401bc5654baa9e33ac8ecbaa1111",
      "placeholder": "​",
      "style": "IPY_MODEL_68f651ba37054c5a8af7db6287abe68f",
      "value": "Epoch 2 of 2: 100%"
     }
    },
    "a85ab5ece2604033997f5f154b6fc569": {
     "model_module": "@jupyter-widgets/base",
     "model_module_version": "1.2.0",
     "model_name": "LayoutModel",
     "state": {
      "_model_module": "@jupyter-widgets/base",
      "_model_module_version": "1.2.0",
      "_model_name": "LayoutModel",
      "_view_count": null,
      "_view_module": "@jupyter-widgets/base",
      "_view_module_version": "1.2.0",
      "_view_name": "LayoutView",
      "align_content": null,
      "align_items": null,
      "align_self": null,
      "border": null,
      "bottom": null,
      "display": null,
      "flex": null,
      "flex_flow": null,
      "grid_area": null,
      "grid_auto_columns": null,
      "grid_auto_flow": null,
      "grid_auto_rows": null,
      "grid_column": null,
      "grid_gap": null,
      "grid_row": null,
      "grid_template_areas": null,
      "grid_template_columns": null,
      "grid_template_rows": null,
      "height": null,
      "justify_content": null,
      "justify_items": null,
      "left": null,
      "margin": null,
      "max_height": null,
      "max_width": null,
      "min_height": null,
      "min_width": null,
      "object_fit": null,
      "object_position": null,
      "order": null,
      "overflow": null,
      "overflow_x": null,
      "overflow_y": null,
      "padding": null,
      "right": null,
      "top": null,
      "visibility": null,
      "width": null
     }
    },
    "aa37da44f3ab476ca197bac390b09d07": {
     "model_module": "@jupyter-widgets/controls",
     "model_module_version": "1.5.0",
     "model_name": "DescriptionStyleModel",
     "state": {
      "_model_module": "@jupyter-widgets/controls",
      "_model_module_version": "1.5.0",
      "_model_name": "DescriptionStyleModel",
      "_view_count": null,
      "_view_module": "@jupyter-widgets/base",
      "_view_module_version": "1.2.0",
      "_view_name": "StyleView",
      "description_width": ""
     }
    },
    "ab08b582a50641e0966114cdac321483": {
     "model_module": "@jupyter-widgets/base",
     "model_module_version": "1.2.0",
     "model_name": "LayoutModel",
     "state": {
      "_model_module": "@jupyter-widgets/base",
      "_model_module_version": "1.2.0",
      "_model_name": "LayoutModel",
      "_view_count": null,
      "_view_module": "@jupyter-widgets/base",
      "_view_module_version": "1.2.0",
      "_view_name": "LayoutView",
      "align_content": null,
      "align_items": null,
      "align_self": null,
      "border": null,
      "bottom": null,
      "display": null,
      "flex": null,
      "flex_flow": null,
      "grid_area": null,
      "grid_auto_columns": null,
      "grid_auto_flow": null,
      "grid_auto_rows": null,
      "grid_column": null,
      "grid_gap": null,
      "grid_row": null,
      "grid_template_areas": null,
      "grid_template_columns": null,
      "grid_template_rows": null,
      "height": null,
      "justify_content": null,
      "justify_items": null,
      "left": null,
      "margin": null,
      "max_height": null,
      "max_width": null,
      "min_height": null,
      "min_width": null,
      "object_fit": null,
      "object_position": null,
      "order": null,
      "overflow": null,
      "overflow_x": null,
      "overflow_y": null,
      "padding": null,
      "right": null,
      "top": null,
      "visibility": null,
      "width": null
     }
    },
    "ab840a4cf326483bbf7aa822cc5f06b0": {
     "model_module": "@jupyter-widgets/controls",
     "model_module_version": "1.5.0",
     "model_name": "FloatProgressModel",
     "state": {
      "_dom_classes": [],
      "_model_module": "@jupyter-widgets/controls",
      "_model_module_version": "1.5.0",
      "_model_name": "FloatProgressModel",
      "_view_count": null,
      "_view_module": "@jupyter-widgets/controls",
      "_view_module_version": "1.5.0",
      "_view_name": "ProgressView",
      "bar_style": "success",
      "description": "",
      "description_tooltip": null,
      "layout": "IPY_MODEL_7cc944e8f2f549d3b440db6b5b3116bd",
      "max": 762,
      "min": 0,
      "orientation": "horizontal",
      "style": "IPY_MODEL_c17e83b816274cc8b11249149400848b",
      "value": 762
     }
    },
    "ad1ba8a252e749efa6d9c442a8f3e588": {
     "model_module": "@jupyter-widgets/controls",
     "model_module_version": "1.5.0",
     "model_name": "DescriptionStyleModel",
     "state": {
      "_model_module": "@jupyter-widgets/controls",
      "_model_module_version": "1.5.0",
      "_model_name": "DescriptionStyleModel",
      "_view_count": null,
      "_view_module": "@jupyter-widgets/base",
      "_view_module_version": "1.2.0",
      "_view_name": "StyleView",
      "description_width": ""
     }
    },
    "aef9816f666c4621ad36a6ac1259ab5c": {
     "model_module": "@jupyter-widgets/controls",
     "model_module_version": "1.5.0",
     "model_name": "ProgressStyleModel",
     "state": {
      "_model_module": "@jupyter-widgets/controls",
      "_model_module_version": "1.5.0",
      "_model_name": "ProgressStyleModel",
      "_view_count": null,
      "_view_module": "@jupyter-widgets/base",
      "_view_module_version": "1.2.0",
      "_view_name": "StyleView",
      "bar_color": null,
      "description_width": ""
     }
    },
    "b05b962aa09c436a92e4e5613fd63087": {
     "model_module": "@jupyter-widgets/base",
     "model_module_version": "1.2.0",
     "model_name": "LayoutModel",
     "state": {
      "_model_module": "@jupyter-widgets/base",
      "_model_module_version": "1.2.0",
      "_model_name": "LayoutModel",
      "_view_count": null,
      "_view_module": "@jupyter-widgets/base",
      "_view_module_version": "1.2.0",
      "_view_name": "LayoutView",
      "align_content": null,
      "align_items": null,
      "align_self": null,
      "border": null,
      "bottom": null,
      "display": null,
      "flex": null,
      "flex_flow": null,
      "grid_area": null,
      "grid_auto_columns": null,
      "grid_auto_flow": null,
      "grid_auto_rows": null,
      "grid_column": null,
      "grid_gap": null,
      "grid_row": null,
      "grid_template_areas": null,
      "grid_template_columns": null,
      "grid_template_rows": null,
      "height": null,
      "justify_content": null,
      "justify_items": null,
      "left": null,
      "margin": null,
      "max_height": null,
      "max_width": null,
      "min_height": null,
      "min_width": null,
      "object_fit": null,
      "object_position": null,
      "order": null,
      "overflow": null,
      "overflow_x": null,
      "overflow_y": null,
      "padding": null,
      "right": null,
      "top": null,
      "visibility": null,
      "width": null
     }
    },
    "b2e56d6001ba4ad18045d6afdfec9c34": {
     "model_module": "@jupyter-widgets/controls",
     "model_module_version": "1.5.0",
     "model_name": "HBoxModel",
     "state": {
      "_dom_classes": [],
      "_model_module": "@jupyter-widgets/controls",
      "_model_module_version": "1.5.0",
      "_model_name": "HBoxModel",
      "_view_count": null,
      "_view_module": "@jupyter-widgets/controls",
      "_view_module_version": "1.5.0",
      "_view_name": "HBoxView",
      "box_style": "",
      "children": [
       "IPY_MODEL_17e816a93264492e91f2c6b416604474",
       "IPY_MODEL_ffddaffe2cc14f13a161c86cc46d4579",
       "IPY_MODEL_61fc453526f541cab9ac1597053bed21"
      ],
      "layout": "IPY_MODEL_f8b15b6f1b204d74bf2937904484bc17"
     }
    },
    "b4d5a950e16146f5a6a96597a0b0c6bc": {
     "model_module": "@jupyter-widgets/base",
     "model_module_version": "1.2.0",
     "model_name": "LayoutModel",
     "state": {
      "_model_module": "@jupyter-widgets/base",
      "_model_module_version": "1.2.0",
      "_model_name": "LayoutModel",
      "_view_count": null,
      "_view_module": "@jupyter-widgets/base",
      "_view_module_version": "1.2.0",
      "_view_name": "LayoutView",
      "align_content": null,
      "align_items": null,
      "align_self": null,
      "border": null,
      "bottom": null,
      "display": null,
      "flex": null,
      "flex_flow": null,
      "grid_area": null,
      "grid_auto_columns": null,
      "grid_auto_flow": null,
      "grid_auto_rows": null,
      "grid_column": null,
      "grid_gap": null,
      "grid_row": null,
      "grid_template_areas": null,
      "grid_template_columns": null,
      "grid_template_rows": null,
      "height": null,
      "justify_content": null,
      "justify_items": null,
      "left": null,
      "margin": null,
      "max_height": null,
      "max_width": null,
      "min_height": null,
      "min_width": null,
      "object_fit": null,
      "object_position": null,
      "order": null,
      "overflow": null,
      "overflow_x": null,
      "overflow_y": null,
      "padding": null,
      "right": null,
      "top": null,
      "visibility": null,
      "width": null
     }
    },
    "b55fde24276342baa88e10413e999d39": {
     "model_module": "@jupyter-widgets/controls",
     "model_module_version": "1.5.0",
     "model_name": "HTMLModel",
     "state": {
      "_dom_classes": [],
      "_model_module": "@jupyter-widgets/controls",
      "_model_module_version": "1.5.0",
      "_model_name": "HTMLModel",
      "_view_count": null,
      "_view_module": "@jupyter-widgets/controls",
      "_view_module_version": "1.5.0",
      "_view_name": "HTMLView",
      "description": "",
      "description_tooltip": null,
      "layout": "IPY_MODEL_ab08b582a50641e0966114cdac321483",
      "placeholder": "​",
      "style": "IPY_MODEL_585261dbedf14ac18c194d2761bfd39e",
      "value": "  0%"
     }
    },
    "b5cdb1306cb34e24918697bbfe5ddc99": {
     "model_module": "@jupyter-widgets/base",
     "model_module_version": "1.2.0",
     "model_name": "LayoutModel",
     "state": {
      "_model_module": "@jupyter-widgets/base",
      "_model_module_version": "1.2.0",
      "_model_name": "LayoutModel",
      "_view_count": null,
      "_view_module": "@jupyter-widgets/base",
      "_view_module_version": "1.2.0",
      "_view_name": "LayoutView",
      "align_content": null,
      "align_items": null,
      "align_self": null,
      "border": null,
      "bottom": null,
      "display": null,
      "flex": null,
      "flex_flow": null,
      "grid_area": null,
      "grid_auto_columns": null,
      "grid_auto_flow": null,
      "grid_auto_rows": null,
      "grid_column": null,
      "grid_gap": null,
      "grid_row": null,
      "grid_template_areas": null,
      "grid_template_columns": null,
      "grid_template_rows": null,
      "height": null,
      "justify_content": null,
      "justify_items": null,
      "left": null,
      "margin": null,
      "max_height": null,
      "max_width": null,
      "min_height": null,
      "min_width": null,
      "object_fit": null,
      "object_position": null,
      "order": null,
      "overflow": null,
      "overflow_x": null,
      "overflow_y": null,
      "padding": null,
      "right": null,
      "top": null,
      "visibility": null,
      "width": null
     }
    },
    "b6254acdf1834c4c8b18fa2e16a415da": {
     "model_module": "@jupyter-widgets/controls",
     "model_module_version": "1.5.0",
     "model_name": "ProgressStyleModel",
     "state": {
      "_model_module": "@jupyter-widgets/controls",
      "_model_module_version": "1.5.0",
      "_model_name": "ProgressStyleModel",
      "_view_count": null,
      "_view_module": "@jupyter-widgets/base",
      "_view_module_version": "1.2.0",
      "_view_name": "StyleView",
      "bar_color": null,
      "description_width": ""
     }
    },
    "b74e156c6d0644b788978bba5371d448": {
     "model_module": "@jupyter-widgets/controls",
     "model_module_version": "1.5.0",
     "model_name": "HTMLModel",
     "state": {
      "_dom_classes": [],
      "_model_module": "@jupyter-widgets/controls",
      "_model_module_version": "1.5.0",
      "_model_name": "HTMLModel",
      "_view_count": null,
      "_view_module": "@jupyter-widgets/controls",
      "_view_module_version": "1.5.0",
      "_view_name": "HTMLView",
      "description": "",
      "description_tooltip": null,
      "layout": "IPY_MODEL_fc63acd99d1940d99702e2a844de3cc4",
      "placeholder": "​",
      "style": "IPY_MODEL_c205a0efa2d74b9ca8175663ad2504de",
      "value": " 1.29M/1.29M [00:00&lt;00:00, 1.82MB/s]"
     }
    },
    "bc5b787f19af4c29aeabb5f4c832d79d": {
     "model_module": "@jupyter-widgets/controls",
     "model_module_version": "1.5.0",
     "model_name": "FloatProgressModel",
     "state": {
      "_dom_classes": [],
      "_model_module": "@jupyter-widgets/controls",
      "_model_module_version": "1.5.0",
      "_model_name": "FloatProgressModel",
      "_view_count": null,
      "_view_module": "@jupyter-widgets/controls",
      "_view_module_version": "1.5.0",
      "_view_name": "ProgressView",
      "bar_style": "success",
      "description": "",
      "description_tooltip": null,
      "layout": "IPY_MODEL_499e414255c14e80bf4aa4a12b1b6e3c",
      "max": 1355863,
      "min": 0,
      "orientation": "horizontal",
      "style": "IPY_MODEL_6ea347172e20492c9dbf0d6b924475ac",
      "value": 1355863
     }
    },
    "bfc14eb1d87b4d8f83c58e68bcedd7d9": {
     "model_module": "@jupyter-widgets/base",
     "model_module_version": "1.2.0",
     "model_name": "LayoutModel",
     "state": {
      "_model_module": "@jupyter-widgets/base",
      "_model_module_version": "1.2.0",
      "_model_name": "LayoutModel",
      "_view_count": null,
      "_view_module": "@jupyter-widgets/base",
      "_view_module_version": "1.2.0",
      "_view_name": "LayoutView",
      "align_content": null,
      "align_items": null,
      "align_self": null,
      "border": null,
      "bottom": null,
      "display": null,
      "flex": null,
      "flex_flow": null,
      "grid_area": null,
      "grid_auto_columns": null,
      "grid_auto_flow": null,
      "grid_auto_rows": null,
      "grid_column": null,
      "grid_gap": null,
      "grid_row": null,
      "grid_template_areas": null,
      "grid_template_columns": null,
      "grid_template_rows": null,
      "height": null,
      "justify_content": null,
      "justify_items": null,
      "left": null,
      "margin": null,
      "max_height": null,
      "max_width": null,
      "min_height": null,
      "min_width": null,
      "object_fit": null,
      "object_position": null,
      "order": null,
      "overflow": null,
      "overflow_x": null,
      "overflow_y": null,
      "padding": null,
      "right": null,
      "top": null,
      "visibility": null,
      "width": null
     }
    },
    "c045b1c3d8a04fda96b4129d4955350b": {
     "model_module": "@jupyter-widgets/controls",
     "model_module_version": "1.5.0",
     "model_name": "HTMLModel",
     "state": {
      "_dom_classes": [],
      "_model_module": "@jupyter-widgets/controls",
      "_model_module_version": "1.5.0",
      "_model_name": "HTMLModel",
      "_view_count": null,
      "_view_module": "@jupyter-widgets/controls",
      "_view_module_version": "1.5.0",
      "_view_name": "HTMLView",
      "description": "",
      "description_tooltip": null,
      "layout": "IPY_MODEL_a85ab5ece2604033997f5f154b6fc569",
      "placeholder": "​",
      "style": "IPY_MODEL_6ce6c0d3083b47d4b0a80f9d8e683de1",
      "value": "Epochs 0/2. Running Loss:    0.2507: 100%"
     }
    },
    "c17e83b816274cc8b11249149400848b": {
     "model_module": "@jupyter-widgets/controls",
     "model_module_version": "1.5.0",
     "model_name": "ProgressStyleModel",
     "state": {
      "_model_module": "@jupyter-widgets/controls",
      "_model_module_version": "1.5.0",
      "_model_name": "ProgressStyleModel",
      "_view_count": null,
      "_view_module": "@jupyter-widgets/base",
      "_view_module_version": "1.2.0",
      "_view_name": "StyleView",
      "bar_color": null,
      "description_width": ""
     }
    },
    "c205a0efa2d74b9ca8175663ad2504de": {
     "model_module": "@jupyter-widgets/controls",
     "model_module_version": "1.5.0",
     "model_name": "DescriptionStyleModel",
     "state": {
      "_model_module": "@jupyter-widgets/controls",
      "_model_module_version": "1.5.0",
      "_model_name": "DescriptionStyleModel",
      "_view_count": null,
      "_view_module": "@jupyter-widgets/base",
      "_view_module_version": "1.2.0",
      "_view_name": "StyleView",
      "description_width": ""
     }
    },
    "c2eee2295ca840a0a19858475dadbf50": {
     "model_module": "@jupyter-widgets/base",
     "model_module_version": "1.2.0",
     "model_name": "LayoutModel",
     "state": {
      "_model_module": "@jupyter-widgets/base",
      "_model_module_version": "1.2.0",
      "_model_name": "LayoutModel",
      "_view_count": null,
      "_view_module": "@jupyter-widgets/base",
      "_view_module_version": "1.2.0",
      "_view_name": "LayoutView",
      "align_content": null,
      "align_items": null,
      "align_self": null,
      "border": null,
      "bottom": null,
      "display": null,
      "flex": null,
      "flex_flow": null,
      "grid_area": null,
      "grid_auto_columns": null,
      "grid_auto_flow": null,
      "grid_auto_rows": null,
      "grid_column": null,
      "grid_gap": null,
      "grid_row": null,
      "grid_template_areas": null,
      "grid_template_columns": null,
      "grid_template_rows": null,
      "height": null,
      "justify_content": null,
      "justify_items": null,
      "left": null,
      "margin": null,
      "max_height": null,
      "max_width": null,
      "min_height": null,
      "min_width": null,
      "object_fit": null,
      "object_position": null,
      "order": null,
      "overflow": null,
      "overflow_x": null,
      "overflow_y": null,
      "padding": null,
      "right": null,
      "top": null,
      "visibility": null,
      "width": null
     }
    },
    "c715aec9fee046968e1ef54301e409bd": {
     "model_module": "@jupyter-widgets/controls",
     "model_module_version": "1.5.0",
     "model_name": "FloatProgressModel",
     "state": {
      "_dom_classes": [],
      "_model_module": "@jupyter-widgets/controls",
      "_model_module_version": "1.5.0",
      "_model_name": "FloatProgressModel",
      "_view_count": null,
      "_view_module": "@jupyter-widgets/controls",
      "_view_module_version": "1.5.0",
      "_view_name": "ProgressView",
      "bar_style": "danger",
      "description": "",
      "description_tooltip": null,
      "layout": "IPY_MODEL_0448e726b4d0430484ce2daf19d72378",
      "max": 1523,
      "min": 0,
      "orientation": "horizontal",
      "style": "IPY_MODEL_9317833159e447f1af71a976bec2c4a7",
      "value": 4
     }
    },
    "ca2dca8af0a548888892eb7ffb1a8659": {
     "model_module": "@jupyter-widgets/controls",
     "model_module_version": "1.5.0",
     "model_name": "ProgressStyleModel",
     "state": {
      "_model_module": "@jupyter-widgets/controls",
      "_model_module_version": "1.5.0",
      "_model_name": "ProgressStyleModel",
      "_view_count": null,
      "_view_module": "@jupyter-widgets/base",
      "_view_module_version": "1.2.0",
      "_view_name": "StyleView",
      "bar_color": null,
      "description_width": ""
     }
    },
    "ca32cf637a6046adbb84a4978c5b279a": {
     "model_module": "@jupyter-widgets/base",
     "model_module_version": "1.2.0",
     "model_name": "LayoutModel",
     "state": {
      "_model_module": "@jupyter-widgets/base",
      "_model_module_version": "1.2.0",
      "_model_name": "LayoutModel",
      "_view_count": null,
      "_view_module": "@jupyter-widgets/base",
      "_view_module_version": "1.2.0",
      "_view_name": "LayoutView",
      "align_content": null,
      "align_items": null,
      "align_self": null,
      "border": null,
      "bottom": null,
      "display": null,
      "flex": null,
      "flex_flow": null,
      "grid_area": null,
      "grid_auto_columns": null,
      "grid_auto_flow": null,
      "grid_auto_rows": null,
      "grid_column": null,
      "grid_gap": null,
      "grid_row": null,
      "grid_template_areas": null,
      "grid_template_columns": null,
      "grid_template_rows": null,
      "height": null,
      "justify_content": null,
      "justify_items": null,
      "left": null,
      "margin": null,
      "max_height": null,
      "max_width": null,
      "min_height": null,
      "min_width": null,
      "object_fit": null,
      "object_position": null,
      "order": null,
      "overflow": null,
      "overflow_x": null,
      "overflow_y": null,
      "padding": null,
      "right": null,
      "top": null,
      "visibility": null,
      "width": null
     }
    },
    "cd0f024a10c54afd86725e5a020143ce": {
     "model_module": "@jupyter-widgets/base",
     "model_module_version": "1.2.0",
     "model_name": "LayoutModel",
     "state": {
      "_model_module": "@jupyter-widgets/base",
      "_model_module_version": "1.2.0",
      "_model_name": "LayoutModel",
      "_view_count": null,
      "_view_module": "@jupyter-widgets/base",
      "_view_module_version": "1.2.0",
      "_view_name": "LayoutView",
      "align_content": null,
      "align_items": null,
      "align_self": null,
      "border": null,
      "bottom": null,
      "display": null,
      "flex": null,
      "flex_flow": null,
      "grid_area": null,
      "grid_auto_columns": null,
      "grid_auto_flow": null,
      "grid_auto_rows": null,
      "grid_column": null,
      "grid_gap": null,
      "grid_row": null,
      "grid_template_areas": null,
      "grid_template_columns": null,
      "grid_template_rows": null,
      "height": null,
      "justify_content": null,
      "justify_items": null,
      "left": null,
      "margin": null,
      "max_height": null,
      "max_width": null,
      "min_height": null,
      "min_width": null,
      "object_fit": null,
      "object_position": null,
      "order": null,
      "overflow": null,
      "overflow_x": null,
      "overflow_y": null,
      "padding": null,
      "right": null,
      "top": null,
      "visibility": null,
      "width": null
     }
    },
    "ce7b287a58fa49cb960ac3c06d628bec": {
     "model_module": "@jupyter-widgets/controls",
     "model_module_version": "1.5.0",
     "model_name": "DescriptionStyleModel",
     "state": {
      "_model_module": "@jupyter-widgets/controls",
      "_model_module_version": "1.5.0",
      "_model_name": "DescriptionStyleModel",
      "_view_count": null,
      "_view_module": "@jupyter-widgets/base",
      "_view_module_version": "1.2.0",
      "_view_name": "StyleView",
      "description_width": ""
     }
    },
    "d062a32548c34917a80eaa98fe6d482b": {
     "model_module": "@jupyter-widgets/controls",
     "model_module_version": "1.5.0",
     "model_name": "HTMLModel",
     "state": {
      "_dom_classes": [],
      "_model_module": "@jupyter-widgets/controls",
      "_model_module_version": "1.5.0",
      "_model_name": "HTMLModel",
      "_view_count": null,
      "_view_module": "@jupyter-widgets/controls",
      "_view_module_version": "1.5.0",
      "_view_name": "HTMLView",
      "description": "",
      "description_tooltip": null,
      "layout": "IPY_MODEL_6ad7de5f4a354634829269487a6acedf",
      "placeholder": "​",
      "style": "IPY_MODEL_f7a98d827c2045fba88b9ee2336565b1",
      "value": " 191/191 [00:04&lt;00:00, 41.07it/s]"
     }
    },
    "d47169bd150f441788c004eefad611e5": {
     "model_module": "@jupyter-widgets/controls",
     "model_module_version": "1.5.0",
     "model_name": "HBoxModel",
     "state": {
      "_dom_classes": [],
      "_model_module": "@jupyter-widgets/controls",
      "_model_module_version": "1.5.0",
      "_model_name": "HBoxModel",
      "_view_count": null,
      "_view_module": "@jupyter-widgets/controls",
      "_view_module_version": "1.5.0",
      "_view_name": "HBoxView",
      "box_style": "",
      "children": [
       "IPY_MODEL_a304a83866c84d3b8aa5d6cb060e4427",
       "IPY_MODEL_6e136800d7be4018b20b368de8129a43",
       "IPY_MODEL_dc6126dcc5264c648e960966b79395c9"
      ],
      "layout": "IPY_MODEL_78348a6e21bd4e6baa4dbd7c32747a2f"
     }
    },
    "d65d16d2991849d7891140d0336c1c2b": {
     "model_module": "@jupyter-widgets/controls",
     "model_module_version": "1.5.0",
     "model_name": "HTMLModel",
     "state": {
      "_dom_classes": [],
      "_model_module": "@jupyter-widgets/controls",
      "_model_module_version": "1.5.0",
      "_model_name": "HTMLModel",
      "_view_count": null,
      "_view_module": "@jupyter-widgets/controls",
      "_view_module_version": "1.5.0",
      "_view_name": "HTMLView",
      "description": "",
      "description_tooltip": null,
      "layout": "IPY_MODEL_25b80e4f82504402acb3c4472bbbada7",
      "placeholder": "​",
      "style": "IPY_MODEL_009b89fe86154cfe853858ff6685817e",
      "value": " 762/762 [01:30&lt;00:00,  8.85it/s]"
     }
    },
    "d8dd03f2688444c0b584ccd3f7588942": {
     "model_module": "@jupyter-widgets/base",
     "model_module_version": "1.2.0",
     "model_name": "LayoutModel",
     "state": {
      "_model_module": "@jupyter-widgets/base",
      "_model_module_version": "1.2.0",
      "_model_name": "LayoutModel",
      "_view_count": null,
      "_view_module": "@jupyter-widgets/base",
      "_view_module_version": "1.2.0",
      "_view_name": "LayoutView",
      "align_content": null,
      "align_items": null,
      "align_self": null,
      "border": null,
      "bottom": null,
      "display": null,
      "flex": null,
      "flex_flow": null,
      "grid_area": null,
      "grid_auto_columns": null,
      "grid_auto_flow": null,
      "grid_auto_rows": null,
      "grid_column": null,
      "grid_gap": null,
      "grid_row": null,
      "grid_template_areas": null,
      "grid_template_columns": null,
      "grid_template_rows": null,
      "height": null,
      "justify_content": null,
      "justify_items": null,
      "left": null,
      "margin": null,
      "max_height": null,
      "max_width": null,
      "min_height": null,
      "min_width": null,
      "object_fit": null,
      "object_position": null,
      "order": null,
      "overflow": null,
      "overflow_x": null,
      "overflow_y": null,
      "padding": null,
      "right": null,
      "top": null,
      "visibility": null,
      "width": null
     }
    },
    "da2831be2b0b41b3a41d6f569aaaf52d": {
     "model_module": "@jupyter-widgets/controls",
     "model_module_version": "1.5.0",
     "model_name": "DescriptionStyleModel",
     "state": {
      "_model_module": "@jupyter-widgets/controls",
      "_model_module_version": "1.5.0",
      "_model_name": "DescriptionStyleModel",
      "_view_count": null,
      "_view_module": "@jupyter-widgets/base",
      "_view_module_version": "1.2.0",
      "_view_name": "StyleView",
      "description_width": ""
     }
    },
    "db71fa609f4b41d79dedc21d26cc487f": {
     "model_module": "@jupyter-widgets/base",
     "model_module_version": "1.2.0",
     "model_name": "LayoutModel",
     "state": {
      "_model_module": "@jupyter-widgets/base",
      "_model_module_version": "1.2.0",
      "_model_name": "LayoutModel",
      "_view_count": null,
      "_view_module": "@jupyter-widgets/base",
      "_view_module_version": "1.2.0",
      "_view_name": "LayoutView",
      "align_content": null,
      "align_items": null,
      "align_self": null,
      "border": null,
      "bottom": null,
      "display": null,
      "flex": null,
      "flex_flow": null,
      "grid_area": null,
      "grid_auto_columns": null,
      "grid_auto_flow": null,
      "grid_auto_rows": null,
      "grid_column": null,
      "grid_gap": null,
      "grid_row": null,
      "grid_template_areas": null,
      "grid_template_columns": null,
      "grid_template_rows": null,
      "height": null,
      "justify_content": null,
      "justify_items": null,
      "left": null,
      "margin": null,
      "max_height": null,
      "max_width": null,
      "min_height": null,
      "min_width": null,
      "object_fit": null,
      "object_position": null,
      "order": null,
      "overflow": null,
      "overflow_x": null,
      "overflow_y": null,
      "padding": null,
      "right": null,
      "top": null,
      "visibility": null,
      "width": null
     }
    },
    "dc6126dcc5264c648e960966b79395c9": {
     "model_module": "@jupyter-widgets/controls",
     "model_module_version": "1.5.0",
     "model_name": "HTMLModel",
     "state": {
      "_dom_classes": [],
      "_model_module": "@jupyter-widgets/controls",
      "_model_module_version": "1.5.0",
      "_model_name": "HTMLModel",
      "_view_count": null,
      "_view_module": "@jupyter-widgets/controls",
      "_view_module_version": "1.5.0",
      "_view_name": "HTMLView",
      "description": "",
      "description_tooltip": null,
      "layout": "IPY_MODEL_71dcd78ce3694909b002537ac87b227b",
      "placeholder": "​",
      "style": "IPY_MODEL_10b5f8c3135247f6a41f76a1e69b1ec4",
      "value": " 2/2 [03:11&lt;00:00, 95.92s/it]"
     }
    },
    "dd2ddb98765e46e19ad257ee342ea0aa": {
     "model_module": "@jupyter-widgets/controls",
     "model_module_version": "1.5.0",
     "model_name": "HBoxModel",
     "state": {
      "_dom_classes": [],
      "_model_module": "@jupyter-widgets/controls",
      "_model_module_version": "1.5.0",
      "_model_name": "HBoxModel",
      "_view_count": null,
      "_view_module": "@jupyter-widgets/controls",
      "_view_module_version": "1.5.0",
      "_view_name": "HBoxView",
      "box_style": "",
      "children": [
       "IPY_MODEL_298940da29394751a5f505947036ef1b",
       "IPY_MODEL_69b55d7eb9da4a99b861062ef271aed1",
       "IPY_MODEL_4706d6aed8574def8d01352aa5c5f2e7"
      ],
      "layout": "IPY_MODEL_571505051db94f3f8508f0796a9972a4"
     }
    },
    "e1d43fe8271a4851960bbac05865dc82": {
     "model_module": "@jupyter-widgets/controls",
     "model_module_version": "1.5.0",
     "model_name": "DescriptionStyleModel",
     "state": {
      "_model_module": "@jupyter-widgets/controls",
      "_model_module_version": "1.5.0",
      "_model_name": "DescriptionStyleModel",
      "_view_count": null,
      "_view_module": "@jupyter-widgets/base",
      "_view_module_version": "1.2.0",
      "_view_name": "StyleView",
      "description_width": ""
     }
    },
    "e24781ae06474a298077932d2b2c9e70": {
     "model_module": "@jupyter-widgets/controls",
     "model_module_version": "1.5.0",
     "model_name": "DescriptionStyleModel",
     "state": {
      "_model_module": "@jupyter-widgets/controls",
      "_model_module_version": "1.5.0",
      "_model_name": "DescriptionStyleModel",
      "_view_count": null,
      "_view_module": "@jupyter-widgets/base",
      "_view_module_version": "1.2.0",
      "_view_name": "StyleView",
      "description_width": ""
     }
    },
    "e361a8018ebf422687ebea53e2d3ec2a": {
     "model_module": "@jupyter-widgets/base",
     "model_module_version": "1.2.0",
     "model_name": "LayoutModel",
     "state": {
      "_model_module": "@jupyter-widgets/base",
      "_model_module_version": "1.2.0",
      "_model_name": "LayoutModel",
      "_view_count": null,
      "_view_module": "@jupyter-widgets/base",
      "_view_module_version": "1.2.0",
      "_view_name": "LayoutView",
      "align_content": null,
      "align_items": null,
      "align_self": null,
      "border": null,
      "bottom": null,
      "display": null,
      "flex": null,
      "flex_flow": null,
      "grid_area": null,
      "grid_auto_columns": null,
      "grid_auto_flow": null,
      "grid_auto_rows": null,
      "grid_column": null,
      "grid_gap": null,
      "grid_row": null,
      "grid_template_areas": null,
      "grid_template_columns": null,
      "grid_template_rows": null,
      "height": null,
      "justify_content": null,
      "justify_items": null,
      "left": null,
      "margin": null,
      "max_height": null,
      "max_width": null,
      "min_height": null,
      "min_width": null,
      "object_fit": null,
      "object_position": null,
      "order": null,
      "overflow": null,
      "overflow_x": null,
      "overflow_y": null,
      "padding": null,
      "right": null,
      "top": null,
      "visibility": null,
      "width": null
     }
    },
    "e3729914022f4095bcff86406d92b68f": {
     "model_module": "@jupyter-widgets/base",
     "model_module_version": "1.2.0",
     "model_name": "LayoutModel",
     "state": {
      "_model_module": "@jupyter-widgets/base",
      "_model_module_version": "1.2.0",
      "_model_name": "LayoutModel",
      "_view_count": null,
      "_view_module": "@jupyter-widgets/base",
      "_view_module_version": "1.2.0",
      "_view_name": "LayoutView",
      "align_content": null,
      "align_items": null,
      "align_self": null,
      "border": null,
      "bottom": null,
      "display": null,
      "flex": null,
      "flex_flow": null,
      "grid_area": null,
      "grid_auto_columns": null,
      "grid_auto_flow": null,
      "grid_auto_rows": null,
      "grid_column": null,
      "grid_gap": null,
      "grid_row": null,
      "grid_template_areas": null,
      "grid_template_columns": null,
      "grid_template_rows": null,
      "height": null,
      "justify_content": null,
      "justify_items": null,
      "left": null,
      "margin": null,
      "max_height": null,
      "max_width": null,
      "min_height": null,
      "min_width": null,
      "object_fit": null,
      "object_position": null,
      "order": null,
      "overflow": null,
      "overflow_x": null,
      "overflow_y": null,
      "padding": null,
      "right": null,
      "top": null,
      "visibility": null,
      "width": null
     }
    },
    "eab1dcc183cc4b11add4d6a80707a508": {
     "model_module": "@jupyter-widgets/controls",
     "model_module_version": "1.5.0",
     "model_name": "HTMLModel",
     "state": {
      "_dom_classes": [],
      "_model_module": "@jupyter-widgets/controls",
      "_model_module_version": "1.5.0",
      "_model_name": "HTMLModel",
      "_view_count": null,
      "_view_module": "@jupyter-widgets/controls",
      "_view_module_version": "1.5.0",
      "_view_name": "HTMLView",
      "description": "",
      "description_tooltip": null,
      "layout": "IPY_MODEL_55800f4f486145e9ba9a3cca69a286f3",
      "placeholder": "​",
      "style": "IPY_MODEL_9bdfd29307dc4fbe8949e0550d231bca",
      "value": "  0%"
     }
    },
    "ee2d8a3c4ef741c4ae98f01e6b87a577": {
     "model_module": "@jupyter-widgets/base",
     "model_module_version": "1.2.0",
     "model_name": "LayoutModel",
     "state": {
      "_model_module": "@jupyter-widgets/base",
      "_model_module_version": "1.2.0",
      "_model_name": "LayoutModel",
      "_view_count": null,
      "_view_module": "@jupyter-widgets/base",
      "_view_module_version": "1.2.0",
      "_view_name": "LayoutView",
      "align_content": null,
      "align_items": null,
      "align_self": null,
      "border": null,
      "bottom": null,
      "display": null,
      "flex": null,
      "flex_flow": null,
      "grid_area": null,
      "grid_auto_columns": null,
      "grid_auto_flow": null,
      "grid_auto_rows": null,
      "grid_column": null,
      "grid_gap": null,
      "grid_row": null,
      "grid_template_areas": null,
      "grid_template_columns": null,
      "grid_template_rows": null,
      "height": null,
      "justify_content": null,
      "justify_items": null,
      "left": null,
      "margin": null,
      "max_height": null,
      "max_width": null,
      "min_height": null,
      "min_width": null,
      "object_fit": null,
      "object_position": null,
      "order": null,
      "overflow": null,
      "overflow_x": null,
      "overflow_y": null,
      "padding": null,
      "right": null,
      "top": null,
      "visibility": null,
      "width": null
     }
    },
    "ee7e3bfd2add4c0496d9b5287da93444": {
     "model_module": "@jupyter-widgets/controls",
     "model_module_version": "1.5.0",
     "model_name": "FloatProgressModel",
     "state": {
      "_dom_classes": [],
      "_model_module": "@jupyter-widgets/controls",
      "_model_module_version": "1.5.0",
      "_model_name": "FloatProgressModel",
      "_view_count": null,
      "_view_module": "@jupyter-widgets/controls",
      "_view_module_version": "1.5.0",
      "_view_name": "ProgressView",
      "bar_style": "success",
      "description": "",
      "description_tooltip": null,
      "layout": "IPY_MODEL_a2197a53d8d54510834648976f69f01f",
      "max": 191,
      "min": 0,
      "orientation": "horizontal",
      "style": "IPY_MODEL_ef7d6c28051b47fd93a5c488e85caa62",
      "value": 191
     }
    },
    "ef7d6c28051b47fd93a5c488e85caa62": {
     "model_module": "@jupyter-widgets/controls",
     "model_module_version": "1.5.0",
     "model_name": "ProgressStyleModel",
     "state": {
      "_model_module": "@jupyter-widgets/controls",
      "_model_module_version": "1.5.0",
      "_model_name": "ProgressStyleModel",
      "_view_count": null,
      "_view_module": "@jupyter-widgets/base",
      "_view_module_version": "1.2.0",
      "_view_name": "StyleView",
      "bar_color": null,
      "description_width": ""
     }
    },
    "f0f7c1d50b484d469dd0bc3cebfeb199": {
     "model_module": "@jupyter-widgets/controls",
     "model_module_version": "1.5.0",
     "model_name": "HTMLModel",
     "state": {
      "_dom_classes": [],
      "_model_module": "@jupyter-widgets/controls",
      "_model_module_version": "1.5.0",
      "_model_name": "HTMLModel",
      "_view_count": null,
      "_view_module": "@jupyter-widgets/controls",
      "_view_module_version": "1.5.0",
      "_view_name": "HTMLView",
      "description": "",
      "description_tooltip": null,
      "layout": "IPY_MODEL_908a892e027a4f9dbf9baeac4deffd22",
      "placeholder": "​",
      "style": "IPY_MODEL_508a6a0664914e6fad8619c84e6822f9",
      "value": " 13/6090 [00:02&lt;12:52,  7.87it/s]"
     }
    },
    "f365f34d2b3741cda3a120d7e781f38a": {
     "model_module": "@jupyter-widgets/base",
     "model_module_version": "1.2.0",
     "model_name": "LayoutModel",
     "state": {
      "_model_module": "@jupyter-widgets/base",
      "_model_module_version": "1.2.0",
      "_model_name": "LayoutModel",
      "_view_count": null,
      "_view_module": "@jupyter-widgets/base",
      "_view_module_version": "1.2.0",
      "_view_name": "LayoutView",
      "align_content": null,
      "align_items": null,
      "align_self": null,
      "border": null,
      "bottom": null,
      "display": null,
      "flex": null,
      "flex_flow": null,
      "grid_area": null,
      "grid_auto_columns": null,
      "grid_auto_flow": null,
      "grid_auto_rows": null,
      "grid_column": null,
      "grid_gap": null,
      "grid_row": null,
      "grid_template_areas": null,
      "grid_template_columns": null,
      "grid_template_rows": null,
      "height": null,
      "justify_content": null,
      "justify_items": null,
      "left": null,
      "margin": null,
      "max_height": null,
      "max_width": null,
      "min_height": null,
      "min_width": null,
      "object_fit": null,
      "object_position": null,
      "order": null,
      "overflow": null,
      "overflow_x": null,
      "overflow_y": null,
      "padding": null,
      "right": null,
      "top": null,
      "visibility": null,
      "width": null
     }
    },
    "f6ad1ad2b69c4fcbb7c53adb6cdd40e5": {
     "model_module": "@jupyter-widgets/base",
     "model_module_version": "1.2.0",
     "model_name": "LayoutModel",
     "state": {
      "_model_module": "@jupyter-widgets/base",
      "_model_module_version": "1.2.0",
      "_model_name": "LayoutModel",
      "_view_count": null,
      "_view_module": "@jupyter-widgets/base",
      "_view_module_version": "1.2.0",
      "_view_name": "LayoutView",
      "align_content": null,
      "align_items": null,
      "align_self": null,
      "border": null,
      "bottom": null,
      "display": null,
      "flex": null,
      "flex_flow": null,
      "grid_area": null,
      "grid_auto_columns": null,
      "grid_auto_flow": null,
      "grid_auto_rows": null,
      "grid_column": null,
      "grid_gap": null,
      "grid_row": null,
      "grid_template_areas": null,
      "grid_template_columns": null,
      "grid_template_rows": null,
      "height": null,
      "justify_content": null,
      "justify_items": null,
      "left": null,
      "margin": null,
      "max_height": null,
      "max_width": null,
      "min_height": null,
      "min_width": null,
      "object_fit": null,
      "object_position": null,
      "order": null,
      "overflow": null,
      "overflow_x": null,
      "overflow_y": null,
      "padding": null,
      "right": null,
      "top": null,
      "visibility": null,
      "width": null
     }
    },
    "f798a73ce6cf4fe6b66287c1daae3ff1": {
     "model_module": "@jupyter-widgets/controls",
     "model_module_version": "1.5.0",
     "model_name": "DescriptionStyleModel",
     "state": {
      "_model_module": "@jupyter-widgets/controls",
      "_model_module_version": "1.5.0",
      "_model_name": "DescriptionStyleModel",
      "_view_count": null,
      "_view_module": "@jupyter-widgets/base",
      "_view_module_version": "1.2.0",
      "_view_name": "StyleView",
      "description_width": ""
     }
    },
    "f7a98d827c2045fba88b9ee2336565b1": {
     "model_module": "@jupyter-widgets/controls",
     "model_module_version": "1.5.0",
     "model_name": "DescriptionStyleModel",
     "state": {
      "_model_module": "@jupyter-widgets/controls",
      "_model_module_version": "1.5.0",
      "_model_name": "DescriptionStyleModel",
      "_view_count": null,
      "_view_module": "@jupyter-widgets/base",
      "_view_module_version": "1.2.0",
      "_view_name": "StyleView",
      "description_width": ""
     }
    },
    "f7e40c08f24340fba38deb26b4ac3344": {
     "model_module": "@jupyter-widgets/base",
     "model_module_version": "1.2.0",
     "model_name": "LayoutModel",
     "state": {
      "_model_module": "@jupyter-widgets/base",
      "_model_module_version": "1.2.0",
      "_model_name": "LayoutModel",
      "_view_count": null,
      "_view_module": "@jupyter-widgets/base",
      "_view_module_version": "1.2.0",
      "_view_name": "LayoutView",
      "align_content": null,
      "align_items": null,
      "align_self": null,
      "border": null,
      "bottom": null,
      "display": null,
      "flex": null,
      "flex_flow": null,
      "grid_area": null,
      "grid_auto_columns": null,
      "grid_auto_flow": null,
      "grid_auto_rows": null,
      "grid_column": null,
      "grid_gap": null,
      "grid_row": null,
      "grid_template_areas": null,
      "grid_template_columns": null,
      "grid_template_rows": null,
      "height": null,
      "justify_content": null,
      "justify_items": null,
      "left": null,
      "margin": null,
      "max_height": null,
      "max_width": null,
      "min_height": null,
      "min_width": null,
      "object_fit": null,
      "object_position": null,
      "order": null,
      "overflow": null,
      "overflow_x": null,
      "overflow_y": null,
      "padding": null,
      "right": null,
      "top": null,
      "visibility": null,
      "width": null
     }
    },
    "f8b15b6f1b204d74bf2937904484bc17": {
     "model_module": "@jupyter-widgets/base",
     "model_module_version": "1.2.0",
     "model_name": "LayoutModel",
     "state": {
      "_model_module": "@jupyter-widgets/base",
      "_model_module_version": "1.2.0",
      "_model_name": "LayoutModel",
      "_view_count": null,
      "_view_module": "@jupyter-widgets/base",
      "_view_module_version": "1.2.0",
      "_view_name": "LayoutView",
      "align_content": null,
      "align_items": null,
      "align_self": null,
      "border": null,
      "bottom": null,
      "display": null,
      "flex": null,
      "flex_flow": null,
      "grid_area": null,
      "grid_auto_columns": null,
      "grid_auto_flow": null,
      "grid_auto_rows": null,
      "grid_column": null,
      "grid_gap": null,
      "grid_row": null,
      "grid_template_areas": null,
      "grid_template_columns": null,
      "grid_template_rows": null,
      "height": null,
      "justify_content": null,
      "justify_items": null,
      "left": null,
      "margin": null,
      "max_height": null,
      "max_width": null,
      "min_height": null,
      "min_width": null,
      "object_fit": null,
      "object_position": null,
      "order": null,
      "overflow": null,
      "overflow_x": null,
      "overflow_y": null,
      "padding": null,
      "right": null,
      "top": null,
      "visibility": null,
      "width": null
     }
    },
    "fc30b16c48964856814d99c5d9d2cc65": {
     "model_module": "@jupyter-widgets/base",
     "model_module_version": "1.2.0",
     "model_name": "LayoutModel",
     "state": {
      "_model_module": "@jupyter-widgets/base",
      "_model_module_version": "1.2.0",
      "_model_name": "LayoutModel",
      "_view_count": null,
      "_view_module": "@jupyter-widgets/base",
      "_view_module_version": "1.2.0",
      "_view_name": "LayoutView",
      "align_content": null,
      "align_items": null,
      "align_self": null,
      "border": null,
      "bottom": null,
      "display": null,
      "flex": null,
      "flex_flow": null,
      "grid_area": null,
      "grid_auto_columns": null,
      "grid_auto_flow": null,
      "grid_auto_rows": null,
      "grid_column": null,
      "grid_gap": null,
      "grid_row": null,
      "grid_template_areas": null,
      "grid_template_columns": null,
      "grid_template_rows": null,
      "height": null,
      "justify_content": null,
      "justify_items": null,
      "left": null,
      "margin": null,
      "max_height": null,
      "max_width": null,
      "min_height": null,
      "min_width": null,
      "object_fit": null,
      "object_position": null,
      "order": null,
      "overflow": null,
      "overflow_x": null,
      "overflow_y": null,
      "padding": null,
      "right": null,
      "top": null,
      "visibility": null,
      "width": null
     }
    },
    "fc63acd99d1940d99702e2a844de3cc4": {
     "model_module": "@jupyter-widgets/base",
     "model_module_version": "1.2.0",
     "model_name": "LayoutModel",
     "state": {
      "_model_module": "@jupyter-widgets/base",
      "_model_module_version": "1.2.0",
      "_model_name": "LayoutModel",
      "_view_count": null,
      "_view_module": "@jupyter-widgets/base",
      "_view_module_version": "1.2.0",
      "_view_name": "LayoutView",
      "align_content": null,
      "align_items": null,
      "align_self": null,
      "border": null,
      "bottom": null,
      "display": null,
      "flex": null,
      "flex_flow": null,
      "grid_area": null,
      "grid_auto_columns": null,
      "grid_auto_flow": null,
      "grid_auto_rows": null,
      "grid_column": null,
      "grid_gap": null,
      "grid_row": null,
      "grid_template_areas": null,
      "grid_template_columns": null,
      "grid_template_rows": null,
      "height": null,
      "justify_content": null,
      "justify_items": null,
      "left": null,
      "margin": null,
      "max_height": null,
      "max_width": null,
      "min_height": null,
      "min_width": null,
      "object_fit": null,
      "object_position": null,
      "order": null,
      "overflow": null,
      "overflow_x": null,
      "overflow_y": null,
      "padding": null,
      "right": null,
      "top": null,
      "visibility": null,
      "width": null
     }
    },
    "ffddaffe2cc14f13a161c86cc46d4579": {
     "model_module": "@jupyter-widgets/controls",
     "model_module_version": "1.5.0",
     "model_name": "FloatProgressModel",
     "state": {
      "_dom_classes": [],
      "_model_module": "@jupyter-widgets/controls",
      "_model_module_version": "1.5.0",
      "_model_name": "FloatProgressModel",
      "_view_count": null,
      "_view_module": "@jupyter-widgets/controls",
      "_view_module_version": "1.5.0",
      "_view_name": "ProgressView",
      "bar_style": "success",
      "description": "",
      "description_tooltip": null,
      "layout": "IPY_MODEL_9fb5358f7578469ab8a26dff9323927a",
      "max": 501200538,
      "min": 0,
      "orientation": "horizontal",
      "style": "IPY_MODEL_aef9816f666c4621ad36a6ac1259ab5c",
      "value": 501200538
     }
    }
   }
  }
 },
 "nbformat": 4,
 "nbformat_minor": 1
}
